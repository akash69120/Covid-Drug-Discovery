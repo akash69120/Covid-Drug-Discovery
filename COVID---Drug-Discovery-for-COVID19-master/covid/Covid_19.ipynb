{
  "nbformat": 4,
  "nbformat_minor": 0,
  "metadata": {
    "colab": {
      "name": "Covid-19",
      "provenance": [],
      "collapsed_sections": [],
      "toc_visible": true
    },
    "kernelspec": {
      "name": "python3",
      "display_name": "Python 3"
    }
  },
  "cells": [
    {
      "cell_type": "markdown",
      "metadata": {
        "id": "vh2CgPRM7BAQ",
        "colab_type": "text"
      },
      "source": [
        "**COVID - Drug Discovery for COVID19**"
      ]
    },
    {
      "cell_type": "markdown",
      "metadata": {
        "id": "4yYtHcfFyLuY",
        "colab_type": "text"
      },
      "source": [
        "The objective is to prepare a machine learning model that can be used to propose potential novel effective drugs to fight SARS-CoV-2, the virus responsible for COVID-19.\n",
        "\n",
        "You are provided with a dataset containing drug molecules (encoded as SMILES) and their binding affinities. The task is to use this dataset to make a regression model for binding affinity prediction."
      ]
    },
    {
      "cell_type": "markdown",
      "metadata": {
        "id": "w4KOr1__ycmR",
        "colab_type": "text"
      },
      "source": [
        "**About Dataset**\n",
        "\n",
        "\n",
        "SARS-CoV-2 virus contains proteins responsible for action and replication of the virus. The protein functions can be stopped by introducing drug molecules that are capable of blocking the protein. In other words, preparation of a drug involves finding molecules that can effectively bind to the protein i.e have a high binding affinity.\n",
        "In this task, you are provided with a dataset of drug molecules and their binding affinity towards SARS-CoronaVirus Main Proteaese(Mpro), one of the proteins in the target virus.\n",
        "The data has been generated using Protein-Ligand docking."
      ]
    },
    {
      "cell_type": "code",
      "metadata": {
        "id": "z5VvoiZjlmrJ",
        "colab_type": "code",
        "outputId": "1095e8d3-3922-4240-ca15-1d6faecdc8a9",
        "colab": {
          "base_uri": "https://localhost:8080/",
          "height": 34
        }
      },
      "source": [
        "from google.colab import drive\n",
        "drive.mount('/content/drive')"
      ],
      "execution_count": 8,
      "outputs": [
        {
          "output_type": "stream",
          "text": [
            "Drive already mounted at /content/drive; to attempt to forcibly remount, call drive.mount(\"/content/drive\", force_remount=True).\n"
          ],
          "name": "stdout"
        }
      ]
    },
    {
      "cell_type": "markdown",
      "metadata": {
        "id": "E0WWar6csMB6",
        "colab_type": "text"
      },
      "source": [
        "## ** To install rdkit use the below code**"
      ]
    },
    {
      "cell_type": "code",
      "metadata": {
        "id": "1H70tCg_qXqJ",
        "colab_type": "code",
        "outputId": "957cb707-642c-4341-9e79-18a06930b583",
        "colab": {
          "base_uri": "https://localhost:8080/",
          "height": 52
        }
      },
      "source": [
        "import sys\n",
        "import os\n",
        "import requests\n",
        "import subprocess\n",
        "import shutil\n",
        "from logging import getLogger, StreamHandler, INFO\n",
        "\n",
        "\n",
        "logger = getLogger(__name__)\n",
        "logger.addHandler(StreamHandler())\n",
        "logger.setLevel(INFO)\n",
        "\n",
        "\n",
        "def install(\n",
        "        chunk_size=4096,\n",
        "        file_name=\"Miniconda3-latest-Linux-x86_64.sh\",\n",
        "        url_base=\"https://repo.continuum.io/miniconda/\",\n",
        "        conda_path=os.path.expanduser(os.path.join(\"~\", \"miniconda\")),\n",
        "        rdkit_version=None,\n",
        "        add_python_path=True,\n",
        "        force=False):\n",
        "    \"\"\"install rdkit from miniconda\n",
        "    ```\n",
        "    import rdkit_installer\n",
        "    rdkit_installer.install()\n",
        "    ```\n",
        "    \"\"\"\n",
        "\n",
        "    python_path = os.path.join(\n",
        "        conda_path,\n",
        "        \"lib\",\n",
        "        \"python{0}.{1}\".format(*sys.version_info),\n",
        "        \"site-packages\",\n",
        "    )\n",
        "\n",
        "    if add_python_path and python_path not in sys.path:\n",
        "        logger.info(\"add {} to PYTHONPATH\".format(python_path))\n",
        "        sys.path.append(python_path)\n",
        "\n",
        "    if os.path.isdir(os.path.join(python_path, \"rdkit\")):\n",
        "        logger.info(\"rdkit is already installed\")\n",
        "        if not force:\n",
        "            return\n",
        "\n",
        "        logger.info(\"force re-install\")\n",
        "\n",
        "    url = url_base + file_name\n",
        "    python_version = \"{0}.{1}.{2}\".format(*sys.version_info)\n",
        "\n",
        "    logger.info(\"python version: {}\".format(python_version))\n",
        "\n",
        "    if os.path.isdir(conda_path):\n",
        "        logger.warning(\"remove current miniconda\")\n",
        "        shutil.rmtree(conda_path)\n",
        "    elif os.path.isfile(conda_path):\n",
        "        logger.warning(\"remove {}\".format(conda_path))\n",
        "        os.remove(conda_path)\n",
        "\n",
        "    logger.info('fetching installer from {}'.format(url))\n",
        "    res = requests.get(url, stream=True)\n",
        "    res.raise_for_status()\n",
        "    with open(file_name, 'wb') as f:\n",
        "        for chunk in res.iter_content(chunk_size):\n",
        "            f.write(chunk)\n",
        "    logger.info('done')\n",
        "\n",
        "    logger.info('installing miniconda to {}'.format(conda_path))\n",
        "    subprocess.check_call([\"bash\", file_name, \"-b\", \"-p\", conda_path])\n",
        "    logger.info('done')\n",
        "\n",
        "    logger.info(\"installing rdkit\")\n",
        "    subprocess.check_call([\n",
        "        os.path.join(conda_path, \"bin\", \"conda\"),\n",
        "        \"install\",\n",
        "        \"--yes\",\n",
        "        \"-c\", \"rdkit\",\n",
        "        \"python=={}\".format(python_version),\n",
        "        \"rdkit\" if rdkit_version is None else \"rdkit=={}\".format(rdkit_version)])\n",
        "    logger.info(\"done\")\n",
        "\n",
        "    import rdkit\n",
        "    logger.info(\"rdkit-{} installation finished!\".format(rdkit.__version__))\n",
        "\n",
        "\n",
        "if __name__ == \"__main__\":\n",
        "    install()"
      ],
      "execution_count": 9,
      "outputs": [
        {
          "output_type": "stream",
          "text": [
            "rdkit is already installed\n",
            "rdkit is already installed\n"
          ],
          "name": "stderr"
        }
      ]
    },
    {
      "cell_type": "markdown",
      "metadata": {
        "id": "-AxRlBHazk0c",
        "colab_type": "text"
      },
      "source": [
        "**Installing a package for mol2vec**"
      ]
    },
    {
      "cell_type": "code",
      "metadata": {
        "id": "-wTOpwJYrA9v",
        "colab_type": "code",
        "outputId": "1fcd87c3-4526-4ca4-b0f5-a05accc9a2b4",
        "colab": {
          "base_uri": "https://localhost:8080/",
          "height": 871
        }
      },
      "source": [
        "!pip install git+https://github.com/samoturk/mol2vec;"
      ],
      "execution_count": 4,
      "outputs": [
        {
          "output_type": "stream",
          "text": [
            "Collecting git+https://github.com/samoturk/mol2vec\n",
            "  Cloning https://github.com/samoturk/mol2vec to /tmp/pip-req-build-8uxng7x9\n",
            "  Running command git clone -q https://github.com/samoturk/mol2vec /tmp/pip-req-build-8uxng7x9\n",
            "Requirement already satisfied: numpy in /usr/local/lib/python3.6/dist-packages (from mol2vec==0.1) (1.18.3)\n",
            "Requirement already satisfied: gensim in /usr/local/lib/python3.6/dist-packages (from mol2vec==0.1) (3.6.0)\n",
            "Requirement already satisfied: tqdm in /usr/local/lib/python3.6/dist-packages (from mol2vec==0.1) (4.38.0)\n",
            "Requirement already satisfied: joblib in /usr/local/lib/python3.6/dist-packages (from mol2vec==0.1) (0.14.1)\n",
            "Requirement already satisfied: pandas in /usr/local/lib/python3.6/dist-packages (from mol2vec==0.1) (1.0.3)\n",
            "Requirement already satisfied: matplotlib in /usr/local/lib/python3.6/dist-packages (from mol2vec==0.1) (3.2.1)\n",
            "Requirement already satisfied: IPython in /usr/local/lib/python3.6/dist-packages (from mol2vec==0.1) (5.5.0)\n",
            "Requirement already satisfied: seaborn in /usr/local/lib/python3.6/dist-packages (from mol2vec==0.1) (0.10.0)\n",
            "Requirement already satisfied: scipy>=0.18.1 in /usr/local/lib/python3.6/dist-packages (from gensim->mol2vec==0.1) (1.4.1)\n",
            "Requirement already satisfied: six>=1.5.0 in /usr/local/lib/python3.6/dist-packages (from gensim->mol2vec==0.1) (1.12.0)\n",
            "Requirement already satisfied: smart-open>=1.2.1 in /usr/local/lib/python3.6/dist-packages (from gensim->mol2vec==0.1) (1.11.1)\n",
            "Requirement already satisfied: pytz>=2017.2 in /usr/local/lib/python3.6/dist-packages (from pandas->mol2vec==0.1) (2018.9)\n",
            "Requirement already satisfied: python-dateutil>=2.6.1 in /usr/local/lib/python3.6/dist-packages (from pandas->mol2vec==0.1) (2.8.1)\n",
            "Requirement already satisfied: pyparsing!=2.0.4,!=2.1.2,!=2.1.6,>=2.0.1 in /usr/local/lib/python3.6/dist-packages (from matplotlib->mol2vec==0.1) (2.4.7)\n",
            "Requirement already satisfied: kiwisolver>=1.0.1 in /usr/local/lib/python3.6/dist-packages (from matplotlib->mol2vec==0.1) (1.2.0)\n",
            "Requirement already satisfied: cycler>=0.10 in /usr/local/lib/python3.6/dist-packages (from matplotlib->mol2vec==0.1) (0.10.0)\n",
            "Requirement already satisfied: pygments in /usr/local/lib/python3.6/dist-packages (from IPython->mol2vec==0.1) (2.1.3)\n",
            "Requirement already satisfied: simplegeneric>0.8 in /usr/local/lib/python3.6/dist-packages (from IPython->mol2vec==0.1) (0.8.1)\n",
            "Requirement already satisfied: pickleshare in /usr/local/lib/python3.6/dist-packages (from IPython->mol2vec==0.1) (0.7.5)\n",
            "Requirement already satisfied: pexpect; sys_platform != \"win32\" in /usr/local/lib/python3.6/dist-packages (from IPython->mol2vec==0.1) (4.8.0)\n",
            "Requirement already satisfied: traitlets>=4.2 in /usr/local/lib/python3.6/dist-packages (from IPython->mol2vec==0.1) (4.3.3)\n",
            "Requirement already satisfied: setuptools>=18.5 in /usr/local/lib/python3.6/dist-packages (from IPython->mol2vec==0.1) (46.1.3)\n",
            "Requirement already satisfied: decorator in /usr/local/lib/python3.6/dist-packages (from IPython->mol2vec==0.1) (4.4.2)\n",
            "Requirement already satisfied: prompt-toolkit<2.0.0,>=1.0.4 in /usr/local/lib/python3.6/dist-packages (from IPython->mol2vec==0.1) (1.0.18)\n",
            "Requirement already satisfied: requests in /usr/local/lib/python3.6/dist-packages (from smart-open>=1.2.1->gensim->mol2vec==0.1) (2.21.0)\n",
            "Requirement already satisfied: boto in /usr/local/lib/python3.6/dist-packages (from smart-open>=1.2.1->gensim->mol2vec==0.1) (2.49.0)\n",
            "Requirement already satisfied: boto3 in /usr/local/lib/python3.6/dist-packages (from smart-open>=1.2.1->gensim->mol2vec==0.1) (1.12.46)\n",
            "Requirement already satisfied: ptyprocess>=0.5 in /usr/local/lib/python3.6/dist-packages (from pexpect; sys_platform != \"win32\"->IPython->mol2vec==0.1) (0.6.0)\n",
            "Requirement already satisfied: ipython-genutils in /usr/local/lib/python3.6/dist-packages (from traitlets>=4.2->IPython->mol2vec==0.1) (0.2.0)\n",
            "Requirement already satisfied: wcwidth in /usr/local/lib/python3.6/dist-packages (from prompt-toolkit<2.0.0,>=1.0.4->IPython->mol2vec==0.1) (0.1.9)\n",
            "Requirement already satisfied: urllib3<1.25,>=1.21.1 in /usr/local/lib/python3.6/dist-packages (from requests->smart-open>=1.2.1->gensim->mol2vec==0.1) (1.24.3)\n",
            "Requirement already satisfied: chardet<3.1.0,>=3.0.2 in /usr/local/lib/python3.6/dist-packages (from requests->smart-open>=1.2.1->gensim->mol2vec==0.1) (3.0.4)\n",
            "Requirement already satisfied: certifi>=2017.4.17 in /usr/local/lib/python3.6/dist-packages (from requests->smart-open>=1.2.1->gensim->mol2vec==0.1) (2020.4.5.1)\n",
            "Requirement already satisfied: idna<2.9,>=2.5 in /usr/local/lib/python3.6/dist-packages (from requests->smart-open>=1.2.1->gensim->mol2vec==0.1) (2.8)\n",
            "Requirement already satisfied: botocore<1.16.0,>=1.15.46 in /usr/local/lib/python3.6/dist-packages (from boto3->smart-open>=1.2.1->gensim->mol2vec==0.1) (1.15.46)\n",
            "Requirement already satisfied: s3transfer<0.4.0,>=0.3.0 in /usr/local/lib/python3.6/dist-packages (from boto3->smart-open>=1.2.1->gensim->mol2vec==0.1) (0.3.3)\n",
            "Requirement already satisfied: jmespath<1.0.0,>=0.7.1 in /usr/local/lib/python3.6/dist-packages (from boto3->smart-open>=1.2.1->gensim->mol2vec==0.1) (0.9.5)\n",
            "Requirement already satisfied: docutils<0.16,>=0.10 in /usr/local/lib/python3.6/dist-packages (from botocore<1.16.0,>=1.15.46->boto3->smart-open>=1.2.1->gensim->mol2vec==0.1) (0.15.2)\n",
            "Building wheels for collected packages: mol2vec\n",
            "  Building wheel for mol2vec (setup.py) ... \u001b[?25l\u001b[?25hdone\n",
            "  Created wheel for mol2vec: filename=mol2vec-0.1-cp36-none-any.whl size=14026 sha256=5f0c63de6bb59edcde3ae8e0dcae4544d177eef03b9ea0796e0b637ef15de9c5\n",
            "  Stored in directory: /tmp/pip-ephem-wheel-cache-l_ijpz99/wheels/96/0f/2d/a1092b9677c96453dc244b209544cac61bc8b974cbffb50063\n",
            "Successfully built mol2vec\n",
            "Installing collected packages: mol2vec\n",
            "Successfully installed mol2vec-0.1\n"
          ],
          "name": "stdout"
        }
      ]
    },
    {
      "cell_type": "code",
      "metadata": {
        "id": "yYkAOQTLsgxf",
        "colab_type": "code",
        "colab": {}
      },
      "source": [
        "#import the essential libraries\n",
        "\n",
        "\n",
        "%matplotlib inline\n",
        "\n",
        "import numpy as np\n",
        "import pandas as pd\n",
        "import matplotlib.pyplot as plt"
      ],
      "execution_count": 0,
      "outputs": []
    },
    {
      "cell_type": "code",
      "metadata": {
        "id": "ozSYVNdjsg6A",
        "colab_type": "code",
        "colab": {}
      },
      "source": [
        "train =  pd.read_csv('/content/drive/My Drive/covid/train.csv')"
      ],
      "execution_count": 0,
      "outputs": []
    },
    {
      "cell_type": "code",
      "metadata": {
        "id": "1C3UdEVhshAt",
        "colab_type": "code",
        "outputId": "cf190859-d353-4aa2-f4d1-aa0eeeea22d0",
        "colab": {
          "base_uri": "https://localhost:8080/",
          "height": 206
        }
      },
      "source": [
        "train.head()"
      ],
      "execution_count": 12,
      "outputs": [
        {
          "output_type": "execute_result",
          "data": {
            "text/html": [
              "<div>\n",
              "<style scoped>\n",
              "    .dataframe tbody tr th:only-of-type {\n",
              "        vertical-align: middle;\n",
              "    }\n",
              "\n",
              "    .dataframe tbody tr th {\n",
              "        vertical-align: top;\n",
              "    }\n",
              "\n",
              "    .dataframe thead th {\n",
              "        text-align: right;\n",
              "    }\n",
              "</style>\n",
              "<table border=\"1\" class=\"dataframe\">\n",
              "  <thead>\n",
              "    <tr style=\"text-align: right;\">\n",
              "      <th></th>\n",
              "      <th>SMILES sequence</th>\n",
              "      <th>Binding Affinity</th>\n",
              "    </tr>\n",
              "  </thead>\n",
              "  <tbody>\n",
              "    <tr>\n",
              "      <th>0</th>\n",
              "      <td>CCNC(C)C(NC)c1ccccc1</td>\n",
              "      <td>-18.0861</td>\n",
              "    </tr>\n",
              "    <tr>\n",
              "      <th>1</th>\n",
              "      <td>CONC(=O)c1cncnc1</td>\n",
              "      <td>-17.5783</td>\n",
              "    </tr>\n",
              "    <tr>\n",
              "      <th>2</th>\n",
              "      <td>CCNC1CCCN(Cc2ccsc2)C1</td>\n",
              "      <td>-20.3645</td>\n",
              "    </tr>\n",
              "    <tr>\n",
              "      <th>3</th>\n",
              "      <td>CC(NC(=O)CSCCN)c1ccccc1</td>\n",
              "      <td>-19.3144</td>\n",
              "    </tr>\n",
              "    <tr>\n",
              "      <th>4</th>\n",
              "      <td>CCC(CS)CN(C)c1ccccc1</td>\n",
              "      <td>-15.8451</td>\n",
              "    </tr>\n",
              "  </tbody>\n",
              "</table>\n",
              "</div>"
            ],
            "text/plain": [
              "           SMILES sequence  Binding Affinity\n",
              "0     CCNC(C)C(NC)c1ccccc1          -18.0861\n",
              "1         CONC(=O)c1cncnc1          -17.5783\n",
              "2    CCNC1CCCN(Cc2ccsc2)C1          -20.3645\n",
              "3  CC(NC(=O)CSCCN)c1ccccc1          -19.3144\n",
              "4     CCC(CS)CN(C)c1ccccc1          -15.8451"
            ]
          },
          "metadata": {
            "tags": []
          },
          "execution_count": 12
        }
      ]
    },
    {
      "cell_type": "code",
      "metadata": {
        "id": "ldofwBYlV2To",
        "colab_type": "code",
        "colab": {}
      },
      "source": [
        "\n",
        "train_aff = train['Binding Affinity']\n",
        "train.drop(columns='Binding Affinity',inplace=True)"
      ],
      "execution_count": 0,
      "outputs": []
    },
    {
      "cell_type": "code",
      "metadata": {
        "id": "GmdYWZG8WUY8",
        "colab_type": "code",
        "outputId": "460f25f9-18ed-494f-8618-930d76a12a9f",
        "colab": {
          "base_uri": "https://localhost:8080/",
          "height": 206
        }
      },
      "source": [
        "train.head()"
      ],
      "execution_count": 14,
      "outputs": [
        {
          "output_type": "execute_result",
          "data": {
            "text/html": [
              "<div>\n",
              "<style scoped>\n",
              "    .dataframe tbody tr th:only-of-type {\n",
              "        vertical-align: middle;\n",
              "    }\n",
              "\n",
              "    .dataframe tbody tr th {\n",
              "        vertical-align: top;\n",
              "    }\n",
              "\n",
              "    .dataframe thead th {\n",
              "        text-align: right;\n",
              "    }\n",
              "</style>\n",
              "<table border=\"1\" class=\"dataframe\">\n",
              "  <thead>\n",
              "    <tr style=\"text-align: right;\">\n",
              "      <th></th>\n",
              "      <th>SMILES sequence</th>\n",
              "    </tr>\n",
              "  </thead>\n",
              "  <tbody>\n",
              "    <tr>\n",
              "      <th>0</th>\n",
              "      <td>CCNC(C)C(NC)c1ccccc1</td>\n",
              "    </tr>\n",
              "    <tr>\n",
              "      <th>1</th>\n",
              "      <td>CONC(=O)c1cncnc1</td>\n",
              "    </tr>\n",
              "    <tr>\n",
              "      <th>2</th>\n",
              "      <td>CCNC1CCCN(Cc2ccsc2)C1</td>\n",
              "    </tr>\n",
              "    <tr>\n",
              "      <th>3</th>\n",
              "      <td>CC(NC(=O)CSCCN)c1ccccc1</td>\n",
              "    </tr>\n",
              "    <tr>\n",
              "      <th>4</th>\n",
              "      <td>CCC(CS)CN(C)c1ccccc1</td>\n",
              "    </tr>\n",
              "  </tbody>\n",
              "</table>\n",
              "</div>"
            ],
            "text/plain": [
              "           SMILES sequence\n",
              "0     CCNC(C)C(NC)c1ccccc1\n",
              "1         CONC(=O)c1cncnc1\n",
              "2    CCNC1CCCN(Cc2ccsc2)C1\n",
              "3  CC(NC(=O)CSCCN)c1ccccc1\n",
              "4     CCC(CS)CN(C)c1ccccc1"
            ]
          },
          "metadata": {
            "tags": []
          },
          "execution_count": 14
        }
      ]
    },
    {
      "cell_type": "code",
      "metadata": {
        "id": "epn3OMkpWZW-",
        "colab_type": "code",
        "outputId": "90b2c6cd-7165-4c5a-9052-d99cae24d1c8",
        "colab": {
          "base_uri": "https://localhost:8080/",
          "height": 121
        }
      },
      "source": [
        "#It stores the binding affinity\n",
        "train_aff.head()"
      ],
      "execution_count": 15,
      "outputs": [
        {
          "output_type": "execute_result",
          "data": {
            "text/plain": [
              "0   -18.0861\n",
              "1   -17.5783\n",
              "2   -20.3645\n",
              "3   -19.3144\n",
              "4   -15.8451\n",
              "Name: Binding Affinity, dtype: float64"
            ]
          },
          "metadata": {
            "tags": []
          },
          "execution_count": 15
        }
      ]
    },
    {
      "cell_type": "code",
      "metadata": {
        "id": "rGHyT2AnshIS",
        "colab_type": "code",
        "colab": {}
      },
      "source": [
        "test = pd.read_csv('/content/drive/My Drive/covid/test.csv')\n",
        "test_name = pd.read_csv('/content/drive/My Drive/covid/test.csv')## Creating this just as a copy of test data to create the csv using this later"
      ],
      "execution_count": 0,
      "outputs": []
    },
    {
      "cell_type": "code",
      "metadata": {
        "id": "3tPM7LjgtAoa",
        "colab_type": "code",
        "outputId": "68256809-0dca-49b9-b59e-bb5de3f96a3e",
        "colab": {
          "base_uri": "https://localhost:8080/",
          "height": 206
        }
      },
      "source": [
        "test.head()"
      ],
      "execution_count": 17,
      "outputs": [
        {
          "output_type": "execute_result",
          "data": {
            "text/html": [
              "<div>\n",
              "<style scoped>\n",
              "    .dataframe tbody tr th:only-of-type {\n",
              "        vertical-align: middle;\n",
              "    }\n",
              "\n",
              "    .dataframe tbody tr th {\n",
              "        vertical-align: top;\n",
              "    }\n",
              "\n",
              "    .dataframe thead th {\n",
              "        text-align: right;\n",
              "    }\n",
              "</style>\n",
              "<table border=\"1\" class=\"dataframe\">\n",
              "  <thead>\n",
              "    <tr style=\"text-align: right;\">\n",
              "      <th></th>\n",
              "      <th>SMILES sequence</th>\n",
              "      <th>Binding Affinity</th>\n",
              "    </tr>\n",
              "  </thead>\n",
              "  <tbody>\n",
              "    <tr>\n",
              "      <th>0</th>\n",
              "      <td>Cc1ccc(C2CNCCN2C)cc1</td>\n",
              "      <td>NaN</td>\n",
              "    </tr>\n",
              "    <tr>\n",
              "      <th>1</th>\n",
              "      <td>CCOC(CO)c1ccccc1</td>\n",
              "      <td>NaN</td>\n",
              "    </tr>\n",
              "    <tr>\n",
              "      <th>2</th>\n",
              "      <td>CC(=O)Nc1cnn(C)n1</td>\n",
              "      <td>NaN</td>\n",
              "    </tr>\n",
              "    <tr>\n",
              "      <th>3</th>\n",
              "      <td>CCC(C)NCc1ncccn1</td>\n",
              "      <td>NaN</td>\n",
              "    </tr>\n",
              "    <tr>\n",
              "      <th>4</th>\n",
              "      <td>CC(C)=C1CC(N)C1</td>\n",
              "      <td>NaN</td>\n",
              "    </tr>\n",
              "  </tbody>\n",
              "</table>\n",
              "</div>"
            ],
            "text/plain": [
              "        SMILES sequence  Binding Affinity\n",
              "0  Cc1ccc(C2CNCCN2C)cc1               NaN\n",
              "1      CCOC(CO)c1ccccc1               NaN\n",
              "2     CC(=O)Nc1cnn(C)n1               NaN\n",
              "3      CCC(C)NCc1ncccn1               NaN\n",
              "4       CC(C)=C1CC(N)C1               NaN"
            ]
          },
          "metadata": {
            "tags": []
          },
          "execution_count": 17
        }
      ]
    },
    {
      "cell_type": "code",
      "metadata": {
        "id": "_kh4GVrApMzM",
        "colab_type": "code",
        "outputId": "afa0ecec-9d4a-49d6-ce64-ba413cbdeb45",
        "colab": {
          "base_uri": "https://localhost:8080/",
          "height": 206
        }
      },
      "source": [
        "\n",
        "test_name.head()"
      ],
      "execution_count": 18,
      "outputs": [
        {
          "output_type": "execute_result",
          "data": {
            "text/html": [
              "<div>\n",
              "<style scoped>\n",
              "    .dataframe tbody tr th:only-of-type {\n",
              "        vertical-align: middle;\n",
              "    }\n",
              "\n",
              "    .dataframe tbody tr th {\n",
              "        vertical-align: top;\n",
              "    }\n",
              "\n",
              "    .dataframe thead th {\n",
              "        text-align: right;\n",
              "    }\n",
              "</style>\n",
              "<table border=\"1\" class=\"dataframe\">\n",
              "  <thead>\n",
              "    <tr style=\"text-align: right;\">\n",
              "      <th></th>\n",
              "      <th>SMILES sequence</th>\n",
              "      <th>Binding Affinity</th>\n",
              "    </tr>\n",
              "  </thead>\n",
              "  <tbody>\n",
              "    <tr>\n",
              "      <th>0</th>\n",
              "      <td>Cc1ccc(C2CNCCN2C)cc1</td>\n",
              "      <td>NaN</td>\n",
              "    </tr>\n",
              "    <tr>\n",
              "      <th>1</th>\n",
              "      <td>CCOC(CO)c1ccccc1</td>\n",
              "      <td>NaN</td>\n",
              "    </tr>\n",
              "    <tr>\n",
              "      <th>2</th>\n",
              "      <td>CC(=O)Nc1cnn(C)n1</td>\n",
              "      <td>NaN</td>\n",
              "    </tr>\n",
              "    <tr>\n",
              "      <th>3</th>\n",
              "      <td>CCC(C)NCc1ncccn1</td>\n",
              "      <td>NaN</td>\n",
              "    </tr>\n",
              "    <tr>\n",
              "      <th>4</th>\n",
              "      <td>CC(C)=C1CC(N)C1</td>\n",
              "      <td>NaN</td>\n",
              "    </tr>\n",
              "  </tbody>\n",
              "</table>\n",
              "</div>"
            ],
            "text/plain": [
              "        SMILES sequence  Binding Affinity\n",
              "0  Cc1ccc(C2CNCCN2C)cc1               NaN\n",
              "1      CCOC(CO)c1ccccc1               NaN\n",
              "2     CC(=O)Nc1cnn(C)n1               NaN\n",
              "3      CCC(C)NCc1ncccn1               NaN\n",
              "4       CC(C)=C1CC(N)C1               NaN"
            ]
          },
          "metadata": {
            "tags": []
          },
          "execution_count": 18
        }
      ]
    },
    {
      "cell_type": "code",
      "metadata": {
        "id": "2aVCMNmeaa8y",
        "colab_type": "code",
        "colab": {}
      },
      "source": [
        "test.drop(columns='Binding Affinity',inplace=True)\n",
        "test_name.drop(columns='Binding Affinity',inplace=True)"
      ],
      "execution_count": 0,
      "outputs": []
    },
    {
      "cell_type": "code",
      "metadata": {
        "id": "Otp9Y8ajalsR",
        "colab_type": "code",
        "outputId": "744efbf6-0ff8-47ed-ed17-1b17bf3f26e8",
        "colab": {
          "base_uri": "https://localhost:8080/",
          "height": 206
        }
      },
      "source": [
        "test.head()"
      ],
      "execution_count": 20,
      "outputs": [
        {
          "output_type": "execute_result",
          "data": {
            "text/html": [
              "<div>\n",
              "<style scoped>\n",
              "    .dataframe tbody tr th:only-of-type {\n",
              "        vertical-align: middle;\n",
              "    }\n",
              "\n",
              "    .dataframe tbody tr th {\n",
              "        vertical-align: top;\n",
              "    }\n",
              "\n",
              "    .dataframe thead th {\n",
              "        text-align: right;\n",
              "    }\n",
              "</style>\n",
              "<table border=\"1\" class=\"dataframe\">\n",
              "  <thead>\n",
              "    <tr style=\"text-align: right;\">\n",
              "      <th></th>\n",
              "      <th>SMILES sequence</th>\n",
              "    </tr>\n",
              "  </thead>\n",
              "  <tbody>\n",
              "    <tr>\n",
              "      <th>0</th>\n",
              "      <td>Cc1ccc(C2CNCCN2C)cc1</td>\n",
              "    </tr>\n",
              "    <tr>\n",
              "      <th>1</th>\n",
              "      <td>CCOC(CO)c1ccccc1</td>\n",
              "    </tr>\n",
              "    <tr>\n",
              "      <th>2</th>\n",
              "      <td>CC(=O)Nc1cnn(C)n1</td>\n",
              "    </tr>\n",
              "    <tr>\n",
              "      <th>3</th>\n",
              "      <td>CCC(C)NCc1ncccn1</td>\n",
              "    </tr>\n",
              "    <tr>\n",
              "      <th>4</th>\n",
              "      <td>CC(C)=C1CC(N)C1</td>\n",
              "    </tr>\n",
              "  </tbody>\n",
              "</table>\n",
              "</div>"
            ],
            "text/plain": [
              "        SMILES sequence\n",
              "0  Cc1ccc(C2CNCCN2C)cc1\n",
              "1      CCOC(CO)c1ccccc1\n",
              "2     CC(=O)Nc1cnn(C)n1\n",
              "3      CCC(C)NCc1ncccn1\n",
              "4       CC(C)=C1CC(N)C1"
            ]
          },
          "metadata": {
            "tags": []
          },
          "execution_count": 20
        }
      ]
    },
    {
      "cell_type": "code",
      "metadata": {
        "id": "5TShmLbrpTxO",
        "colab_type": "code",
        "outputId": "63ea7854-9f1e-4422-ceab-b24ef5e72570",
        "colab": {
          "base_uri": "https://localhost:8080/",
          "height": 206
        }
      },
      "source": [
        "test_name.head()"
      ],
      "execution_count": 21,
      "outputs": [
        {
          "output_type": "execute_result",
          "data": {
            "text/html": [
              "<div>\n",
              "<style scoped>\n",
              "    .dataframe tbody tr th:only-of-type {\n",
              "        vertical-align: middle;\n",
              "    }\n",
              "\n",
              "    .dataframe tbody tr th {\n",
              "        vertical-align: top;\n",
              "    }\n",
              "\n",
              "    .dataframe thead th {\n",
              "        text-align: right;\n",
              "    }\n",
              "</style>\n",
              "<table border=\"1\" class=\"dataframe\">\n",
              "  <thead>\n",
              "    <tr style=\"text-align: right;\">\n",
              "      <th></th>\n",
              "      <th>SMILES sequence</th>\n",
              "    </tr>\n",
              "  </thead>\n",
              "  <tbody>\n",
              "    <tr>\n",
              "      <th>0</th>\n",
              "      <td>Cc1ccc(C2CNCCN2C)cc1</td>\n",
              "    </tr>\n",
              "    <tr>\n",
              "      <th>1</th>\n",
              "      <td>CCOC(CO)c1ccccc1</td>\n",
              "    </tr>\n",
              "    <tr>\n",
              "      <th>2</th>\n",
              "      <td>CC(=O)Nc1cnn(C)n1</td>\n",
              "    </tr>\n",
              "    <tr>\n",
              "      <th>3</th>\n",
              "      <td>CCC(C)NCc1ncccn1</td>\n",
              "    </tr>\n",
              "    <tr>\n",
              "      <th>4</th>\n",
              "      <td>CC(C)=C1CC(N)C1</td>\n",
              "    </tr>\n",
              "  </tbody>\n",
              "</table>\n",
              "</div>"
            ],
            "text/plain": [
              "        SMILES sequence\n",
              "0  Cc1ccc(C2CNCCN2C)cc1\n",
              "1      CCOC(CO)c1ccccc1\n",
              "2     CC(=O)Nc1cnn(C)n1\n",
              "3      CCC(C)NCc1ncccn1\n",
              "4       CC(C)=C1CC(N)C1"
            ]
          },
          "metadata": {
            "tags": []
          },
          "execution_count": 21
        }
      ]
    },
    {
      "cell_type": "code",
      "metadata": {
        "id": "btfPxwsMtCCQ",
        "colab_type": "code",
        "colab": {}
      },
      "source": [
        "##This is the sample of submission (Submission must be in this format)\n",
        "sample =  pd.read_csv('/content/drive/My Drive/covid/sample_submission.csv')"
      ],
      "execution_count": 0,
      "outputs": []
    },
    {
      "cell_type": "code",
      "metadata": {
        "id": "iwjQ-fyBtbUA",
        "colab_type": "code",
        "outputId": "c142835b-ce34-4842-df75-8ede42f35fde",
        "colab": {
          "base_uri": "https://localhost:8080/",
          "height": 206
        }
      },
      "source": [
        "sample.head()"
      ],
      "execution_count": 24,
      "outputs": [
        {
          "output_type": "execute_result",
          "data": {
            "text/html": [
              "<div>\n",
              "<style scoped>\n",
              "    .dataframe tbody tr th:only-of-type {\n",
              "        vertical-align: middle;\n",
              "    }\n",
              "\n",
              "    .dataframe tbody tr th {\n",
              "        vertical-align: top;\n",
              "    }\n",
              "\n",
              "    .dataframe thead th {\n",
              "        text-align: right;\n",
              "    }\n",
              "</style>\n",
              "<table border=\"1\" class=\"dataframe\">\n",
              "  <thead>\n",
              "    <tr style=\"text-align: right;\">\n",
              "      <th></th>\n",
              "      <th>SMILES sequence</th>\n",
              "      <th>Binding Affinity</th>\n",
              "    </tr>\n",
              "  </thead>\n",
              "  <tbody>\n",
              "    <tr>\n",
              "      <th>0</th>\n",
              "      <td>Cc1ccc(C2CNCCN2C)cc1</td>\n",
              "      <td>-10.0</td>\n",
              "    </tr>\n",
              "    <tr>\n",
              "      <th>1</th>\n",
              "      <td>CCOC(CO)c1ccccc1</td>\n",
              "      <td>-10.0</td>\n",
              "    </tr>\n",
              "    <tr>\n",
              "      <th>2</th>\n",
              "      <td>CC(=O)Nc1cnn(C)n1</td>\n",
              "      <td>-10.0</td>\n",
              "    </tr>\n",
              "    <tr>\n",
              "      <th>3</th>\n",
              "      <td>CCC(C)NCc1ncccn1</td>\n",
              "      <td>-10.0</td>\n",
              "    </tr>\n",
              "    <tr>\n",
              "      <th>4</th>\n",
              "      <td>CC(C)=C1CC(N)C1</td>\n",
              "      <td>-10.0</td>\n",
              "    </tr>\n",
              "  </tbody>\n",
              "</table>\n",
              "</div>"
            ],
            "text/plain": [
              "        SMILES sequence  Binding Affinity\n",
              "0  Cc1ccc(C2CNCCN2C)cc1             -10.0\n",
              "1      CCOC(CO)c1ccccc1             -10.0\n",
              "2     CC(=O)Nc1cnn(C)n1             -10.0\n",
              "3      CCC(C)NCc1ncccn1             -10.0\n",
              "4       CC(C)=C1CC(N)C1             -10.0"
            ]
          },
          "metadata": {
            "tags": []
          },
          "execution_count": 24
        }
      ]
    },
    {
      "cell_type": "code",
      "metadata": {
        "id": "RTueEkL5tdH4",
        "colab_type": "code",
        "colab": {}
      },
      "source": [
        "from rdkit import Chem \n"
      ],
      "execution_count": 0,
      "outputs": []
    },
    {
      "cell_type": "code",
      "metadata": {
        "id": "vzwPVwDeuKtm",
        "colab_type": "code",
        "colab": {}
      },
      "source": [
        "train['mol'] = train['SMILES sequence'].apply(lambda x: Chem.MolFromSmiles(x)) \n",
        "test['mol'] = test['SMILES sequence'].apply(lambda x: Chem.MolFromSmiles(x)) "
      ],
      "execution_count": 0,
      "outputs": []
    },
    {
      "cell_type": "code",
      "metadata": {
        "id": "4kAwB08IvQbG",
        "colab_type": "code",
        "outputId": "75dcaf73-0adc-481f-921f-a544a632c4bd",
        "colab": {
          "base_uri": "https://localhost:8080/",
          "height": 34
        }
      },
      "source": [
        "#Now let's see what we've got\n",
        "print(type(train['mol'][0]))"
      ],
      "execution_count": 27,
      "outputs": [
        {
          "output_type": "stream",
          "text": [
            "<class 'rdkit.Chem.rdchem.Mol'>\n"
          ],
          "name": "stdout"
        }
      ]
    },
    {
      "cell_type": "code",
      "metadata": {
        "id": "pKrhaxdsl3qc",
        "colab_type": "code",
        "outputId": "1ef2bafe-d569-4867-8a8d-513cdd956b80",
        "colab": {
          "base_uri": "https://localhost:8080/",
          "height": 34
        }
      },
      "source": [
        "print(type(test['mol'][0]))"
      ],
      "execution_count": 28,
      "outputs": [
        {
          "output_type": "stream",
          "text": [
            "<class 'rdkit.Chem.rdchem.Mol'>\n"
          ],
          "name": "stdout"
        }
      ]
    },
    {
      "cell_type": "code",
      "metadata": {
        "id": "VZ4T2o_6wL2_",
        "colab_type": "code",
        "colab": {
          "base_uri": "https://localhost:8080/",
          "height": 54
        },
        "outputId": "f7f3df3a-0c00-423e-b8d4-d2f5c174551b"
      },
      "source": [
        "from rdkit.Chem import Draw\n",
        "mols = train['mol'][:2]\n",
        "\n",
        "#MolsToGridImage allows to paint a number of molecules at a time\n",
        "Draw.MolsToGridImage(mols, molsPerRow=5, useSVG=True, legends=list(train['SMILES sequence'][:20].values))"
      ],
      "execution_count": 32,
      "outputs": [
        {
          "output_type": "execute_result",
          "data": {
            "text/plain": [
              "'<?xml version=\\'1.0\\' encoding=\\'iso-8859-1\\'?>\\n<svg version=\\'1.1\\' baseProfile=\\'full\\'\\n              xmlns=\\'http://www.w3.org/2000/svg\\'\\n                      xmlns:rdkit=\\'http://www.rdkit.org/xml\\'\\n                      xmlns:xlink=\\'http://www.w3.org/1999/xlink\\'\\n                  xml:space=\\'preserve\\'\\nwidth=\\'1000px\\' height=\\'200px\\' viewBox=\\'0 0 1000 200\\'>\\n<!-- END OF HEADER -->\\n<rect style=\\'opacity:1.0;fill:#FFFFFF;stroke:none\\' width=\\'1000\\' height=\\'200\\' x=\\'0\\' y=\\'0\\'> </rect>\\n<rect style=\\'opacity:1.0;fill:#FFFFFF;stroke:none\\' width=\\'1000\\' height=\\'200\\' x=\\'0\\' y=\\'0\\'> </rect>\\n<rect style=\\'opacity:1.0;fill:#FFFFFF;stroke:none\\' width=\\'1000\\' height=\\'200\\' x=\\'0\\' y=\\'0\\'> </rect>\\n<path class=\\'bond-0\\' d=\\'M 41.2474,24.6306 L 43.0908,58.4829\\' style=\\'fill:none;fill-rule:evenodd;stroke:#000000;stroke-width:2px;stroke-linecap:butt;stroke-linejoin:miter;stroke-opacity:1\\' />\\n<path class=\\'bond-1\\' d=\\'M 43.0908,58.4829 L 55.7613,64.9063\\' style=\\'fill:none;fill-rule:evenodd;stroke:#000000;stroke-width:2px;stroke-linecap:butt;stroke-linejoin:miter;stroke-opacity:1\\' />\\n<path class=\\'bond-1\\' d=\\'M 55.7613,64.9063 L 68.4319,71.3298\\' style=\\'fill:none;fill-rule:evenodd;stroke:#0000FF;stroke-width:2px;stroke-linecap:butt;stroke-linejoin:miter;stroke-opacity:1\\' />\\n<path class=\\'bond-2\\' d=\\'M 73.637,79.463 L 74.4049,93.5639\\' style=\\'fill:none;fill-rule:evenodd;stroke:#0000FF;stroke-width:2px;stroke-linecap:butt;stroke-linejoin:miter;stroke-opacity:1\\' />\\n<path class=\\'bond-2\\' d=\\'M 74.4049,93.5639 L 75.1727,107.665\\' style=\\'fill:none;fill-rule:evenodd;stroke:#000000;stroke-width:2px;stroke-linecap:butt;stroke-linejoin:miter;stroke-opacity:1\\' />\\n<path class=\\'bond-3\\' d=\\'M 75.1727,107.665 L 46.7774,126.187\\' style=\\'fill:none;fill-rule:evenodd;stroke:#000000;stroke-width:2px;stroke-linecap:butt;stroke-linejoin:miter;stroke-opacity:1\\' />\\n<path class=\\'bond-4\\' d=\\'M 75.1727,107.665 L 105.411,122.995\\' style=\\'fill:none;fill-rule:evenodd;stroke:#000000;stroke-width:2px;stroke-linecap:butt;stroke-linejoin:miter;stroke-opacity:1\\' />\\n<path class=\\'bond-5\\' d=\\'M 105.411,122.995 L 106.179,137.096\\' style=\\'fill:none;fill-rule:evenodd;stroke:#000000;stroke-width:2px;stroke-linecap:butt;stroke-linejoin:miter;stroke-opacity:1\\' />\\n<path class=\\'bond-5\\' d=\\'M 106.179,137.096 L 106.947,151.196\\' style=\\'fill:none;fill-rule:evenodd;stroke:#0000FF;stroke-width:2px;stroke-linecap:butt;stroke-linejoin:miter;stroke-opacity:1\\' />\\n<path class=\\'bond-7\\' d=\\'M 105.411,122.995 L 133.807,104.472\\' style=\\'fill:none;fill-rule:evenodd;stroke:#000000;stroke-width:2px;stroke-linecap:butt;stroke-linejoin:miter;stroke-opacity:1\\' />\\n<path class=\\'bond-6\\' d=\\'M 102.357,160.042 L 90.6083,167.705\\' style=\\'fill:none;fill-rule:evenodd;stroke:#0000FF;stroke-width:2px;stroke-linecap:butt;stroke-linejoin:miter;stroke-opacity:1\\' />\\n<path class=\\'bond-6\\' d=\\'M 90.6083,167.705 L 78.8594,175.369\\' style=\\'fill:none;fill-rule:evenodd;stroke:#000000;stroke-width:2px;stroke-linecap:butt;stroke-linejoin:miter;stroke-opacity:1\\' />\\n<path class=\\'bond-8\\' d=\\'M 133.807,104.472 L 131.963,70.6199\\' style=\\'fill:none;fill-rule:evenodd;stroke:#000000;stroke-width:2px;stroke-linecap:butt;stroke-linejoin:miter;stroke-opacity:1\\' />\\n<path class=\\'bond-8\\' d=\\'M 140.3,99.0256 L 139.01,75.329\\' style=\\'fill:none;fill-rule:evenodd;stroke:#000000;stroke-width:2px;stroke-linecap:butt;stroke-linejoin:miter;stroke-opacity:1\\' />\\n<path class=\\'bond-13\\' d=\\'M 133.807,104.472 L 164.045,119.802\\' style=\\'fill:none;fill-rule:evenodd;stroke:#000000;stroke-width:2px;stroke-linecap:butt;stroke-linejoin:miter;stroke-opacity:1\\' />\\n<path class=\\'bond-9\\' d=\\'M 131.963,70.6199 L 160.358,52.0974\\' style=\\'fill:none;fill-rule:evenodd;stroke:#000000;stroke-width:2px;stroke-linecap:butt;stroke-linejoin:miter;stroke-opacity:1\\' />\\n<path class=\\'bond-10\\' d=\\'M 160.358,52.0974 L 190.597,67.4271\\' style=\\'fill:none;fill-rule:evenodd;stroke:#000000;stroke-width:2px;stroke-linecap:butt;stroke-linejoin:miter;stroke-opacity:1\\' />\\n<path class=\\'bond-10\\' d=\\'M 161.828,60.4446 L 182.995,71.1754\\' style=\\'fill:none;fill-rule:evenodd;stroke:#000000;stroke-width:2px;stroke-linecap:butt;stroke-linejoin:miter;stroke-opacity:1\\' />\\n<path class=\\'bond-11\\' d=\\'M 190.597,67.4271 L 192.44,101.279\\' style=\\'fill:none;fill-rule:evenodd;stroke:#000000;stroke-width:2px;stroke-linecap:butt;stroke-linejoin:miter;stroke-opacity:1\\' />\\n<path class=\\'bond-12\\' d=\\'M 192.44,101.279 L 164.045,119.802\\' style=\\'fill:none;fill-rule:evenodd;stroke:#000000;stroke-width:2px;stroke-linecap:butt;stroke-linejoin:miter;stroke-opacity:1\\' />\\n<path class=\\'bond-12\\' d=\\'M 184.477,98.3787 L 164.6,111.344\\' style=\\'fill:none;fill-rule:evenodd;stroke:#000000;stroke-width:2px;stroke-linecap:butt;stroke-linejoin:miter;stroke-opacity:1\\' />\\n<text dominant-baseline=\"central\" text-anchor=\"start\" x=\\'69.562\\' y=\\'75.5077\\' style=\\'font-size:11px;font-style:normal;font-weight:normal;fill-opacity:1;stroke:none;font-family:sans-serif;fill:#0000FF\\' ><tspan>NH</tspan></text>\\n<text dominant-baseline=\"central\" text-anchor=\"start\" x=\\'103.487\\' y=\\'158.542\\' style=\\'font-size:11px;font-style:normal;font-weight:normal;fill-opacity:1;stroke:none;font-family:sans-serif;fill:#0000FF\\' ><tspan>NH</tspan></text>\\n<text dominant-baseline=\"central\" text-anchor=\"middle\" x=\\'100\\' y=\\'189.8\\' style=\\'font-size:12px;font-style:normal;font-weight:normal;fill-opacity:1;stroke:none;font-family:sans-serif;fill:#000000\\' ><tspan>CCNC(C)C(NC)c1ccccc1</tspan></text>\\n<path class=\\'bond-0\\' d=\\'M 208.956,73.4832 L 218.5,82.7168\\' style=\\'fill:none;fill-rule:evenodd;stroke:#000000;stroke-width:2px;stroke-linecap:butt;stroke-linejoin:miter;stroke-opacity:1\\' />\\n<path class=\\'bond-0\\' d=\\'M 218.5,82.7168 L 228.045,91.9505\\' style=\\'fill:none;fill-rule:evenodd;stroke:#FF0000;stroke-width:2px;stroke-linecap:butt;stroke-linejoin:miter;stroke-opacity:1\\' />\\n<path class=\\'bond-1\\' d=\\'M 238.599,95.548 L 249.811,92.3442\\' style=\\'fill:none;fill-rule:evenodd;stroke:#FF0000;stroke-width:2px;stroke-linecap:butt;stroke-linejoin:miter;stroke-opacity:1\\' />\\n<path class=\\'bond-1\\' d=\\'M 249.811,92.3442 L 261.022,89.1404\\' style=\\'fill:none;fill-rule:evenodd;stroke:#0000FF;stroke-width:2px;stroke-linecap:butt;stroke-linejoin:miter;stroke-opacity:1\\' />\\n<path class=\\'bond-2\\' d=\\'M 270.817,92.479 L 280.551,101.896\\' style=\\'fill:none;fill-rule:evenodd;stroke:#0000FF;stroke-width:2px;stroke-linecap:butt;stroke-linejoin:miter;stroke-opacity:1\\' />\\n<path class=\\'bond-2\\' d=\\'M 280.551,101.896 L 290.285,111.314\\' style=\\'fill:none;fill-rule:evenodd;stroke:#000000;stroke-width:2px;stroke-linecap:butt;stroke-linejoin:miter;stroke-opacity:1\\' />\\n<path class=\\'bond-3\\' d=\\'M 286.997,110.491 L 283.588,124.109\\' style=\\'fill:none;fill-rule:evenodd;stroke:#000000;stroke-width:2px;stroke-linecap:butt;stroke-linejoin:miter;stroke-opacity:1\\' />\\n<path class=\\'bond-3\\' d=\\'M 283.588,124.109 L 280.179,137.728\\' style=\\'fill:none;fill-rule:evenodd;stroke:#FF0000;stroke-width:2px;stroke-linecap:butt;stroke-linejoin:miter;stroke-opacity:1\\' />\\n<path class=\\'bond-3\\' d=\\'M 293.574,112.137 L 290.166,125.756\\' style=\\'fill:none;fill-rule:evenodd;stroke:#000000;stroke-width:2px;stroke-linecap:butt;stroke-linejoin:miter;stroke-opacity:1\\' />\\n<path class=\\'bond-3\\' d=\\'M 290.166,125.756 L 286.757,139.374\\' style=\\'fill:none;fill-rule:evenodd;stroke:#FF0000;stroke-width:2px;stroke-linecap:butt;stroke-linejoin:miter;stroke-opacity:1\\' />\\n<path class=\\'bond-4\\' d=\\'M 290.285,111.314 L 322.883,101.999\\' style=\\'fill:none;fill-rule:evenodd;stroke:#000000;stroke-width:2px;stroke-linecap:butt;stroke-linejoin:miter;stroke-opacity:1\\' />\\n<path class=\\'bond-5\\' d=\\'M 322.883,101.999 L 331.115,69.1108\\' style=\\'fill:none;fill-rule:evenodd;stroke:#000000;stroke-width:2px;stroke-linecap:butt;stroke-linejoin:miter;stroke-opacity:1\\' />\\n<path class=\\'bond-5\\' d=\\'M 330.695,98.7118 L 336.458,75.6903\\' style=\\'fill:none;fill-rule:evenodd;stroke:#000000;stroke-width:2px;stroke-linecap:butt;stroke-linejoin:miter;stroke-opacity:1\\' />\\n<path class=\\'bond-10\\' d=\\'M 322.883,101.999 L 347.249,125.571\\' style=\\'fill:none;fill-rule:evenodd;stroke:#000000;stroke-width:2px;stroke-linecap:butt;stroke-linejoin:miter;stroke-opacity:1\\' />\\n<path class=\\'bond-6\\' d=\\'M 331.115,69.1108 L 344.965,65.153\\' style=\\'fill:none;fill-rule:evenodd;stroke:#000000;stroke-width:2px;stroke-linecap:butt;stroke-linejoin:miter;stroke-opacity:1\\' />\\n<path class=\\'bond-6\\' d=\\'M 344.965,65.153 L 358.815,61.1952\\' style=\\'fill:none;fill-rule:evenodd;stroke:#0000FF;stroke-width:2px;stroke-linecap:butt;stroke-linejoin:miter;stroke-opacity:1\\' />\\n<path class=\\'bond-7\\' d=\\'M 368.61,64.5338 L 378.344,73.9511\\' style=\\'fill:none;fill-rule:evenodd;stroke:#0000FF;stroke-width:2px;stroke-linecap:butt;stroke-linejoin:miter;stroke-opacity:1\\' />\\n<path class=\\'bond-7\\' d=\\'M 378.344,73.9511 L 388.078,83.3685\\' style=\\'fill:none;fill-rule:evenodd;stroke:#000000;stroke-width:2px;stroke-linecap:butt;stroke-linejoin:miter;stroke-opacity:1\\' />\\n<path class=\\'bond-7\\' d=\\'M 366.816,72.2322 L 373.629,78.8243\\' style=\\'fill:none;fill-rule:evenodd;stroke:#0000FF;stroke-width:2px;stroke-linecap:butt;stroke-linejoin:miter;stroke-opacity:1\\' />\\n<path class=\\'bond-7\\' d=\\'M 373.629,78.8243 L 380.443,85.4165\\' style=\\'fill:none;fill-rule:evenodd;stroke:#000000;stroke-width:2px;stroke-linecap:butt;stroke-linejoin:miter;stroke-opacity:1\\' />\\n<path class=\\'bond-8\\' d=\\'M 388.078,83.3685 L 384.67,96.9872\\' style=\\'fill:none;fill-rule:evenodd;stroke:#000000;stroke-width:2px;stroke-linecap:butt;stroke-linejoin:miter;stroke-opacity:1\\' />\\n<path class=\\'bond-8\\' d=\\'M 384.67,96.9872 L 381.261,110.606\\' style=\\'fill:none;fill-rule:evenodd;stroke:#0000FF;stroke-width:2px;stroke-linecap:butt;stroke-linejoin:miter;stroke-opacity:1\\' />\\n<path class=\\'bond-9\\' d=\\'M 374.949,117.656 L 361.099,121.614\\' style=\\'fill:none;fill-rule:evenodd;stroke:#0000FF;stroke-width:2px;stroke-linecap:butt;stroke-linejoin:miter;stroke-opacity:1\\' />\\n<path class=\\'bond-9\\' d=\\'M 361.099,121.614 L 347.249,125.571\\' style=\\'fill:none;fill-rule:evenodd;stroke:#000000;stroke-width:2px;stroke-linecap:butt;stroke-linejoin:miter;stroke-opacity:1\\' />\\n<path class=\\'bond-9\\' d=\\'M 368.931,112.324 L 359.236,115.094\\' style=\\'fill:none;fill-rule:evenodd;stroke:#0000FF;stroke-width:2px;stroke-linecap:butt;stroke-linejoin:miter;stroke-opacity:1\\' />\\n<path class=\\'bond-9\\' d=\\'M 359.236,115.094 L 349.541,117.865\\' style=\\'fill:none;fill-rule:evenodd;stroke:#000000;stroke-width:2px;stroke-linecap:butt;stroke-linejoin:miter;stroke-opacity:1\\' />\\n<text dominant-baseline=\"central\" text-anchor=\"middle\" x=\\'233.322\\' y=\\'98.7511\\' style=\\'font-size:11px;font-style:normal;font-weight:normal;fill-opacity:1;stroke:none;font-family:sans-serif;fill:#FF0000\\' ><tspan>O</tspan></text>\\n<text dominant-baseline=\"central\" text-anchor=\"middle\" x=\\'265.92\\' y=\\'89.4361\\' style=\\'font-size:11px;font-style:normal;font-weight:normal;fill-opacity:1;stroke:none;font-family:sans-serif;fill:#0000FF\\' ><tspan>N</tspan></text>\\n<text dominant-baseline=\"central\" text-anchor=\"start\" x=\\'262.152\\' y=\\'78.1352\\' style=\\'font-size:11px;font-style:normal;font-weight:normal;fill-opacity:1;stroke:none;font-family:sans-serif;fill:#0000FF\\' ><tspan>H</tspan></text>\\n<text dominant-baseline=\"central\" text-anchor=\"start\" x=\\'277.907\\' y=\\'145.897\\' style=\\'font-size:11px;font-style:normal;font-weight:normal;fill-opacity:1;stroke:none;font-family:sans-serif;fill:#FF0000\\' ><tspan>O</tspan></text>\\n<text dominant-baseline=\"central\" text-anchor=\"middle\" x=\\'363.712\\' y=\\'61.4908\\' style=\\'font-size:11px;font-style:normal;font-weight:normal;fill-opacity:1;stroke:none;font-family:sans-serif;fill:#0000FF\\' ><tspan>N</tspan></text>\\n<text dominant-baseline=\"central\" text-anchor=\"start\" x=\\'376.079\\' y=\\'117.952\\' style=\\'font-size:11px;font-style:normal;font-weight:normal;fill-opacity:1;stroke:none;font-family:sans-serif;fill:#0000FF\\' ><tspan>N</tspan></text>\\n<text dominant-baseline=\"central\" text-anchor=\"middle\" x=\\'300\\' y=\\'189.8\\' style=\\'font-size:12px;font-style:normal;font-weight:normal;fill-opacity:1;stroke:none;font-family:sans-serif;fill:#000000\\' ><tspan>CONC(=O)c1cncnc1</tspan></text>\\n</svg>\\n'"
            ]
          },
          "metadata": {
            "tags": []
          },
          "execution_count": 32
        }
      ]
    },
    {
      "cell_type": "markdown",
      "metadata": {
        "id": "dpuXPBv_0u3i",
        "colab_type": "text"
      },
      "source": [
        "![alt text](https://drive.google.com/uc?id=1exJGBWzAM7L5cN9oAzFAVPhuw9Uv3Wja)"
      ]
    },
    {
      "cell_type": "code",
      "metadata": {
        "id": "1sjVdH3Xwhx3",
        "colab_type": "code",
        "outputId": "35fbe1da-3a0e-4171-90f9-e4e7a3148c71",
        "colab": {
          "base_uri": "https://localhost:8080/",
          "height": 206
        }
      },
      "source": [
        "train.head()"
      ],
      "execution_count": 33,
      "outputs": [
        {
          "output_type": "execute_result",
          "data": {
            "text/html": [
              "<div>\n",
              "<style scoped>\n",
              "    .dataframe tbody tr th:only-of-type {\n",
              "        vertical-align: middle;\n",
              "    }\n",
              "\n",
              "    .dataframe tbody tr th {\n",
              "        vertical-align: top;\n",
              "    }\n",
              "\n",
              "    .dataframe thead th {\n",
              "        text-align: right;\n",
              "    }\n",
              "</style>\n",
              "<table border=\"1\" class=\"dataframe\">\n",
              "  <thead>\n",
              "    <tr style=\"text-align: right;\">\n",
              "      <th></th>\n",
              "      <th>SMILES sequence</th>\n",
              "      <th>mol</th>\n",
              "    </tr>\n",
              "  </thead>\n",
              "  <tbody>\n",
              "    <tr>\n",
              "      <th>0</th>\n",
              "      <td>CCNC(C)C(NC)c1ccccc1</td>\n",
              "      <td>&lt;rdkit.Chem.rdchem.Mol object at 0x7f04d05cfcb0&gt;</td>\n",
              "    </tr>\n",
              "    <tr>\n",
              "      <th>1</th>\n",
              "      <td>CONC(=O)c1cncnc1</td>\n",
              "      <td>&lt;rdkit.Chem.rdchem.Mol object at 0x7f04d05cfd00&gt;</td>\n",
              "    </tr>\n",
              "    <tr>\n",
              "      <th>2</th>\n",
              "      <td>CCNC1CCCN(Cc2ccsc2)C1</td>\n",
              "      <td>&lt;rdkit.Chem.rdchem.Mol object at 0x7f04d05cfd50&gt;</td>\n",
              "    </tr>\n",
              "    <tr>\n",
              "      <th>3</th>\n",
              "      <td>CC(NC(=O)CSCCN)c1ccccc1</td>\n",
              "      <td>&lt;rdkit.Chem.rdchem.Mol object at 0x7f04d05cfda0&gt;</td>\n",
              "    </tr>\n",
              "    <tr>\n",
              "      <th>4</th>\n",
              "      <td>CCC(CS)CN(C)c1ccccc1</td>\n",
              "      <td>&lt;rdkit.Chem.rdchem.Mol object at 0x7f04d05cfdf0&gt;</td>\n",
              "    </tr>\n",
              "  </tbody>\n",
              "</table>\n",
              "</div>"
            ],
            "text/plain": [
              "           SMILES sequence                                               mol\n",
              "0     CCNC(C)C(NC)c1ccccc1  <rdkit.Chem.rdchem.Mol object at 0x7f04d05cfcb0>\n",
              "1         CONC(=O)c1cncnc1  <rdkit.Chem.rdchem.Mol object at 0x7f04d05cfd00>\n",
              "2    CCNC1CCCN(Cc2ccsc2)C1  <rdkit.Chem.rdchem.Mol object at 0x7f04d05cfd50>\n",
              "3  CC(NC(=O)CSCCN)c1ccccc1  <rdkit.Chem.rdchem.Mol object at 0x7f04d05cfda0>\n",
              "4     CCC(CS)CN(C)c1ccccc1  <rdkit.Chem.rdchem.Mol object at 0x7f04d05cfdf0>"
            ]
          },
          "metadata": {
            "tags": []
          },
          "execution_count": 33
        }
      ]
    },
    {
      "cell_type": "code",
      "metadata": {
        "id": "wpEJkEU6kz5C",
        "colab_type": "code",
        "outputId": "7b3daba6-49b1-4f04-ede8-b10b4f38b16a",
        "colab": {
          "base_uri": "https://localhost:8080/",
          "height": 206
        }
      },
      "source": [
        "test.head()"
      ],
      "execution_count": 34,
      "outputs": [
        {
          "output_type": "execute_result",
          "data": {
            "text/html": [
              "<div>\n",
              "<style scoped>\n",
              "    .dataframe tbody tr th:only-of-type {\n",
              "        vertical-align: middle;\n",
              "    }\n",
              "\n",
              "    .dataframe tbody tr th {\n",
              "        vertical-align: top;\n",
              "    }\n",
              "\n",
              "    .dataframe thead th {\n",
              "        text-align: right;\n",
              "    }\n",
              "</style>\n",
              "<table border=\"1\" class=\"dataframe\">\n",
              "  <thead>\n",
              "    <tr style=\"text-align: right;\">\n",
              "      <th></th>\n",
              "      <th>SMILES sequence</th>\n",
              "      <th>mol</th>\n",
              "    </tr>\n",
              "  </thead>\n",
              "  <tbody>\n",
              "    <tr>\n",
              "      <th>0</th>\n",
              "      <td>Cc1ccc(C2CNCCN2C)cc1</td>\n",
              "      <td>&lt;rdkit.Chem.rdchem.Mol object at 0x7f04cc32cc10&gt;</td>\n",
              "    </tr>\n",
              "    <tr>\n",
              "      <th>1</th>\n",
              "      <td>CCOC(CO)c1ccccc1</td>\n",
              "      <td>&lt;rdkit.Chem.rdchem.Mol object at 0x7f04cc32cee0&gt;</td>\n",
              "    </tr>\n",
              "    <tr>\n",
              "      <th>2</th>\n",
              "      <td>CC(=O)Nc1cnn(C)n1</td>\n",
              "      <td>&lt;rdkit.Chem.rdchem.Mol object at 0x7f04d0fd7800&gt;</td>\n",
              "    </tr>\n",
              "    <tr>\n",
              "      <th>3</th>\n",
              "      <td>CCC(C)NCc1ncccn1</td>\n",
              "      <td>&lt;rdkit.Chem.rdchem.Mol object at 0x7f04d0fd7710&gt;</td>\n",
              "    </tr>\n",
              "    <tr>\n",
              "      <th>4</th>\n",
              "      <td>CC(C)=C1CC(N)C1</td>\n",
              "      <td>&lt;rdkit.Chem.rdchem.Mol object at 0x7f04cc330030&gt;</td>\n",
              "    </tr>\n",
              "  </tbody>\n",
              "</table>\n",
              "</div>"
            ],
            "text/plain": [
              "        SMILES sequence                                               mol\n",
              "0  Cc1ccc(C2CNCCN2C)cc1  <rdkit.Chem.rdchem.Mol object at 0x7f04cc32cc10>\n",
              "1      CCOC(CO)c1ccccc1  <rdkit.Chem.rdchem.Mol object at 0x7f04cc32cee0>\n",
              "2     CC(=O)Nc1cnn(C)n1  <rdkit.Chem.rdchem.Mol object at 0x7f04d0fd7800>\n",
              "3      CCC(C)NCc1ncccn1  <rdkit.Chem.rdchem.Mol object at 0x7f04d0fd7710>\n",
              "4       CC(C)=C1CC(N)C1  <rdkit.Chem.rdchem.Mol object at 0x7f04cc330030>"
            ]
          },
          "metadata": {
            "tags": []
          },
          "execution_count": 34
        }
      ]
    },
    {
      "cell_type": "code",
      "metadata": {
        "id": "DdyW3juewU9T",
        "colab_type": "code",
        "outputId": "8b81aad8-98b1-40e1-a8b9-07cef78ebeae",
        "colab": {
          "base_uri": "https://localhost:8080/",
          "height": 72
        }
      },
      "source": [
        "\n",
        "\n",
        "#Now we'll load a pre-trained mol2vec model. It's trained with radius=1 for Morgan fingerprints to yield 300 dimensional embeddings.\n",
        "\n",
        "#Loading pre-trained model via word2vec\n",
        "from gensim.models import word2vec\n",
        "model = word2vec.Word2Vec.load('/content/drive/My Drive/model_300dim.pkl')"
      ],
      "execution_count": 35,
      "outputs": [
        {
          "output_type": "stream",
          "text": [
            "/usr/local/lib/python3.6/dist-packages/smart_open/smart_open_lib.py:253: UserWarning: This function is deprecated, use smart_open.open instead. See the migration notes for details: https://github.com/RaRe-Technologies/smart_open/blob/master/README.rst#migrating-to-the-new-open-function\n",
            "  'See the migration notes for details: %s' % _MIGRATION_NOTES_URL\n"
          ],
          "name": "stderr"
        }
      ]
    },
    {
      "cell_type": "code",
      "metadata": {
        "id": "YFEvswKYbRZi",
        "colab_type": "code",
        "colab": {}
      },
      "source": [
        "from mol2vec.features import mol2alt_sentence, mol2sentence, MolSentence, DfVec, sentences2vec\n",
        "from gensim.models import word2vec"
      ],
      "execution_count": 0,
      "outputs": []
    },
    {
      "cell_type": "code",
      "metadata": {
        "id": "uJH5r7sNbbJ5",
        "colab_type": "code",
        "outputId": "c70a8515-9c60-491c-963d-76b7142cc48b",
        "colab": {
          "base_uri": "https://localhost:8080/",
          "height": 124
        }
      },
      "source": [
        "print('Molecular sentence:', mol2alt_sentence(train['mol'][1], radius=1))\n",
        "print('\\nMolSentence object:', MolSentence(mol2alt_sentence(train['mol'][1], radius=1)))\n",
        "print('\\nDfVec object:',DfVec(sentences2vec(MolSentence(mol2alt_sentence(train['mol'][1], radius=1)), model, unseen='UNK')))"
      ],
      "execution_count": 37,
      "outputs": [
        {
          "output_type": "stream",
          "text": [
            "Molecular sentence: ['2246728737', '3975275337', '864674487', '903112553', '847961216', '2204949651', '2246699815', '1054767590', '864942730', '1510328189', '3217380708', '2994748777', '3218693969', '3777168895', '2041434490', '3118255683', '3218693969', '725322217', '2041434490', '3118255683', '3218693969', '3777168895']\n",
            "\n",
            "MolSentence object: MolSentence with 22 words\n",
            "\n",
            "DfVec object: (22, 300) dimensional vector\n"
          ],
          "name": "stdout"
        }
      ]
    },
    {
      "cell_type": "code",
      "metadata": {
        "id": "1WmrzER9qCeV",
        "colab_type": "code",
        "outputId": "e533979e-2edf-4553-8650-a32492d7e786",
        "colab": {
          "base_uri": "https://localhost:8080/",
          "height": 124
        }
      },
      "source": [
        "print('Molecular sentence:', mol2alt_sentence(test['mol'][1], radius=1))\n",
        "print('\\nMolSentence object:', MolSentence(mol2alt_sentence(test['mol'][1], radius=1)))\n",
        "print('\\nDfVec object:',DfVec(sentences2vec(MolSentence(mol2alt_sentence(test['mol'][1], radius=1)), model, unseen='UNK')))"
      ],
      "execution_count": 38,
      "outputs": [
        {
          "output_type": "stream",
          "text": [
            "Molecular sentence: ['2246728737', '3542456614', '2245384272', '3994088662', '864674487', '2814583100', '2245273601', '602889953', '2245384272', '4022716898', '864662311', '1535166686', '3217380708', '3579962709', '3218693969', '951226070', '3218693969', '98513984', '3218693969', '98513984', '3218693969', '98513984', '3218693969', '951226070']\n",
            "\n",
            "MolSentence object: MolSentence with 24 words\n",
            "\n",
            "DfVec object: (24, 300) dimensional vector\n"
          ],
          "name": "stdout"
        }
      ]
    },
    {
      "cell_type": "code",
      "metadata": {
        "id": "9EMJfBAhbn-4",
        "colab_type": "code",
        "colab": {}
      },
      "source": [
        "#Constructing sentences\n",
        "train['sentence'] = train.apply(lambda x: MolSentence(mol2alt_sentence(x['mol'], 1)), axis=1)\n"
      ],
      "execution_count": 0,
      "outputs": []
    },
    {
      "cell_type": "code",
      "metadata": {
        "id": "F3X6deZWql05",
        "colab_type": "code",
        "colab": {}
      },
      "source": [
        "test['sentence'] = test.apply(lambda x: MolSentence(mol2alt_sentence(x['mol'], 1)), axis=1)"
      ],
      "execution_count": 0,
      "outputs": []
    },
    {
      "cell_type": "code",
      "metadata": {
        "id": "_rI5ffXNbvu4",
        "colab_type": "code",
        "outputId": "c0eb758c-73b9-43b3-8b24-d5523735187a",
        "colab": {
          "base_uri": "https://localhost:8080/",
          "height": 34
        }
      },
      "source": [
        "#Extracting embeddings to a numpy.array\n",
        "#Note that we always should mark unseen='UNK' in sentence2vec() so that model is taught how to handle unknown substructures\n",
        "train['mol2vec'] = [DfVec(x) for x in sentences2vec(train['sentence'], model, unseen='UNK')]\n",
        "X = np.array([x.vec for x in train['mol2vec']])\n",
        "y = train_aff.values\n",
        "\n",
        "X.shape"
      ],
      "execution_count": 41,
      "outputs": [
        {
          "output_type": "execute_result",
          "data": {
            "text/plain": [
              "(9000, 300)"
            ]
          },
          "metadata": {
            "tags": []
          },
          "execution_count": 41
        }
      ]
    },
    {
      "cell_type": "code",
      "metadata": {
        "id": "8-dkjrrZlA4J",
        "colab_type": "code",
        "outputId": "d1f53180-b6d7-4371-c664-1923a2f67d13",
        "colab": {
          "base_uri": "https://localhost:8080/",
          "height": 34
        }
      },
      "source": [
        "test['mol2vec'] = [DfVec(x) for x in sentences2vec(test['sentence'], model, unseen='UNK')]\n",
        "test_value= np.array([x.vec for x in test['mol2vec']])\n",
        "test_value.shape"
      ],
      "execution_count": 42,
      "outputs": [
        {
          "output_type": "execute_result",
          "data": {
            "text/plain": [
              "(2500, 300)"
            ]
          },
          "metadata": {
            "tags": []
          },
          "execution_count": 42
        }
      ]
    },
    {
      "cell_type": "markdown",
      "metadata": {
        "id": "Ic1DgQnn3KId",
        "colab_type": "text"
      },
      "source": [
        "We split the data into train and validate and analyze with various different regression algorithms like Ridge,svm,lasso,etc and also with their different parameters"
      ]
    },
    {
      "cell_type": "code",
      "metadata": {
        "id": "irT9ylpMcCW-",
        "colab_type": "code",
        "colab": {}
      },
      "source": [
        "from sklearn.model_selection import train_test_split\n",
        "X_train, X_test, y_train, y_test = train_test_split(X, y, test_size=.1, random_state=1)"
      ],
      "execution_count": 0,
      "outputs": []
    },
    {
      "cell_type": "code",
      "metadata": {
        "id": "IlkNPCJzcHw-",
        "colab_type": "code",
        "colab": {}
      },
      "source": [
        "from sklearn import svm"
      ],
      "execution_count": 0,
      "outputs": []
    },
    {
      "cell_type": "markdown",
      "metadata": {
        "id": "2v11TF073e8e",
        "colab_type": "text"
      },
      "source": [
        "After alot of testing we have found out that at C=100 our data works best"
      ]
    },
    {
      "cell_type": "markdown",
      "metadata": {
        "id": "ALO7NpCU3y7M",
        "colab_type": "text"
      },
      "source": [
        "Testing with SVM"
      ]
    },
    {
      "cell_type": "code",
      "metadata": {
        "id": "-w519Is6c75J",
        "colab_type": "code",
        "colab": {}
      },
      "source": [
        "clf = svm.SVR(C=100)"
      ],
      "execution_count": 0,
      "outputs": []
    },
    {
      "cell_type": "code",
      "metadata": {
        "id": "yJBRgV8bdFh-",
        "colab_type": "code",
        "outputId": "6b6dcc8c-bb8f-47b7-fced-bf592f2145ec",
        "colab": {
          "base_uri": "https://localhost:8080/",
          "height": 52
        }
      },
      "source": [
        "clf.fit(X_train, y_train)\n"
      ],
      "execution_count": 46,
      "outputs": [
        {
          "output_type": "execute_result",
          "data": {
            "text/plain": [
              "SVR(C=110, cache_size=200, coef0=0.0, degree=3, epsilon=0.1, gamma='scale',\n",
              "    kernel='rbf', max_iter=-1, shrinking=True, tol=0.001, verbose=False)"
            ]
          },
          "metadata": {
            "tags": []
          },
          "execution_count": 46
        }
      ]
    },
    {
      "cell_type": "code",
      "metadata": {
        "id": "UI7Zf25YdM8k",
        "colab_type": "code",
        "colab": {}
      },
      "source": [
        "y_pred=clf.predict(X_test)"
      ],
      "execution_count": 0,
      "outputs": []
    },
    {
      "cell_type": "code",
      "metadata": {
        "id": "c-ZiqdMAdpKM",
        "colab_type": "code",
        "outputId": "33acc6d4-b390-4c20-c426-16f13446c8df",
        "colab": {
          "base_uri": "https://localhost:8080/",
          "height": 34
        }
      },
      "source": [
        "    from sklearn.metrics import mean_squared_error\n",
        "    from math import sqrt\n",
        "    rmse = sqrt(mean_squared_error(y_test, y_pred))\n",
        "    print(rmse)"
      ],
      "execution_count": 50,
      "outputs": [
        {
          "output_type": "stream",
          "text": [
            "2.328732546851693\n"
          ],
          "name": "stdout"
        }
      ]
    },
    {
      "cell_type": "code",
      "metadata": {
        "id": "OwNYW0EueNiq",
        "colab_type": "code",
        "colab": {}
      },
      "source": [
        "from sklearn.metrics import mean_absolute_error"
      ],
      "execution_count": 0,
      "outputs": []
    },
    {
      "cell_type": "code",
      "metadata": {
        "id": "ve967UDPeaL5",
        "colab_type": "code",
        "outputId": "3e9f776b-2ed5-4bc4-d0d3-e781c1e040f1",
        "colab": {
          "base_uri": "https://localhost:8080/",
          "height": 34
        }
      },
      "source": [
        "mean_absolute_error(y_test, y_pred)"
      ],
      "execution_count": 52,
      "outputs": [
        {
          "output_type": "execute_result",
          "data": {
            "text/plain": [
              "1.6724466865753191"
            ]
          },
          "metadata": {
            "tags": []
          },
          "execution_count": 52
        }
      ]
    },
    {
      "cell_type": "markdown",
      "metadata": {
        "id": "SANClq9M32nV",
        "colab_type": "text"
      },
      "source": [
        "Testing with Ridge"
      ]
    },
    {
      "cell_type": "code",
      "metadata": {
        "id": "Vn5lIfBlefTN",
        "colab_type": "code",
        "colab": {}
      },
      "source": [
        "from sklearn.linear_model import RidgeCV\n",
        "ridge = RidgeCV()"
      ],
      "execution_count": 0,
      "outputs": []
    },
    {
      "cell_type": "code",
      "metadata": {
        "id": "f-hrPyiYiSvn",
        "colab_type": "code",
        "outputId": "cc02a0d0-d90c-4256-85c6-a5bce163b3b5",
        "colab": {
          "base_uri": "https://localhost:8080/",
          "height": 52
        }
      },
      "source": [
        "ridge.fit(X_train, y_train)"
      ],
      "execution_count": 57,
      "outputs": [
        {
          "output_type": "execute_result",
          "data": {
            "text/plain": [
              "RidgeCV(alphas=array([ 0.1,  1. , 10. ]), cv=None, fit_intercept=True,\n",
              "        gcv_mode=None, normalize=False, scoring=None, store_cv_values=False)"
            ]
          },
          "metadata": {
            "tags": []
          },
          "execution_count": 57
        }
      ]
    },
    {
      "cell_type": "code",
      "metadata": {
        "id": "E2yO34b2iyu6",
        "colab_type": "code",
        "colab": {}
      },
      "source": [
        "y_pred_r = ridge.predict(X_test)"
      ],
      "execution_count": 0,
      "outputs": []
    },
    {
      "cell_type": "code",
      "metadata": {
        "id": "LtdXlke7i62f",
        "colab_type": "code",
        "outputId": "c50c69c9-2c0e-43ff-e872-6b0a7fdf3689",
        "colab": {
          "base_uri": "https://localhost:8080/",
          "height": 34
        }
      },
      "source": [
        "rmse = sqrt(mean_squared_error(y_test, y_pred_r))\n",
        "rmse"
      ],
      "execution_count": 59,
      "outputs": [
        {
          "output_type": "execute_result",
          "data": {
            "text/plain": [
              "2.37664859146776"
            ]
          },
          "metadata": {
            "tags": []
          },
          "execution_count": 59
        }
      ]
    },
    {
      "cell_type": "code",
      "metadata": {
        "id": "R7rZlhlsjY90",
        "colab_type": "code",
        "outputId": "eece9136-a595-4c28-f3d7-35796e3db912",
        "colab": {
          "base_uri": "https://localhost:8080/",
          "height": 34
        }
      },
      "source": [
        "print(mean_absolute_error(y_test, y_pred_r))"
      ],
      "execution_count": 60,
      "outputs": [
        {
          "output_type": "stream",
          "text": [
            "1.7649498076453982\n"
          ],
          "name": "stdout"
        }
      ]
    },
    {
      "cell_type": "markdown",
      "metadata": {
        "id": "VERk8_OR4OKa",
        "colab_type": "text"
      },
      "source": [
        "We have found out that of all Svm.SVR works best of sll the algorithm with 'C' value of 100"
      ]
    },
    {
      "cell_type": "code",
      "metadata": {
        "id": "seN8bJ-d1-tk",
        "colab_type": "code",
        "colab": {}
      },
      "source": [
        "clf1 = svm.SVR(C=100)\n"
      ],
      "execution_count": 0,
      "outputs": []
    },
    {
      "cell_type": "code",
      "metadata": {
        "id": "wEjZunKJ1-7Q",
        "colab_type": "code",
        "colab": {
          "base_uri": "https://localhost:8080/",
          "height": 52
        },
        "outputId": "f66dc7ea-82aa-48bb-c9b2-883c6fae9707"
      },
      "source": [
        "clf1.fit(X, y)"
      ],
      "execution_count": 63,
      "outputs": [
        {
          "output_type": "execute_result",
          "data": {
            "text/plain": [
              "SVR(C=100, cache_size=200, coef0=0.0, degree=3, epsilon=0.1, gamma='scale',\n",
              "    kernel='rbf', max_iter=-1, shrinking=True, tol=0.001, verbose=False)"
            ]
          },
          "metadata": {
            "tags": []
          },
          "execution_count": 63
        }
      ]
    },
    {
      "cell_type": "code",
      "metadata": {
        "id": "JSydIAj81_Dl",
        "colab_type": "code",
        "colab": {}
      },
      "source": [
        "y_pred_svm=clf.predict(test_value)"
      ],
      "execution_count": 0,
      "outputs": []
    },
    {
      "cell_type": "code",
      "metadata": {
        "id": "JzmrgTI5w2iU",
        "colab_type": "code",
        "outputId": "43bf55bb-b356-40b5-9363-47e6dfc1febc",
        "colab": {
          "base_uri": "https://localhost:8080/",
          "height": 34
        }
      },
      "source": [
        " final_aff=y_pred_svm.tolist()\n",
        " type(final_aff)"
      ],
      "execution_count": 65,
      "outputs": [
        {
          "output_type": "execute_result",
          "data": {
            "text/plain": [
              "list"
            ]
          },
          "metadata": {
            "tags": []
          },
          "execution_count": 65
        }
      ]
    },
    {
      "cell_type": "code",
      "metadata": {
        "id": "l-cAjl8bvMnJ",
        "colab_type": "code",
        "colab": {}
      },
      "source": [
        " final_test= test_name.values.tolist()"
      ],
      "execution_count": 0,
      "outputs": []
    },
    {
      "cell_type": "code",
      "metadata": {
        "id": "P9nmEvH6vMsS",
        "colab_type": "code",
        "outputId": "5ba474ea-814a-4fec-9e3f-941a1939cdc5",
        "colab": {
          "base_uri": "https://localhost:8080/",
          "height": 34
        }
      },
      "source": [
        "type(final_test)"
      ],
      "execution_count": 67,
      "outputs": [
        {
          "output_type": "execute_result",
          "data": {
            "text/plain": [
              "list"
            ]
          },
          "metadata": {
            "tags": []
          },
          "execution_count": 67
        }
      ]
    },
    {
      "cell_type": "code",
      "metadata": {
        "id": "rDd-U5-f5TbR",
        "colab_type": "code",
        "colab": {
          "base_uri": "https://localhost:8080/",
          "height": 54
        },
        "outputId": "72ba92b3-6f0c-45c2-ea9b-2f3148653a4e"
      },
      "source": [
        "print(final_test)"
      ],
      "execution_count": 71,
      "outputs": [
        {
          "output_type": "stream",
          "text": [
            "[['Cc1ccc(C2CNCCN2C)cc1'], ['CCOC(CO)c1ccccc1'], ['CC(=O)Nc1cnn(C)n1'], ['CCC(C)NCc1ncccn1'], ['CC(C)=C1CC(N)C1'], ['CN1CCCc2cc(CON)ccc21'], ['CC12CNCC1CN(CC(N)=O)C2'], ['CCNC(C)C(C)c1cnccc1C'], ['CCN(Cc1ccccc1)C(C)CCCNC'], ['CCC(=O)c1cc(C)ccn1'], ['C=CC(O)c1cc(C)ccn1'], ['C#CCCOc1cnccc1C'], ['Cn1nc2ccccc2c1S(N)(=O)=O'], ['Cn1cnn(CC(N)=O)c1=O'], ['CC(NCCSc1ccccc1)c1ccncc1'], ['Cc1ccsc1-c1ccc(O)nc1'], ['N#Cc1ncccc1N1CC2CC1CN2'], ['N#Cc1cnccc1SCC(N)=O'], ['N#Cc1ccc(C2NCCCCC2=O)cn1'], ['CC(C)C(C)Sc1ccc(C#N)cn1'], ['Cc1ccnc(C=CCCN)c1'], ['CCOC(CC)C(=O)c1cnccc1C'], ['Cc1ccncc1C(O)CNCC(C)C'], ['CS(=O)(=O)c1ncc(N)cn1'], ['OCC(O)CCSCc1ccccc1'], ['COC(=O)CNCc1cc(C)ccn1'], ['CCOC(c1ccccc1)C(CC)NN'], ['Cc1ccncc1C(=O)CCCN(C)C'], ['C=CCCSCCNc1cc(C)ccn1'], ['CCNC(=S)NNC(=O)Cc1ccccc1'], ['OC(CCCc1ccccc1)c1cccnc1'], ['CC(=O)CC(C)c1cnccc1C'], ['CN1CCC(O)(c2ccoc2)CC1'], ['Cc1ccnc(NC(=O)C#CCN)c1'], ['N#Cc1cnccc1NCCCO'], ['CCSCc1cncc(C#N)c1'], ['NC1=CCOC1=O'], ['CNC(CSC1CCCCC1)Cc1cccnc1'], ['COC(=O)c1ccc(C(C)C=O)cc1'], ['CC(=O)CC(O)c1cnccc1C'], ['CCCNCc1ccccc1S(N)(=O)=O'], ['N#Cc1nccnc1N1CCCOCC1'], ['CCC(CC)Oc1ncccc1C#N'], ['CC(C)(C)C(C)(N)c1ccccc1'], ['CN(C)NCc1ccccc1'], ['NC12CCCC1CNC2'], ['C(=Cc1ccccc1)CNCc1cccnc1'], ['CCNCCNc1ncccc1C#N'], ['CC(C)OCc1ccc(C#N)cn1'], ['NC1Cc2csnc2C1'], ['Cc1ccsc1C1NCCCCC1O'], ['N#CCCNCc1cncnc1'], ['COC(=O)c1ccccc1C#CCO'], ['N#CC1CN(CCN)C(=O)O1'], ['CC(CCO)Nc1ccc(C#N)cn1'], ['NC1CC2(CCNC2=O)C1'], ['C#CC(CO)NCc1cnccc1C'], ['CN1CCCc2cccc(OCC#N)c21'], ['NNC(c1ccncc1)C1CCCCC1'], ['C#CCCSc1ncccn1'], ['Cc1ccncc1C(C)(N)C(C)C'], ['NS(=O)(=O)c1ccc(SCCO)cc1'], ['Cc1ccnc(CC(=O)C(=O)O)c1'], ['CN1CC2CCN(CC(N)=O)C2C1'], ['O=C=NCc1ccncn1'], ['Cc1cscc1C1CC(O)CN1'], ['O=C(CC1CCCCC1)NC1CCCNCC1'], ['CC(O)Cc1cncnc1'], ['CCC(CC)Oc1ccc(C#N)cn1'], ['Cc1ccnc(NN=CC(C)C)c1'], ['COC(CNCCCOCc1ccccc1)OC'], ['N#Cc1ncccc1C1CCCCC1'], ['NC1COC2COCC12'], ['COC(=O)c1ccccc1C=CCCO'], ['CCCC(C)Sc1ncccn1'], ['CC(C)CC(=O)NCCCc1ccccc1'], ['CCC(CC#N)Nc1ccc(C#N)cn1'], ['CCCC(C)C(=O)c1cc(C)ccn1'], ['CCOc1cncnc1'], ['NCCCCC(O)c1ccccc1'], ['N#CCNc1ccncc1C#N'], ['N#Cc1cnccc1NCC=CCN'], ['CCCOCC(NC)c1cc(C)ccn1'], ['Nc1ccc(S(N)(=O)=O)cc1'], ['c1cncc(OCCNC2CCCCC2)c1'], ['CSCC(C)CNc1ncccc1C#N'], ['CC(N)CNc1cncnc1'], ['CC(C)(N)CNC(=O)Cc1ccccc1'], ['NC(CO)c1ccncn1'], ['CC(=O)OCSc1ncccn1'], ['CN1CCCc2cccc(C=O)c21'], ['CCNc1cc(NCC(C)(C)O)ccn1'], ['CCC(CC)CC(=O)COCc1ccccc1'], ['C=CCCC(=O)OCc1ccccc1'], ['CN(CCCO)C(=O)Oc1ccccc1'], ['CSCCC(=O)c1cncnc1'], ['CC(C)CCCC(O)CCOCc1ccccc1'], ['COc1ccncc1C#N'], ['CNc1nc(N)ncc1N'], ['c1ccc(CONCCNc2ccncc2)cc1'], ['Cc1ccncc1C(=O)NCC=CCN'], ['CSCCCCNCCOCc1ccccc1'], ['CCCCC(Nc1ccccc1)C(N)=O'], ['CC(C(=O)O)c1cncnc1'], ['CCOC(=O)C#Cc1cc(C)ccn1'], ['CCNc1sccc1C#N'], ['NC1CCC12CCCO2'], ['CCSc1ccc(C(=O)OC)cc1'], ['CN(c1ccncc1C#N)C(C)(C)CO'], ['Cc1ccncc1NC(=S)NC(C)C'], ['O=C(CC1C=CCC1)Nc1cccnc1'], ['CC(O)(CN)CCCCSc1ccccc1'], ['CCC(CC)C(=O)c1cc(C)ccn1'], ['CCC(C)NCCC(=O)NCc1ccccc1'], ['CCOC(=O)CNc1cc(C)ccn1'], ['CNC(CN)c1ccncn1'], ['C#CCCC(N)c1cncnc1'], ['NN=Cc1ccc(S(N)(=O)=O)cc1'], ['CNCCSc1ccncn1'], ['CN=C1SC(CC(N)=O)C(=O)N1C'], ['C=CCCC(=O)Nc1ccc(C#N)cn1'], ['CC(CO)CN(C)c1ccncc1C#N'], ['CC(CN)Sc1ncccc1C#N'], ['CCNc1cc(OC(C)CC)ccn1'], ['CN(C)CCCCNc1ccc(C#N)cn1'], ['CC(C)C(CN)Nc1ccc(C#N)cn1'], ['Cc1ccnc(NC(=O)CCCCO)c1'], ['CN(CCN)c1cncnc1'], ['N#Cc1ncccc1C1CNCCOC1'], ['CCNC(C)C(=O)Nc1cc(C)ccn1'], ['CCNc1cccc(C(N)=S)n1'], ['C#CCCCOc1ccnc(NCC)c1'], ['Cc1ccncc1CNCCCCC#N'], ['c1cc(CNC2CCCCC2)ccn1'], ['Cc1ccncc1OCC(C)O'], ['Cc1ccncc1NCC(C)C(C)C'], ['C=CCC(=O)C(O)c1cnccc1C'], ['C=CCC(=O)NCC(N)c1ccccc1'], ['C=Cc1ccccc1S(N)(=O)=O'], ['CCCNCCOCCN(C)Cc1ccccc1'], ['C=CCc1cc(C)ccn1'], ['CC(Sc1ccncc1C#N)C(=O)O'], ['Cc1ccncc1CNCC(C)C'], ['CC(N)C(C)(O)c1cncnc1'], ['C#CCCC(O)CNc1cc(C)ccn1'], ['NC(CSc1ccccc1)Cc1ccncc1'], ['CC(C)(N)c1ccncn1'], ['NC1CCS(=O)(=O)C1'], ['CCCCC(O)(CC)Cc1ccccc1'], ['CCC=CCNc1ccncc1C#N'], ['CCCCC(NC)c1cnccc1C'], ['CCNC(=S)Nc1cncnc1'], ['CC1CC2(CCC2)CN1CC(N)=O'], ['Cc1ccncc1NC(=O)C=CCN'], ['CN1CCCc2cccc(N)c21'], ['CCNc1ncnc(O)c1N'], ['CNC(=O)NCc1cncc(C#N)c1'], ['CCNC1(C#N)CC2CNC(C2)C1'], ['CC(CCO)Sc1ccncn1'], ['CCN(CC)Cc1cc(C)ccn1'], ['Cc1ccc(SCC2CNCCN2C)cc1'], ['CCN(CCN)C(=O)COc1ccccc1'], ['CC(C)C(N)CC(O)Cc1ccccc1'], ['CC(ON)c1ccccc1S(N)(=O)=O'], ['C#CCCCNc1ccncc1C#N'], ['Cc1ccncc1OCCC(C)CCS'], ['CC(C)=CCNCc1cncc(C#N)c1'], ['CNCCC(C)CCc1ccccc1'], ['CC(O)C(C)Sc1ccncn1'], ['CN1c2ccccc2CCC1C(=O)O'], ['Cc1ccncc1OCCCC(C)C'], ['OC1CCN(CC2CCNCC2)CC1'], ['O=C(CC1CCC1)Nc1cccnc1'], ['NC(c1ccncc1)C1CCCCC1'], ['COc1ncc(N)c(N)n1'], ['CCCNc1cncc(N2CCCOCC2)c1'], ['Cc1ccncc1C(=O)C(C)C(C)C'], ['C=C(CNCC)c1ccccc1'], ['CC(C)(C)CCC=C1CC(N)C1'], ['CCNc1cccc(NCCSSC)n1'], ['c1ccc(CCNc2cccnc2)cc1'], ['COCCN(C)C(=O)NCc1ccccc1'], ['CN(C)CCCSc1ccncc1C#N'], ['CCC(C)C(N)c1cc(C)ccn1'], ['NC(Cc1ccccn1)c1ccccc1'], ['OCCSCc1ncccn1'], ['CCC(C)C(C)=C1CCC(N)C1'], ['N#Cc1ccc(NCCCC(N)=O)nc1'], ['CCNc1ccnc(C#N)c1'], ['N#Cc1ccc(C(=O)N=C=S)nc1'], ['Cc1ccncc1C(C)(C)CCN'], ['NCCNCc1cncnc1'], ['CCC(CC(C)c1ccccc1)C(C)O'], ['CC(C)(CSCc1ccccc1)C(=N)N'], ['CSCCCSCC(O)c1ccccc1'], ['COC(=O)c1ccc2c(c1)CCCN2C'], ['N#Cc1cccnc1OCCCO'], ['O=C(NCCO)c1ccncn1'], ['N#Cc1cccc(C2NCCCCC2=O)n1'], ['CN(C)Nc1ccncn1'], ['CCCC(C)(N)c1ccncn1'], ['CCCN(CCCN)c1cc(C)ccn1'], ['OC(CNC1CCCCC1)c1cccnc1'], ['Cc1ccccc1S(N)(=O)=O'], ['NC1Cc2ccsc2C1=O'], ['CN1CCC(N)c2ccccc21'], ['CC(CCO)CCNC(=O)c1ccccc1'], ['NC(Cc1cccnc1)CC1CCCCC1'], ['NC1=NC(=O)NC1'], ['CC1c2ccsc2CCN1S(N)(=O)=O'], ['CC(C)(CON)c1cncnc1'], ['NC(=O)Cc1ccncn1'], ['CC(CN)SCc1cncc(C#N)c1'], ['CCC(O)C(C(=O)O)c1ccccc1'], ['Nc1ccon1'], ['CCCNC(c1cnccc1C)C(C)(C)C'], ['CC(C#N)CNC(C)Cc1ccccc1'], ['CC=CCNc1ccncc1C#N'], ['CCNC(CCOCC)c1cc(C)ccn1'], ['CC(C)SC(C)(C=O)c1ccccc1'], ['Cc1ccnc(NCCOC(C)C)c1'], ['NC1=NC2(CO1)CSC2'], ['OC1CCNC(Cc2ccsc2)C1'], ['N#Cc1cc(N2CCCCCCC2)ccn1'], ['CCNc1cccc(NC(C)COC)n1'], ['CCCCC(=O)c1cnccc1C'], ['CN(C)CCNc1ccncn1'], ['N#Cc1cc(C2CCSC2)ccn1'], ['Cc1ccncc1NCC(C)CC(C)C'], ['CCNc1cccc(NCCCOC)n1'], ['CC(C)(O)C=C1CC(N)C1'], ['CCN(CC(C)O)c1ccncc1C#N'], ['CC(C)(N)CCNc1ccc(C#N)cn1'], ['OC1CCN(CCCc2cccs2)CC1'], ['Nn1cncn1'], ['CCC(N)CSc1ncccn1'], ['NCCCCC(=O)Cc1ccccc1'], ['CCC(CNc1cc(C)ccn1)N(C)C'], ['CCC(O)CCNc1ccc(C#N)cn1'], ['CC(C)(C)C(C#N)CNc1ccccc1'], ['CC(C)(N)CCOc1ncccc1C#N'], ['CCC(C)C=C1CCCC(N)C1'], ['C#CCCNc1ccncc1C#N'], ['NCCCCNc1ccncn1'], ['C#CCSCc1ncccn1'], ['CC(N)C(C(=O)O)c1ccccc1'], ['Nc1cnsc1'], ['Cc1ccncc1CNCCC(C)(C)O'], ['CCC(O)c1cnccc1C'], ['C=CC(=O)NCc1cnccc1C'], ['COC(=O)C(C#N)=Cc1cnccc1C'], ['C=C(C)CNc1ccccc1C(=O)OC'], ['COCCC(C)C(O)c1cnccc1C'], ['CCCC(N)C(=O)N(C)c1ccccc1'], ['NS(=O)(=O)c1ccccc1C=CCO'], ['Cc1ccncc1C(N)CCC(C)C'], ['C=CC=CCCc1cncnc1'], ['C=C(C)CCOc1ccnc(NCC)c1'], ['CC(=O)Nc1ccc(C)nn1'], ['CCNc1cccc(CSCC(=O)OC)n1'], ['CN=C(NC)SCc1cncc(C#N)c1'], ['CCOC(=O)c1cc(C)ccn1'], ['CS(=O)(=O)c1ccc(C#N)cn1'], ['NC1CCn2nncc21'], ['NS(=O)(=O)c1ccc(CCS)cc1'], ['CCC(CC)C(C)Nc1cc(C)ccn1'], ['Cc1ccncc1C(=O)C(N)CC(C)C'], ['N#CCc1cncnc1'], ['CC(C)(CO)SCc1cncc(C#N)c1'], ['CCC(OC)C(NN)c1cnccc1C'], ['CCc1cnccc1C'], ['COC(=O)c1ccccc1C(O)C(C)C'], ['CCCONC(N)=NCc1ccccc1'], ['CCCCCC(N)CSc1ccccc1'], ['C#CCNC(=O)NCCSCc1ccccc1'], ['CC(O)(CCN)CSCc1ccccc1'], ['CCNC1(C#N)CCC2CC21'], ['COC(OC)C(C)NCc1cnccc1C'], ['CCC(N)CC=Cc1ccccc1'], ['C=CC(CO)Nc1ncccc1C#N'], ['CCc1ncc(N)c(C)n1'], ['COCCSCc1ncccn1'], ['OC1CCN(Cc2cscn2)CC1'], ['CCOC(=O)NCC=Cc1ccccc1'], ['CC(C)(C)c1ccncc1C#N'], ['CC(=O)Nc1cnc(C)s1'], ['COCCCNc1ccc(C#N)cn1'], ['CC(=O)NC1(C)CC=CCC1'], ['CSCc1ccccc1'], ['NN=C(N)c1ccncn1'], ['C=CC(NCC)c1cnccc1C'], ['CC(N)(CC#N)c1cncnc1'], ['CCC(C)OCC(=O)Nc1cnccc1C'], ['CNc1ncccc1C#N'], ['Nc1ncc2n1CCC2'], ['Cc1ccc(CC(N)=O)s1'], ['CN1CCCc2c(CN=C=O)cccc21'], ['C=C(C)CCCNc1ncccc1C#N'], ['CC(CCO)SC(CC#N)c1ccccc1'], ['CCNC(CC(C)CC)c1ccccc1'], ['CCNc1cccc(COC(C)CC)n1'], ['COCCCC(NN)c1cnccc1C'], ['CN1CCC(O)(c2ccco2)CC1'], ['CCCC(C)=C1CCCCC1N'], ['CCNc1cncc(N2CCCOCC2)c1'], ['CCC(=O)c1cnccc1C'], ['N#CC(NCc1ccncc1)C1CCCCC1'], ['CCCNc1cccc(S(N)(=O)=O)c1'], ['CCCC(C)=C1CCCC1N'], ['CCNC(N)=NCCSc1ccccc1'], ['COC(=O)c1ccc(CC(O)CN)cc1'], ['N#Cc1ccccc1N1CCOCC1'], ['NC1CCCNCC1'], ['COCCC(C)(C#N)c1ccccc1'], ['C=CCC(C)Nc1ccc(C#N)cn1'], ['CSCCC(C)Nc1ccncc1C#N'], ['CC(=O)NC1(C)CCCCCC1'], ['NC1CSCCC12CC2'], ['CCCN(CC)C(CN)c1cnccc1C'], ['CC(C(NN)c1ccccc1)N(C)C'], ['CC(CO)c1cccc2c1N(C)CCC2'], ['C#CCCCC(=O)COCc1ccccc1'], ['N#Cc1ncccc1C1NCCNC1=O'], ['CCC(N)CCC(=O)c1cnccc1C'], ['Cc1ccncc1OCC(C)(C)CO'], ['COC(C)CCNc1cc(C)ccn1'], ['NC1=CCNN1'], ['CCN(CCC(=O)O)c1ncccc1C#N'], ['OC1(Cc2ccsc2)CCCC1'], ['NC1C2C=CSC12'], ['C#CC(C)OCc1cncc(C#N)c1'], ['C#CC(C)=Cc1ccccc1'], ['COCCCC(C)Nc1cnccc1C'], ['O=CCc1ncccn1'], ['CC(CN)CNC(C)c1ccccc1'], ['CCOC(C)CNc1ccc(C#N)cn1'], ['CCCCC(C)C=C1CC(N)C1'], ['CCOc1ncc(N)c(N)n1'], ['CC#CCSc1ccc(C#N)cn1'], ['CCNC(C)CNCCCOCc1ccccc1'], ['CC(=O)Nc1nc(C)cs1'], ['CCCCNCC(OC)c1ccccc1'], ['CC(C)CC=C1COCC1N'], ['O=C(O)C#CCCOc1ccccc1'], ['C=C(C(=O)O)c1cnccc1C'], ['CCCC(C)CC(=O)c1cnccc1C'], ['CC(CC#N)c1cccc2c1CCCN2C'], ['CC(=O)NC1CCCC(C)C1'], ['Cc1ccnc(NC(=O)CC(C)N)c1'], ['NC12C3C4C5C3C1C5C42'], ['CNC(C(N)=O)c1cncnc1'], ['CCCC(NC)C(C)(O)c1ccccc1'], ['Cc1ccncc1C(=O)NC(CN)CN'], ['Cc1cccnc1CC(N)=O'], ['CN1CCC(O)(C2=COCCC2)CC1'], ['CC(Cc1ccccc1)NC(CO)C(C)C'], ['NCCCNc1ccncn1'], ['CC#CCCNC(=O)C#Cc1ccccc1'], ['CCN(C)C(=O)c1ncccn1'], ['CCNC(c1ccncc1)C1CCCCC1'], ['S=C(NCc1ccccn1)Nc1ccccc1'], ['CC=CC(N)c1ncccn1'], ['CCCC(NN)c1cncnc1'], ['CCC(C)(CO)CNc1cnccc1C'], ['CCCCCC(COCc1ccccc1)NN'], ['C=CCNCc1cc(C)ccn1'], ['CCC(C)C(=O)c1cncnc1'], ['CC(C)NCCCC(C)c1ccccc1'], ['CNC(CCOC(C)C)c1cc(C)ccn1'], ['C=C(C)CCCNc1cc(C)ccn1'], ['CC(=O)Nc1nc(C)co1'], ['COC(=O)CC(=O)NCc1ccccc1'], ['COC(=O)c1ccc(CON)cc1'], ['NCCCCNc1ncccn1'], ['CNCc1ccccc1S(N)(=O)=O'], ['Cc1ccncc1NCC(C)N'], ['CCNCCCc1cncnc1'], ['CNC(=O)CNc1ncccn1'], ['C#CCNCc1ncccn1'], ['CCS(=O)(=O)CCCNc1ccccc1'], ['CCNc1cc(OC)ccn1'], ['Cc1ccnc(NCCOCCCO)c1'], ['Cc1ccnc(NC(=O)C(=O)O)c1'], ['C=CCC=C1CC(N)C12CCC2'], ['Cc1ccc(CNCC2CNCCN2C)cc1'], ['CC(N)C(=O)c1cncnc1'], ['COC(=O)c1ccccc1CNCCC(C)C'], ['N#Cc1ccc(N2CC3CCC2C3)cn1'], ['OCC(Nc1ccccc1)c1cccnc1'], ['COC(=O)c1ccccc1C(C)SC'], ['CCOCC(=O)Nc1ccc(C#N)cn1'], ['Nn1cc2sccc2n1'], ['NC12C=CC(CC1)C2'], ['Cc1ccncc1NC(=O)C(C)CS'], ['CCCCC(N)c1cncnc1'], ['NC(=O)CNc1ncccn1'], ['CCN(CC)CCC(=O)c1cnccc1C'], ['CC(C)CC(=O)c1ncccn1'], ['c1cncc(CNCCCOC2CCCCC2)c1'], ['CCCN(C)c1ncccc1C#N'], ['Cc1ccncc1OCCC(C)(C)O'], ['N#Cc1ccccc1NN1CCOCC1'], ['CN1c2ccccc2CCC1CC(=O)O'], ['C#CCCC(O)Cc1ccccc1'], ['CCNC1(C#N)CCCCCCC1'], ['C#CCCNc1ncccc1C#N'], ['CN(CCS)Cc1ncccn1'], ['CCN(CCO)C(=O)NCc1ccccc1'], ['CCC(CN)CN(CC)Cc1ccccc1'], ['C=C(COCC)C(O)c1cnccc1C'], ['O=C(O)CCNc1ncccn1'], ['NCCC(c1ccccc1)c1cccnc1'], ['N#Cc1ncccc1N1CC=CCC1'], ['CC(C)CCCNc1ccncc1C#N'], ['Nc1noc2c1CCO2'], ['C=CCSCCC(N)c1ccccc1'], ['N#Cc1ccc(-n2nccn2)cn1'], ['C#CCC(C)(C)Nc1ccncc1C#N'], ['Cc1ccncc1CSC(C)(C)C'], ['Cc1ccccc1CCC1CNCCN1C'], ['CNC(=N)NC(CO)c1ccccc1'], ['CCC(C)(C)COc1cnccc1C'], ['CC(C)(C)C(C)(N)Cc1ccccc1'], ['CNCC(Sc1ccccn1)c1ccccc1'], ['CN1CCCc2ccc(C(O)C#N)cc21'], ['CC(=O)Nc1ncc(C)cn1'], ['COCC(N)Cc1ncccn1'], ['CON(C)c1ccncc1C#N'], ['C=CCSCc1cccnc1NCC'], ['CNCC(C)Oc1ccc(C#N)cn1'], ['NC1=NCCCO1'], ['CN1CCC(Oc2cccnc2)CC1'], ['CC(=CCN)c1ncccn1'], ['C=C(CC)CNc1ncccn1'], ['N#Cc1ccc(C2NCCNC2=O)cn1'], ['CCC(C)(C)CNCc1cnccc1C'], ['COCCSc1ncc(N)cn1'], ['CC(NS(C)(=O)=O)C1CCC1'], ['CCCC(C)(N)c1cnccc1C'], ['Cc1ccncc1CN(C)C(N)=O'], ['COC(=O)C(C)CSCOCc1ccccc1'], ['C#CC(C)(C)Oc1cccc(NCC)n1'], ['CCNc1nnccc1C#N'], ['N#Cc1ccc(NCCN2CCOCC2)cc1'], ['CCOC(=O)CC(C)c1cc(C)ccn1'], ['NS(=O)(=O)c1ccc(OCCO)cc1'], ['O=C1CCCC1CN1CCC(O)CC1'], ['CC(=O)NC1CCSC(C)C1'], ['Cc1ccsc1C1(O)CC2OCCC21'], ['CCNc1cccc(N(C)CCCOC)n1'], ['O=C1CCCCCC1CN1CCC(O)CC1'], ['NCC(S)c1cncnc1'], ['CC(N)C(C)Nc1cncnc1'], ['C#CCCC(C(=O)O)c1ccccc1'], ['CCCCNC(O)COc1ccccc1'], ['C#CCC(O)CNc1ccc(C#N)cn1'], ['CC(O)C(C)c1cncnc1'], ['Cc1ccncc1C(=O)C(O)CCN'], ['CC12CCCCC1CN2S(N)(=O)=O'], ['O=C(CCCO)c1cncnc1'], ['C=CCCC(=O)c1ccncn1'], ['Cc1ccnc(NCC(C)N(C)C)c1'], ['CC(C)CN(C)c1ccncc1C#N'], ['C=CC(=O)NCCCCNOCc1ccccc1'], ['CCC(C)C(O)c1cncnc1'], ['CNCCCCNc1ccccc1C(=O)OC'], ['Cc1ccncc1C#CCNC(=O)CN'], ['COCCNC(c1ccccc1)c1ccccn1'], ['Cc1ccnc(C(O)C(=O)O)c1'], ['CN1CCCc2ccc(C(N)C#N)cc21'], ['O=C=NCC=Cc1ccccc1'], ['COCCN(C)c1ccncc1C#N'], ['Cc1ccncc1C(C)CCN'], ['N#Cc1ccc(N2CCCNCC2)cn1'], ['O=C(CCC1CCCCC1)Nc1ccccn1'], ['COC(=O)c1ccc(CCCS)cc1'], ['Cc1ccncc1C=C(N)C(=O)O'], ['NC1=NC(=O)OC12CSC2'], ['NCC(N)c1cncnc1'], ['COC(c1cnccc1C)C(C)(C)O'], ['CN1CCCc2cccc(CCC=O)c21'], ['Nc1nc2n(n1)C(=O)CS2'], ['CN1CC(=O)NC(=O)C1CC(N)=O'], ['CCCC(NCC)c1cnccc1C'], ['C#CC(O)CCOCc1ccccc1'], ['C#CCN(CC=O)Cc1ccccc1'], ['CCC(CSC)Nc1ncccc1C#N'], ['CCC(N)c1ncccn1'], ['OCC(O)c1ncccn1'], ['CCON(CC)C(=N)c1ccccc1'], ['N#CC(C#N)c1cncnc1'], ['O=C(COc1ccccc1)N1CCNCC1'], ['NN1C(=O)C=CC1=O'], ['CC(N)C1CCN(C#N)C1'], ['N#Cc1ccccc1C1CNCCO1'], ['CCNCCNc1ccncc1C#N'], ['COC(=O)CCNC(=O)Nc1ccccc1'], ['COCCc1cc(C)ccn1'], ['CCNC(=O)NCc1cc(C)ccn1'], ['Oc1nnc(Cc2ccsc2)o1'], ['O=C(NCCc1ccncc1)C1CCCCC1'], ['N#Cc1cc(-c2nnco2)ccn1'], ['CCC(CC(=O)O)Nc1ncccc1C#N'], ['CSCCSC(C)c1ccccc1'], ['COCC(CO)Nc1ccc(C#N)cn1'], ['OCc1ccncc1N1CCCOCC1'], ['CCCSCCNc1ccc(C#N)cn1'], ['CSCC(=O)c1cnccc1C'], ['CCc1ccccc1S(N)(=O)=O'], ['CC(CO)Nc1ncccn1'], ['CC(=O)NC1CCC(=O)N(C)C1=O'], ['OC1CCN(CC2CCC=CCC2)CC1'], ['NCC(O)(c1ccncc1)C1CCCCC1'], ['N#Cc1cccnc1N'], ['COC(=O)c1ccccc1'], ['CC(CN)C(=O)N(C)Cc1ccccc1'], ['CN(c1ncccc1C#N)C(CO)CO'], ['C=C(C)CCNC(C)c1cnccc1C'], ['CCNc1cc(C(=N)N)ccn1'], ['COC(C)C(C)NCc1cc(C)ccn1'], ['CNCCNC(=O)Nc1ccccc1'], ['CCOC(=O)CCNC(=O)c1ccccc1'], ['CCCCN(C)c1ccncc1C#N'], ['CCOCc1ncc(N)c(O)n1'], ['OC1CCN(c2cccs2)CC1'], ['C#Cc1ccc(NCC)nc1'], ['NC(=O)c1ccccc1'], ['CCCNC(=O)c1cccc(NCC)n1'], ['CC(=O)Nc1cnoc1C'], ['CC(C)(N)CNc1ccncn1'], ['CC(C)OCC(N)(CO)c1ccccc1'], ['CNCC(=Cc1cnccc1C)C(C)C'], ['CC=CCNc1ncccc1C#N'], ['CCNCc1ccc(NCC)nc1'], ['N#Cc1nc(N)ncc1N'], ['C#CCONCc1ccncn1'], ['CC(CO)Nc1ncc(N)cn1'], ['CC(C)N(C#N)Cc1ccccc1'], ['NCCNc1ncccn1'], ['CC(=O)Nc1ccoc1C'], ['CSSCCNC(C)c1cnccc1C'], ['NC1=NC(=O)NC12CNC2'], ['CN(CC=O)c1ncccn1'], ['N#Cc1ccc(-c2ccccc2)cn1'], ['CCN(CCC#N)C(=O)Nc1ccccc1'], ['COc1ncnc(S)c1N'], ['CC(C)C(c1ccccc1)C(C)N'], ['CN(Cc1ccccc1)c1ccccn1'], ['Cc1ccsc1C1(O)CCCCC1=O'], ['Cc1cn(CC(N)=O)ccc1=O'], ['CCCNC(=O)Nc1ccc(C#N)cn1'], ['O=C(O)C1CCCN(Cc2ccsc2)C1'], ['NC1CC(=O)C1'], ['C=C(C)CNC(C)COc1ccccc1'], ['CNC(=O)CNc1cc(C)ccn1'], ['N#Cc1ccc(C2COCCN2)cc1'], ['CC(C)CC(N)c1ncccn1'], ['N#Cc1cnccc1NCC(=O)O'], ['CCOCc1ncc(N)cn1'], ['Cc1ccnc(CNC(=S)NN)c1'], ['O=C(CCNCCO)c1ccccc1'], ['NC(Cc1cccnc1)c1ccccc1'], ['CCCCCCN(CCN)Cc1ccccc1'], ['CCOC(=O)C(N)c1cc(C)ccn1'], ['CC(C)CNc1ncc(N)cn1'], ['CCCC(C#N)C(=O)Nc1ccccc1'], ['C=C(C)CC(NCC)c1cc(C)ccn1'], ['CCC(C)(CNc1cc(C)ccn1)OC'], ['C=CCOc1ncccc1C#N'], ['C=CC(C)Nc1ncccn1'], ['CCCC(N)CC(C)c1ccccc1'], ['C=CCC(N)C(=O)c1cnccc1C'], ['N#Cc1cc(CCN)no1'], ['CCNc1cccc(CN(C)CC)n1'], ['Cc1ccnc(OCCN)c1'], ['CC(=O)c1ccc2c(c1)CCCN2C'], ['NNCc1ccc(S(N)(=O)=O)cc1'], ['COC(=O)c1ccc(C(N)CSC)cc1'], ['N#Cc1cc(CCN)on1'], ['CCON(C)C(CC#N)c1ccccc1'], ['c1cc(CC2CCCCC2)ccn1'], ['NNC(COCc1ccccc1)c1cccnc1'], ['C=C(CC)CC(N)c1cnccc1C'], ['CC(N)C(O)Cc1ccncn1'], ['CC(O)(C(=N)N)c1cncnc1'], ['NN1C(=O)CSCC1=O'], ['CC(C)(C#N)CNc1ncccc1C#N'], ['CCC(CC)COc1ccncc1C#N'], ['NCC(OCc1ccccc1)c1ccncc1'], ['NCCNC(=O)c1ccncn1'], ['O=C(NCCc1ccncc1)Nc1nncs1'], ['NCCNCCCOCc1ccccc1'], ['NCCN(Cc1cccnc1)C1CCCCC1'], ['CC(C)(CO)Cc1ncccn1'], ['CC(=O)Nc1nc(C)ns1'], ['O=C(NCc1ccncc1)NC1CCCCC1'], ['CN(CCNC1CCCCC1)Cc1cccnc1'], ['CC(C)(C)NCC(=O)Cc1ccccc1'], ['N#CCc1cc(CN2CCCCC2)cs1'], ['CCCNC(C(=O)O)c1cnccc1C'], ['N#Cc1ccc(CCN)cc1'], ['N#Cc1cncc(C#CCCCN)c1'], ['CCC(c1ccccc1)S(N)(=O)=O'], ['CC(C)SCCNc1ccc(C#N)cn1'], ['N#CC(NC1CCCCC1)c1ccncc1'], ['CC(CO)SCc1cncc(C#N)c1'], ['NN1C(=O)C2CCCC2C1=O'], ['Cc1ccsc1C1(O)CCCNC1'], ['CC(CO)Sc1ncc(N)cn1'], ['CNC(CSc1ccccn1)c1ccccc1'], ['CCOC(CN)CCN(C)Cc1ccccc1'], ['CC(CCC(N)=S)OCc1ccccc1'], ['CCC(NC(=O)c1ccccc1)C(C)C'], ['CC(Cc1ccccn1)NCc1ccccc1'], ['CN1CCCN(CC(N)=O)S1(=O)=O'], ['CCCCC(O)c1cncnc1'], ['N#Cc1ccccc1N1CCCOCC1'], ['Cc1cscc1C1(O)CCNC1'], ['CC#CCNCC(C)Oc1ccccc1'], ['Cc1cscc1-c1nccc(O)n1'], ['Cc1ccnc(N(C)CC(N)=O)c1'], ['CCCCCSCc1cncc(C#N)c1'], ['COCC(=O)c1ccncn1'], ['CCNCCN(C)CCCOCc1ccccc1'], ['COCCNC(=N)c1cnccc1C'], ['CCC(=O)NCc1ncccn1'], ['Cc1ccncc1CNCC(C)N(C)C'], ['N#CNC(=O)c1cncnc1'], ['CCC(C)CNCCN(C)Cc1ccccc1'], ['CC(N)Cc1ccccc1S(N)(=O)=O'], ['CC#CCCC(NC)c1cnccc1C'], ['CNC(=O)Nc1ccccc1C(=O)OC'], ['CC(=O)NCC(=O)Nc1cnccc1C'], ['COC(=O)c1ccccc1OCC(C)O'], ['CCC(O)(CC)C(=O)c1cnccc1C'], ['Nc1cncnc1NCC(=O)O'], ['CSc1ncnc(S)c1N'], ['Cc1ccncc1C(=O)OCC#N'], ['CCC(CC)=C1CCC(N)C1'], ['Cc1ccnc(NCCCC(N)=O)c1'], ['CC(=O)NC1(C)CC=CC1'], ['NC1CCCC1'], ['COC(=O)CNCc1cncc(C#N)c1'], ['Cc1ccnc(CNCCSC(C)C)c1'], ['CCOCCNc1ccncn1'], ['C=CCCCC(O)CCNCc1ccccc1'], ['NCCC(c1ccccc1)c1ccccn1'], ['CC(Sc1ncccn1)C(=O)O'], ['CC(C)CNC(=O)c1ncccc1C#N'], ['Nc1nsc2ncsc12'], ['NC(c1ccsc1)C1(O)CCNCC1'], ['O=C(NCCc1ccncc1)NC1CCOC1'], ['CCCNC(=N)c1ncccn1'], ['CNC(C)C(=O)OCc1ccccc1'], ['CCNc1cc(CSC(C)CC)ccn1'], ['CC(=O)Nc1ccnc(C)c1'], ['CCNc1cccc(C(=N)N)n1'], ['CC(CN)Cc1cccc2c1N(C)CCC2'], ['Cc1ccncc1CN(C)C(C)CN'], ['CN1c2ccccc2CCC1CN'], ['CN(C)CCNc1ncccc1C#N'], ['Nc1onc2c1COC2'], ['N#Cc1ccc(NCC=CC(=O)O)nc1'], ['N#Cc1ccc(C2CNCCOC2)cn1'], ['C=C(C)CC=C1CC(N)C1'], ['COC(CCCN)c1ccccc1'], ['N#Cc1ccc(N2CCC3CC32)cn1'], ['CC(C)(C)CNCc1ccc(C#N)cn1'], ['N#Cc1ccccc1CN1CCOCC1'], ['CON(C)c1ncc(N)cn1'], ['CN1CCCc2cc(C=CCN)ccc21'], ['CCNC(Cc1cccnc1)C1CCCCC1'], ['CNC(=O)CC(C)Nc1cnccc1C'], ['CCC(C)NC(=O)N(C)c1ccccc1'], ['O=C(NCCN1CCC1)NC1CCCCC1'], ['CC(=O)Nc1nnnn1C'], ['OC1CNC(Cc2ccsc2)C1'], ['CC(=O)Nc1cscc1C'], ['CCOC(=O)CC(C)(C)c1ccccc1'], ['CN1CCC(CCCN)c2ccccc21'], ['COC(=O)c1ccccc1C(CO)OC'], ['CCNc1cccc(SCCOC)n1'], ['CN1CCN(CC(N)=O)CCC1=O'], ['CCNc1ncccc1CSCC(C)C'], ['CC(Nc1ccccn1)C1CCCCC1'], ['C#CC(CC)NCc1cnccc1C'], ['O=C(COc1ccncc1)Nc1ccccc1'], ['CC(CN)Cc1cncnc1'], ['CC(C(=O)O)c1ccncc1C#N'], ['NC1CC(=O)NC1=O'], ['Cc1ccncc1NC(=O)C=CC(=O)O'], ['COCCCCNCc1cnccc1C'], ['OC(CNCc1ccccc1)Cc1ccccn1'], ['NC1Cn2ccnc2C1=O'], ['CCN(CC(C)C)c1ncccc1C#N'], ['C=C(CC)CC(=O)c1cc(C)ccn1'], ['CN1CCCc2ccc(C(N)=O)cc21'], ['CCC(C)(CC)C(NN)c1ccccc1'], ['CCC(C)(C)NC(=O)c1ccccc1'], ['CSCC(C)C(O)c1cnccc1C'], ['CCSc1cccc(S(N)(=O)=O)c1'], ['NC1CCC(=O)OC1=O'], ['Cc1ccncc1OCCCC(=O)NN'], ['CCOC(=O)Nc1ccc(C#N)cn1'], ['CNCc1ccc(S(N)(=O)=O)cc1'], ['N#Cc1cccnc1NC(CN)CN'], ['c1ccc(OCCNCc2ccncc2)cc1'], ['CC(CCN)NC(C)c1ccccc1'], ['Cc1ccncc1CNC(C)CC(C)O'], ['CCNC1(C#N)CSC1'], ['NS(=O)(=O)c1ccccc1SCCO'], ['Cc1ccnc(C(C)NC(C)(C)C)c1'], ['CCNc1cccc(N(CC)OC)n1'], ['COC(C)C(=O)Nc1cnccc1C'], ['CCOCCNC(=O)CCNCc1ccccc1'], ['N#Cc1cc(N2CCCO2)ccn1'], ['CCC(C#N)Sc1ncccn1'], ['N#Cc1ccc(C(=O)NCCON)nc1'], ['CCC(C)NCc1ccccc1'], ['CCON(CC)c1ncccc1C#N'], ['C=C(C#N)C(=O)OCc1ccccc1'], ['CCOC(C)C(=O)Nc1cc(C)ccn1'], ['N#Cc1cnccc1OCC(N)CO'], ['CC(C#N)=Cc1cc(C)ccn1'], ['CCNc1cc(SCC(N)=O)ccn1'], ['Cc1ccncc1CN(C)CCO'], ['COCCOc1ccccc1C(=O)OC'], ['NNCc1ncccn1'], ['C#CCc1ccncn1'], ['CC(C)=CCOc1ncccc1C#N'], ['CC(CN)(CO)c1ncccn1'], ['CCNc1cccc(CN)n1'], ['CCN(CCN)CC(C)c1ccccc1'], ['Cc1ccncc1C(C)(CN)CO'], ['C=CCNCCNc1ccccc1'], ['CCCC(C)CC(NC)c1cc(C)ccn1'], ['Cc1ccncc1OCCON'], ['CC(CO)N(C)c1ccc(C#N)cn1'], ['CC1NCCCC1CC(N)=O'], ['CCCCSc1ncc(N)cn1'], ['CCCC(O)(CCC)c1cnccc1C'], ['CSCCC=C1CC(N)C1'], ['CC(C)c1ncncc1N'], ['CCC(C)(CO)Nc1ccncc1C#N'], ['CN1CC(=O)N(CC(N)=O)CC1=O'], ['C=CCCCOc1ccnc(NCC)c1'], ['NN1C(=O)C2CC2C1=O'], ['C=CCC(C)Nc1ccncn1'], ['C=CCC(C)C(O)c1cc(C)ccn1'], ['CC(C)(C)C=C1CCC(N)C1'], ['CN(CCCN)c1ccncc1C#N'], ['CC(=O)C(C)(O)c1ccncn1'], ['CCCC(=O)N(C)CCOCc1ccccc1'], ['CON(C)c1ccc(C#N)cn1'], ['CSCC(C)Nc1ccncn1'], ['CCN(O)C(=O)c1ccc(C#N)cn1'], ['CC(N)c1cnc(C#N)s1'], ['CN1CCCc2cccc(CC=O)c21'], ['O=C(NCCO)c1ncccn1'], ['CC(CCN(C)C)Nc1ncccc1C#N'], ['CCCNCc1cncc(C#N)c1'], ['N#CCCSc1ccc(C#N)cn1'], ['CCC(CC)(CO)Nc1cc(C)ccn1'], ['CSC(C)CCNc1ccncc1C#N'], ['CN1CCCc2c(OCCCN)cccc21'], ['OC(CC1CCCCC1)c1ccncc1'], ['CCCC(NC)C(=O)c1ccccc1'], ['C=CC=CCCC(=O)c1cc(C)ccn1'], ['OCC(CO)(CO)COc1ccccc1'], ['COC(=O)CNC(=O)c1cnccc1C'], ['COC(CNc1ccc(C#N)cn1)OC'], ['C=C(CS)COc1cnccc1C'], ['CC(C)(O)CSc1ccncn1'], ['N#Cc1cn(CCN)nn1'], ['CCNc1cccc(NC(C)C(N)=O)n1'], ['C=CC(CO)Nc1ncccn1'], ['COC(=O)c1cccc(C(OC)OC)c1'], ['OC1(Cc2ccsc2)CCN2CCCC21'], ['OC(CCOc1ccccc1)c1cccnc1'], ['C=CCNOCCOc1ccccc1'], ['CCNc1cc(SCCN(C)C)ccn1'], ['CC(C)(C)CC(CN)Nc1ccccc1'], ['CCC(Cc1cnccc1C)C(=O)O'], ['NC1CCC2CCC12'], ['CCCN(CCC(N)CC)Cc1ccccc1'], ['c1cc(CNCC2CCCCC2)ccn1'], ['CC(Cc1ncccn1)C(=O)O'], ['N#Cc1ccc(NC(=O)CCCN)nc1'], ['CCN(CC)CCCNc1cc(C)ccn1'], ['C=CC(NN)c1ccncn1'], ['CC1C2CNCC2CN1S(N)(=O)=O'], ['CCCCCNCc1ccc2c(c1)CCCN2C'], ['Cc1nc(CC(C)N)ncc1N'], ['CCNc1cc(NCCC(N)=O)ccn1'], ['C#CC(=O)NCc1ncccn1'], ['CC(N)CNc1ncccc1C#N'], ['Cc1ccncc1CC(=O)C(=O)O'], ['CCC(CC)C(N)COCc1ccccc1'], ['N#Cc1cc2scc(CCN)c2s1'], ['N#Cc1ccc(C=C2CCNC2)cn1'], ['CN1CCCc2c1cccc2C(C)(C)CO'], ['CC(C)Cc1ccc(C#N)cn1'], ['CC=CC(=O)NCC(=O)c1ccccc1'], ['CNCCN(C)CC(=O)NCc1ccccc1'], ['CCN(Cc1ccccc1)CC(C)CCN'], ['CN1CCC(O)(c2ccncc2)CC1'], ['CCNc1cccnc1C#N'], ['NC1CCCS(=O)(=O)CC1'], ['CNCCC(=O)OCc1ccccc1'], ['NC(Cc1ncccn1)=NO'], ['O=C=NCc1cncnc1'], ['CN1CCCc2cc(CCCCN)ccc21'], ['N#Cc1cccc(N2CCC23CCC3)n1'], ['N#Cc1ccc(N2CCC23CCC3)cn1'], ['CCN(C)c1ncncc1N'], ['Cc1ccncc1C(CCO)C(C)N'], ['Cc1ccncc1CNC(C)CN'], ['CC(C)(O)CNc1cncc(C#N)c1'], ['N#Cc1cncc(CSC(=N)N)c1'], ['CCC(C)(C)Nc1ccncn1'], ['Cc1cccn1CC(N)=O'], ['Cc1nnc(CC(N)=O)o1'], ['CSCCC(O)C(N)c1cnccc1C'], ['NC1CCCC(=CC(=O)O)C1'], ['Cc1ccncc1C(O)CO'], ['CCNCCNC(=O)OCc1ccccc1'], ['C=C(C)CNc1ncccc1C#N'], ['Cc1ccccc1CC(N)=O'], ['CC(C#N)CN(C)c1ncccc1C#N'], ['O=C(CO)c1cncnc1'], ['CS(=O)(=O)CCSc1ncccc1C#N'], ['CCCC(=O)Cc1ccncn1'], ['CCCCOc1ccc(C#N)cn1'], ['CCNc1cc(OCCCOC)ccn1'], ['Cc1ccncc1NC(=O)C(N)CO'], ['CN(C)CCCOc1ccncc1C#N'], ['NC1CCc2conc21'], ['CN(C)CCOc1ccccc1'], ['NCCc1cccc(S(N)(=O)=O)c1'], ['C=CC(CO)Nc1ccnc(NCC)c1'], ['O=C(CCCO)OCc1ccccc1'], ['NC1=CC(=O)CCC1'], ['N#Cc1cccnc1N=C=O'], ['Cc1ccc(C(O)C2CNCCN2C)cc1'], ['CCCNc1ncc(N)c(C)n1'], ['Cc1ccnc(C=NNC(N)=O)c1'], ['CCC(C)(CN)c1cc(C)ccn1'], ['C#CCCCNc1cc(C)ccn1'], ['CONCCCc1cnccc1C'], ['OCC(Cc1ccccc1)NCc1ccncc1'], ['Nc1csnn1'], ['NC1CC2(C1)CS(=O)(=O)C2'], ['CS(=N)(=O)Nc1ccc(C#N)cn1'], ['OC1(Cc2ccsc2)CCC2CCC1O2'], ['N#Cc1ccc(C(=O)NCCN)nc1'], ['CCNCc1ccncc1C#N'], ['Cc1ccnc(CNCCCC(C)C)c1'], ['CC(O)(Cc1cccnc1)c1ccccc1'], ['CCC(C)Nc1cncnc1'], ['O=CC(O)c1ccncn1'], ['COCCNC(CO)c1cnccc1C'], ['CCCNC(C)C(=O)Nc1cnccc1C'], ['Cc1ccncc1C(=O)C(C)N'], ['CSC(C)(C)CCNc1cnccc1C'], ['CCCOC(=O)c1cnccc1C'], ['Cc1ccnc(N(C)C(C)(C)CN)c1'], ['Cc1ccnc(C(C)(CN)C(C)O)c1'], ['CNC(C)CNC(=O)c1cnccc1C'], ['CCC(C)CN(C)c1ncccc1C#N'], ['SCc1ccncn1'], ['NCCSCc1ncccn1'], ['C#CC(C)(C)Oc1ccnc(NCC)c1'], ['N#Cc1cnccc1NC(=O)CN'], ['CC(=O)CC(=O)c1ncccn1'], ['NCCCNc1ccccc1S(N)(=O)=O'], ['CCCNC(CCC)c1cnccc1C'], ['CNS(=O)(=O)c1ncccn1'], ['c1cncc(C2CCCCC2)c1'], ['CN1CCCc2cc(CC(=O)O)ccc21'], ['Cc1ccncc1NC(=O)CCNC(N)=O'], ['NC(=S)Cc1ccncn1'], ['OCC(NCc1ccccc1)c1cccnc1'], ['CCCC(CC)NCc1cc(C)ccn1'], ['C=CCSc1ncccc1C#N'], ['CCNC1CCN(C#N)C1'], ['CNCCCNC(=O)c1ccccc1'], ['Cc1ccccc1NCCC1CNCCN1C'], ['COCCOCOc1cnccc1C'], ['COC(=O)C=C1CCCC(N)C1'], ['CCSCCSCc1ccc(C#N)cn1'], ['CCOCC(=O)c1ncccn1'], ['CC(C#N)Sc1ccc(C#N)cn1'], ['NC(=O)Nc1cccc(C2CCC2)c1'], ['N#CCCC(N)c1ccncn1'], ['C#CCOCc1ccc(C(=O)OC)cc1'], ['NC1CCC=CCCC1'], ['CC1CC2CNCC2N1S(N)(=O)=O'], ['CCc1ccc(C(=O)OC)cc1'], ['O=C(CCc1ccccn1)Nc1ccccc1'], ['CCOC(=O)CSc1ccncc1C#N'], ['CC(N)c1ncc(C#N)cn1'], ['CC(COCc1ccccc1)Nc1ccccn1'], ['CN(C)CCSc1ccc(C#N)cn1'], ['CCNc1cc(C(=O)O)ccn1'], ['CCC(N)c1cc(C)ccn1'], ['C=CCCN(C)c1ncccn1'], ['COCCCNC(C)COCc1ccccc1'], ['Cc1ccccc1C1CN(C)CCN1'], ['Cc1ccnc(NC(C)COC(C)C)c1'], ['C#CCCN(C)CC#Cc1ccccc1'], ['Cc1ccnc(NCCCN(C)C)c1'], ['Cc1ccncc1NC(=O)C(C)C'], ['CC(CO)CSc1ccncn1'], ['CC(=O)NCCNCc1cc(C)ccn1'], ['COC(=O)c1ccccc1NCC(C)N'], ['NCC(Cc1ccncc1)C1CCCCC1'], ['CCNc1ccc(CSC)cn1'], ['CC(O)C1CCN(Cc2ccsc2)CC1'], ['Cc1ccncc1CCCNCCO'], ['OCCCSCc1ccncn1'], ['NS(=O)(=O)Cc1cncnc1'], ['CC(C)CCOc1ccncc1C#N'], ['CCNC1(C#N)CCC2(CC2)CC1'], ['NC(=O)NCCNOCc1ccccc1'], ['CNC(CCSc1ccccc1)C(N)=O'], ['Cc1ccncc1C=NNCCO'], ['C#CCON=Cc1cncnc1'], ['Cc1ccnc(C(CN)CC(=O)O)c1'], ['Cc1ccncc1CC(N)CCC(=O)O'], ['CCNCCC(C)(C)c1cnccc1C'], ['OC1CCC(Cc2ccsc2)C1'], ['N#Cc1ccc(CNC(N)=O)nc1'], ['CC(C)C=C1CCCCCC1N'], ['CCNc1cccc(OCCCC(C)C)n1'], ['C#CCCC(N)c1ccncn1'], ['NC1CCC2(CC2)C1'], ['COCC(N)Cc1cnccc1C'], ['CCC(C)c1ncc(N)cn1'], ['OC1CCN(Cc2ncon2)CC1'], ['C#CC(C)Oc1cccc(NCC)n1'], ['N#Cc1ncccc1N1CCOCCN1'], ['NS(=O)(=O)c1cccc(C=O)c1'], ['CC(CSCc1ccccc1)ON'], ['CC(=O)NC1CCCC=C1C'], ['N#Cc1cc(C2OCCO2)ccn1'], ['CC(O)(CCN)c1ncccn1'], ['CC#CCNc1ncccn1'], ['CN(CC(C)(N)CO)c1ccccc1'], ['NC1CC2CNC(=O)C2C1'], ['Cc1ccnc(NS(N)(=O)=O)c1'], ['N#Cc1ncccc1-n1ccnc1'], ['Cc1ccnc(NCC(C)(O)CO)c1'], ['C#CC(C)(C)N(CCO)c1ccccc1'], ['Cc1ccncc1CN=C=S'], ['CCNCc1ccc2c(c1)CCCN2C'], ['CCCN(Cc1cncc(C#N)c1)OC'], ['Cc1ccnc(NC(=O)C(C)N)c1'], ['CCC(C)(N)c1ncccn1'], ['CCNc1cccc(OC(C)COC)n1'], ['CCC(C)(Oc1cnccc1C)C(=O)O'], ['CN(CC(C)(C)N)c1ncccc1C#N'], ['CC(Nc1ccncc1C#N)C(C)(C)C'], ['Cc1ccncc1C(O)CC=O'], ['CCC(O)C(O)Cc1ccccc1'], ['CCSCCNC(C)(C)COCc1ccccc1'], ['Cc1ccnc(C(C#N)CN)c1'], ['C=CCNC(=O)c1cncc(C#N)c1'], ['CCNc1cc(NCC(C)CO)ccn1'], ['NN=C(NC1CCCCC1)c1ccccn1'], ['CC(CO)N(C)c1ncccc1C#N'], ['CN(c1cccnc1)C1CCCCC1'], ['CCCC(C#N)C(=O)Nc1cnccc1C'], ['COC(C)C(O)c1cnccc1C'], ['Cc1ncc(N)c(C(C)(C)C)n1'], ['Cc1ccncc1CNS(=O)(=O)CCO'], ['C=CCCNC(=O)C(CC)c1ccccc1'], ['c1ccc(CCCc2ccccn2)cc1'], ['OCc1ncccc1N1CCCOCC1'], ['Cc1ccncc1OCOC(C)(C)C'], ['COC(=O)c1ccc(C(=O)CN)cc1'], ['OCCCCNc1ncccn1'], ['Cc1ccsc1C1(O)CNCCOC1'], ['CCC(C)C(CC(C)N)c1ccccc1'], ['CCCC(C)(N)C(=O)c1cnccc1C'], ['CCCNCCc1ccc2c(c1)CCCN2C'], ['N#Cc1ncccc1C1CCNC1'], ['CC(C#N)CSc1ccncn1'], ['CC(O)CCNCCc1ccccc1'], ['N#Cc1cnccc1NOCCCN'], ['CCC(C)N(CCC=O)Cc1ccccc1'], ['NC(=O)c1ccccc1S(N)(=O)=O'], ['N#Cc1cc(-c2ncno2)ccn1'], ['N#Cc1cc(N2CCCCCC2)ccn1'], ['CCC(C)=C1CC(N)C1'], ['NCC(O)(c1ccccc1)c1cccnc1'], ['CNCC(O)C(=O)c1ccccc1'], ['CN1c2ccccc2CCC1CCN'], ['Cc1ccnc(N)c1'], ['Cc1ccncc1C(=O)CSCCN'], ['Cc1ccnn1CC(N)=O'], ['NC1SCCC1=O'], ['CN1CCCc2cc(C=CC#N)ccc21'], ['Cc1ccnc(NCCCC(C)O)c1'], ['CC(C=O)c1ncccn1'], ['CCCC(CC)Nc1ncccc1C#N'], ['Cc1ccncc1NC(C)CC(C)(C)O'], ['CCC(C)C(=O)c1ccncn1'], ['CCC(C=O)=Cc1ccncn1'], ['C#CCCN(Cc1ccccc1)OC'], ['N#Cc1ccc(C2COCCO2)cn1'], ['CCCC(CN)C(O)c1cnccc1C'], ['N#CCNC(=O)c1ccc(C#N)cn1'], ['N#CCc1ccncc1C#N'], ['CNCCC(C)(C)c1cnccc1C'], ['CCN(C)C(=O)CNc1cc(C)ccn1'], ['CCNc1cc(NCCSC)ccn1'], ['COCCCC(C)(O)c1cnccc1C'], ['COC(CSc1ccccc1)C(N)=S'], ['NN1CCC2(CC2)C1'], ['NC1CCCSC1'], ['CCCC(O)(CC)c1cnccc1C'], ['CCOCC(=O)NCCCOCc1ccccc1'], ['OC1CN(Cc2ccsc2)C1'], ['COCC(C(N)=S)c1ccccc1'], ['CCCC(N)CC(=O)Nc1ccccc1'], ['NCCCNc1ncc(N)cn1'], ['Cc1ccncc1C(O)CCC(C)(C)N'], ['CCCCSc1cccc(NCC)n1'], ['NC12CCCC(C1)C2'], ['CNC(C(C)C)C(O)c1cnccc1C'], ['CCNc1cc(OCCSCC)ccn1'], ['CCNc1ccc(C#N)nc1'], ['C=CCC(NN)c1ccncn1'], ['CCCCOCCNc1cc(C)ccn1'], ['NC(=O)NN=Cc1cncnc1'], ['N#Cc1cc(C2CCSCC2)ccn1'], ['O=C(CN1CCCC1)Nc1cccnc1'], ['C=CCNC(C#N)c1cnccc1C'], ['C=C1COCC1N'], ['CC#CCCC(N)CSc1ccccc1'], ['N#Cc1cncc(CSCCC(=O)O)c1'], ['CC(C)(N)C(=O)CCCc1ccccc1'], ['CC(=O)Nc1nocc1C'], ['NC(=S)NN=Cc1ccncn1'], ['CC1Cc2ccccc2N(C)C1'], ['COCCC(=O)c1cc(C)ccn1'], ['CCCCSc1ncccc1C#N'], ['CC(C)(N)CCNc1ncccc1C#N'], ['CN(CCC1CCCCC1)Cc1ccncc1'], ['CCOCC(N)c1cncnc1'], ['Cc1ccncc1OC(C)(C)C(=O)O'], ['CC(C)OCC(=O)C=Cc1ccccc1'], ['N#Cc1ccc(N2CCCC3CC32)cn1'], ['Cc1ccncc1OCCOC(C)(C)C'], ['CC(=O)NC1(C)CNC1'], ['COC(=O)C=CNCc1cc(C)ccn1'], ['CCP(=S)(CC)Nc1ccccc1'], ['NN1CC2CS(=O)(=O)CC2C1'], ['C=C(CCN)c1cc(C)ccn1'], ['COC(=O)c1ccc(NC=O)cc1'], ['CC(C)CCN(C)Cc1ccccc1'], ['Nc1cnc(S)nc1N'], ['CC(C)C(CN=C(N)N)c1ccccc1'], ['CCC(N)CNc1cncnc1'], ['CCC(C)(N)c1cnccc1C'], ['CCNc1cccc(SCCO)n1'], ['CC(=O)Nc1cccc(C)n1'], ['CCCNC(=O)c1cnccc1C'], ['CNC(C)(C)Cc1cc(C)ccn1'], ['N=C(NN)c1ncccn1'], ['NC(=O)CSc1ccncn1'], ['CCNc1ccc(C(=O)O)cn1'], ['N#Cc1cccnc1CC(N)C(=O)O'], ['COC(=O)Cc1cncnc1'], ['CCC(N)CNc1ccncc1C#N'], ['CCOC(=O)CC(NC)c1cnccc1C'], ['OC(CSC1CCCCC1)c1cccnc1'], ['NCCNC(=O)c1cncnc1'], ['CN(C)C(=O)c1cncc(C#N)c1'], ['Nc1nncnn1'], ['CN(C)CCOc1ccncc1C#N'], ['CC(O)CCCNc1ncccc1C#N'], ['CC=CC(O)c1cncnc1'], ['OCCSc1ccncn1'], ['c1ccc(CCNc2ccccn2)cc1'], ['Cc1ccncc1NCCC(C)C'], ['C#CCCCCC(=O)NOCc1ccccc1'], ['NCC(=O)Nc1ncc(N)cn1'], ['C=C(C)CC(O)c1cncnc1'], ['CCSc1cc(C)ccn1'], ['CNC(C)c1ccncn1'], ['CNS(=O)(=O)C(C)c1ccccc1'], ['CC(=O)NCCNCc1cnccc1C'], ['Nc1nc(=S)ss1'], ['NC1CC2CCOC2C1'], ['CC(CCN)Nc1ccc(C#N)cn1'], ['N=c1ccccn1N'], ['OC1CCN(CC23CC(CO2)C3)CC1'], ['CC(CCC1CCCCC1)NCc1ccncc1'], ['CNNC(=O)c1ccc(C#N)cn1'], ['CCNC1(C#N)CCCSC1'], ['CCN(Cc1cncc(C#N)c1)OC'], ['Cc1ccnc(C(=O)N(C)CC#N)c1'], ['NC1C2OCCOC12'], ['CCC(C)(CN)Nc1cc(C)ccn1'], ['Cc1ccncc1CNC(=O)C(=O)O'], ['CC(N=C=O)c1ccncn1'], ['CSCCNCCC=Cc1ccccc1'], ['CC(C)C=C1CC(N)C12CCC2'], ['N#CCCC(=O)c1ccncn1'], ['CC1CNC(CC(N)=O)SC1'], ['CN1CCC(O)C(C2CCCNCC2)C1'], ['CC(N)(C#N)CCOCCOc1ccccc1'], ['OC1CCN(CC2CCCCCC2)CC1'], ['CC(CO)NCc1ncccn1'], ['CC(C)c1ncc(N)c(CN)n1'], ['Cc1ccccc1NC(=O)C1CNCCN1C'], ['CCCC(CCO)Nc1ccc(C#N)cn1'], ['Cc1ccncc1OCCN(C)C(C)C'], ['C#CC(C)NCCCc1cnccc1C'], ['CCC(N)CC(=O)Nc1ccccc1'], ['N#Cc1ocnc1CCN'], ['CC(C)(C)c1ncc(N)c(O)n1'], ['CNCC(=O)Nc1cc(C)ccn1'], ['Cc1ccncc1NCCCN'], ['CC(C)(C=O)c1ccncn1'], ['CCC(COC)NCc1cc(C)ccn1'], ['CCN(Cc1ccccc1)Cc1ccccn1'], ['CC(CC1CCCCC1)Nc1ccccn1'], ['CC(C)C(C)(O)c1ccncn1'], ['N=C(N)C1CCCCN1Cc1ccsc1'], ['CCNc1cc(NCC(O)CO)ccn1'], ['CCOC(=O)C(=O)c1ncccc1C#N'], ['COCC(=O)NCc1cnccc1C'], ['COC(CNCc1ccncc1)C1CCCCC1'], ['OC1CCN(CC2CCCC2)CC1'], ['NC1CC(=O)c2sccc21'], ['C=CCCCc1cnccc1C'], ['Nc1noc2c1COC2'], ['Cc1ccnc(NC(=O)CC(=O)O)c1'], ['CNCCOCCN(Cc1ccccc1)OC'], ['CC(NCCc1ccccc1)c1ccncc1'], ['COC(=O)c1ccccc1C(C)C=O'], ['Nc1cncnc1OCCO'], ['CCOCCCC(=O)c1cnccc1C'], ['Cc1ccnc(CNCC(C)CO)c1'], ['Cc1ccnc(NN(C)C)c1'], ['NC(=S)Nc1ncccn1'], ['NCC(CO)c1cncnc1'], ['COCC(C)CNc1cc(C)ccn1'], ['CCC(Nc1ccncc1C#N)C(C)O'], ['N#Cc1cccc(NN2CCOCC2)c1'], ['Cc1ccncc1OCCCCC(=O)O'], ['CC#CCNC(C(=O)O)c1ccccc1'], ['CNC(COCc1ccccc1)c1cccnc1'], ['c1cncc(NCCC2CCCCC2)c1'], ['Cc1ncccc1NC(=O)CC1CCCCC1'], ['CC(N)CN(CCO)Cc1ccccc1'], ['CNCC(O)CNC(=O)NCc1ccccc1'], ['CCCC(C)Nc1ccnc(NCC)c1'], ['C=CCCCNC(C)c1cc(C)ccn1'], ['CCNc1cc(NCCNC(N)=O)ccn1'], ['CC(N)CCN(C)Cc1ccccc1'], ['CCC(N)C(C)NCCc1ccccc1'], ['CC#CCC(CCOCc1ccccc1)NN'], ['CSCCC(C)Nc1ccc(C#N)cn1'], ['CC1CCOCCN1CC(N)=O'], ['CCOC(CC)C(O)c1cnccc1C'], ['O=C(Oc1cccnc1)c1ccccc1'], ['N#Cc1cccc(N2CCCCCCC2)n1'], ['CCNC1(C#N)CCCC12CCC2'], ['CNCC(C)Nc1ncccc1C#N'], ['CNC(C)(C)c1cncnc1'], ['c1ccc(NCCSc2ccccn2)cc1'], ['O=C(O)Cc1cncnc1'], ['c1ccc(CSc2ccncc2)cc1'], ['CN1CCCc2cc(SC#N)ccc21'], ['C=CCSc1ccncc1C#N'], ['N#Cc1cc(-c2ccncn2)ccn1'], ['Nc1nsc2ccoc12'], ['N#CC(COc1ccccc1)c1cccnc1'], ['CC(C)CCC=C1CC(N)C1'], ['COC(=O)c1ccc(C(=O)S)cc1'], ['CN(CC(C)(C)N)c1ccncc1C#N'], ['CCN(CCCc1cccnc1)C1CCCCC1'], ['OC1CCN(Cc2cnoc2)CC1'], ['CCCC(C(=O)O)c1cnccc1C'], ['CCNCCOCc1cncc(C#N)c1'], ['NC1SCCCS1'], ['CCC(C)(CO)CNCCc1ccccc1'], ['C=CC(COC)NCc1cnccc1C'], ['CC(CO)CNC(=O)COCc1ccccc1'], ['COCCOc1ccncc1C#N'], ['N#Cc1cccc(C2OCCNC2=O)n1'], ['CC(c1ccccc1)C(CO)NCCO'], ['N#Cc1nc(CCN)cs1'], ['C=Cc1ccncn1'], ['c1ccc(COc2ccccn2)cc1'], ['Cc1ccnc(NC(C)C(C)CN)c1'], ['CC(C)CC(c1ccccc1)C(C)N'], ['N#Cc1ccc(N2CCSCC2)cn1'], ['CCCC(C)N(C)c1ccncc1C#N'], ['CCOc1ccncc1C#N'], ['c1ccc(CNCCCOc2ccncc2)cc1'], ['CSC(C)CCOc1ncccc1C#N'], ['C=CCC(CO)Nc1ccc(C#N)cn1'], ['CCC(C#N)C(=O)NOCc1ccccc1'], ['NS(=O)(=O)c1ccc(CCCS)cc1'], ['COC(=O)C=Cc1ccncn1'], ['OC1(Cc2ccsc2)CSC1'], ['CCOC(C)C(N)c1cnccc1C'], ['NC1=NCCCS1'], ['CCNc1ccc(CSCCSC)cn1'], ['CNCCCSc1ncccn1'], ['CCC(Oc1cnccc1C)C(=O)NN'], ['N#Cc1cc(N2CCOCC2)ccn1'], ['Cc1ccncn1'], ['O=C(CC1CCCCC1)NC1CCSC1'], ['CC(=O)NCc1ccc(C#N)cn1'], ['O=C(Cc1cncs1)Nc1cccnc1'], ['CC(N)(CCO)c1ccncn1'], ['CCNc1cc(N(CCO)C(C)C)ccn1'], ['CC(C)C(CN)NCCc1ccccc1'], ['CN1CCC(CC(N)=O)CC1'], ['Cc1ccsc1C1OCCC1O'], ['CC(C)(O)c1cncnc1'], ['COCCc1ccccc1S(N)(=O)=O'], ['C=C(C)C=C1CC(N)C12CCC2'], ['CC(CN)Sc1ccc(C#N)cn1'], ['C=CC=CCC=C1CCC(N)C1'], ['N#Cc1cccc(C2CCSCC2)n1'], ['CCONc1ncccc1C#N'], ['CN1CCCc2cc(CCO)ccc21'], ['CN(C)C=Nc1ncccc1C#N'], ['NC1COC2(CSC2)C1'], ['CCOCC(C)Oc1ccncc1C#N'], ['NCCN(CCCO)Cc1ccccc1'], ['CCNc1cccc(COCC)n1'], ['CCC(C)(N)C(=O)c1cnccc1C'], ['CNC(=N)NCc1cc(C)ccn1'], ['NC1CCc2occc21'], ['NC1CC2CC1C1CC21'], ['N#Cc1ccc(N2CCCC2=N)cn1'], ['NCCCc1ccc(S(N)(=O)=O)cc1'], ['CCC(COCc1ccccc1)NN'], ['COc1ncncc1N'], ['CC(C)(C)CCOc1ccncc1C#N'], ['CNC(=O)CNCc1cnccc1C'], ['C=Cc1cc(C)ccn1'], ['N#Cc1cnnc(N2CCCOCC2)c1'], ['CCOCC(C)NCc1cnccc1C'], ['Cc1ccsc1C1(O)CCC2CC21'], ['NC1CC(=O)OC1=O'], ['CCCC(N)C#Cc1cncc(C#N)c1'], ['Cc1ccncc1NC(=O)CC(C)CN'], ['C#CCOC(=O)c1cncnc1'], ['N#Cc1cc(-c2cccnc2)ccn1'], ['CCN(CC)CCSc1ccc(C#N)cn1'], ['NCc1sccc1CN1CCCCC1'], ['COC(=O)c1ccccc1NC(=S)OC'], ['CCc1ncc(N)c(C#N)n1'], ['NC(Cc1ccccc1)c1ccncc1'], ['COCC(C)CNC(N)=NCc1ccccc1'], ['Cc1ccncc1NC(=O)CCCN'], ['NN1Cc2nonc2C1=O'], ['N#Cc1ncccc1N1NC2CCC1C2'], ['CC(C)ON=Cc1ccncn1'], ['CCNc1ncccc1CSCC(N)=O'], ['CCNC(COCC)C(C)OCc1ccccc1'], ['O=C(NCCS)c1ccccc1'], ['CCC(C)=C1CCC(N)C1'], ['Nc1ncc2sccn12'], ['Cc1ccncc1CNCCCCO'], ['CCNc1ncccc1CSCCSC'], ['CC(C)C(C)Nc1cncc(C#N)c1'], ['NN=C(N)SCCCOc1ccccc1'], ['COC(=O)c1cccc(C#CCN)c1'], ['Nc1noc2snnc12'], ['COCCC(=O)Nc1cc(C)ccn1'], ['CCCCCCC=C1CC(N)C1'], ['NC1CC2OC1C1CC21'], ['CC1(CC(N)=O)CCCCC1'], ['CC(C)C(O)C=C1CC(N)C1'], ['CC(C)(N)C#Cc1ccncn1'], ['NC1CC(=O)c2ccoc21'], ['CSCCCNC(C)c1cc(C)ccn1'], ['CCC(CN)Nc1cnccc1C'], ['CCOCC(O)c1cc(C)ccn1'], ['CCNc1cc(NCC(C)COC)ccn1'], ['CC(C)(O)C#Cc1cncnc1'], ['CSSCCNc1ccncc1C#N'], ['CCOC(=O)Cc1ccncn1'], ['CCC(C(=O)O)c1cncnc1'], ['CON(C)C(=O)c1ccc(C#N)cn1'], ['C=CC(NCc1cnccc1C)C(=O)O'], ['CN1CCC(O)(C2CCOCC2)CC1'], ['COCCNC(=O)Nc1cc(C)ccn1'], ['N#Cc1cnccc1NCCN'], ['CCC(C)(CO)Sc1cc(C)ccn1'], ['CC1CCCN(CC(N)=O)C1'], ['CCCC(C)C(=O)Nc1cnccc1C'], ['CC(c1ccccc1)N(C)C(=N)N'], ['CC=CCCNc1ccc(C#N)cn1'], ['CCCOc1ccc(S(N)(=O)=O)cc1'], ['NC1CC(=O)c2ccsc21'], ['CNCC(C)Nc1ccncc1C#N'], ['Cc1ccnc(NC(C)CCN)c1'], ['CN(CC(N)=O)c1ccncc1C#N'], ['C=CCC(=O)Nc1ccc(C#N)cn1'], ['C=CCC=C1CCCC1N'], ['CCSCc1ncccn1'], ['Cc1ccccc1CNCCN1CCN(C)CC1'], ['CCNc1cccc(CN(CC)OC)n1'], ['CC(C)=CC(=O)NCc1cnccc1C'], ['CCC(C)(O)C(=O)Nc1cnccc1C'], ['CN1CCC(CN)c2ccccc21'], ['C=C(C)C(Cc1ccccc1)NCCC'], ['CC(O)C(C)c1ccccc1'], ['CNC(CCCC(C)C)c1cc(C)ccn1'], ['Cc1ccncc1C(NCCO)C(=O)O'], ['C=CS(=O)(=O)c1ccncn1'], ['CCNC(CN)Cc1ccccc1'], ['COCC(C)NCC=Cc1ccccc1'], ['NNC(=Cc1ccccc1)c1ccccn1'], ['N#Cc1cc(N2CCCCCO2)ccn1'], ['COCC#CCC(N)c1cnccc1C'], ['NC12CCC1CC2'], ['COC(=O)Cc1cccc2c1CCCN2C'], ['C=CCC(NN)c1ncccn1'], ['OC(C#Cc1ccccc1)c1ccccn1'], ['CCC(N)C(CC)Nc1cc(C)ccn1'], ['Cc1ccncc1C(O)COC(C)(C)C'], ['OC1CCN(CC2CCCNC2)CC1'], ['CC(=CC(=O)O)COc1cnccc1C'], ['CC1CSCCCN1CC(N)=O'], ['CCNc1cc(COCC)ccn1'], ['CCCOCCNc1ncccc1C#N'], ['CC(CN)N(C)c1ccc(C#N)cn1'], ['NCC(=O)c1cncnc1'], ['Cc1ccncc1CNCC(C)(C)O'], ['CN1CCC(O)(c2ccns2)CC1'], ['Cc1ccncc1CC(C)(C)O'], ['C=C(CN)COc1cnccc1C'], ['CCC(C)(N)COc1ccc(C#N)cn1'], ['OC1CCN(CC2CNC2)CC1'], ['N#CSc1ncccn1'], ['CC1CCC(=O)N(CC(N)=O)C1'], ['c1cncc(OCOC2CCCCC2)c1'], ['N#Cc1ccc(C2CCCCC2)cn1'], ['C#CC(C)c1cnccc1C'], ['ON=C(c1ccccn1)C1CCCCC1'], ['CCNc1cc(NC(C)CC(C)C)ccn1'], ['C#CCC(CCOCc1ccccc1)NC'], ['CCNC(C#Cc1ccccc1)CC'], ['N#CCSc1ccncn1'], ['NC(C(=O)O)c1ncccn1'], ['CC(=NNCc1ccccc1)C(=O)O'], ['CCC(N)c1cccc(C(=O)OC)c1'], ['CCOC(=O)C(C)NCCCc1ccccc1'], ['C=CCCC(C)NCc1ccccc1'], ['NC(CC1CCCCC1)c1ccccn1'], ['CCC(O)CNc1cc(C)ccn1'], ['CCC(CC(=O)OC)c1cnccc1C'], ['CSSCCNCc1cnccc1C'], ['N#CC(c1ccccc1)c1ccccn1'], ['CC(CC#N)Nc1ncccc1C#N'], ['O=C(O)CNC(=O)COc1ccccc1'], ['CC(CN)N(C)c1ccncc1C#N'], ['CC(=O)CCC(=O)Nc1cnccc1C'], ['CC(CNc1cccnc1)CC1CCCCC1'], ['CCNC1(C#N)COC1'], ['CCCCC(=O)CSc1ccccc1'], ['CCOC(=O)C(C)Oc1cnccc1C'], ['COCCOc1ncc(N)cn1'], ['C=COCC=Cc1ccccc1'], ['CN1CCCc2cc(C(=O)O)ccc21'], ['CCCC(CCC)Nc1cnccc1C'], ['COCCCSc1ncccn1'], ['NNC(c1ccccc1)c1cccnc1'], ['C#CCC(O)CNc1ccncc1C#N'], ['C#CCCNc1ccncn1'], ['CCC(=Cc1cnccc1C)CO'], ['CC(O)C(C)SCc1cncc(C#N)c1'], ['NC1Cc2nonc2C1=O'], ['CN1C(=O)CN(CC(N)=O)C1=O'], ['CC(C)(C)C#Cc1cncnc1'], ['COC(=O)c1ccc(OCCCO)cc1'], ['Cn1nccc1CC(N)=O'], ['CCC(OC)C(CN)NCc1ccccc1'], ['OC1(Cc2ccsc2)CC2CCCCC21'], ['CC(C)C(O)c1ncccn1'], ['NC1=NCC(=O)N1'], ['C=CCSCCCC(N)c1ccccc1'], ['N#Cc1cc(N2CCCCC2)ccn1'], ['COC(C)(CCN)c1cc(C)ccn1'], ['COCc1ccccc1C(=O)OC'], ['CC(C)CSc1ccncn1'], ['OC1(CCc2cccs2)CCNCC1'], ['N#Cc1cccc(N2CC=CC2)n1'], ['C#CCNC(=O)NCCOCc1ccccc1'], ['CN1CCCc2cccc(CO)c21'], ['OC1CCN(CCc2cccs2)CC1'], ['CCC(C)NCc1cc(C)ccn1'], ['CC(N)C1=NC(C#N)CO1'], ['C=COc1cccc(C(=O)OC)c1'], ['CCCCCCCCCSc1ccccc1'], ['Cc1ccnc(CC(C)(C)O)c1'], ['C=C(C)CN(C)c1ccc(C#N)cn1'], ['CC(=O)Cc1ncccn1'], ['CC(CN)CNc1ccc(C#N)cn1'], ['O=C(Cc1cccnc1)NC1CCCCC1'], ['COC(=O)CCCNc1cc(C)ccn1'], ['CNCCCCc1ccncn1'], ['CC(CN)CCCOc1ccccc1'], ['CCCCC(N)c1ccncn1'], ['CCC(C)CC(C)Nc1ncccc1C#N'], ['CC(NCC1CCCCC1)c1ccncc1'], ['COCC(C)CC(O)c1cnccc1C'], ['CCOCC(N)(CO)c1ccccc1'], ['CS(=O)(=O)c1ccccc1'], ['CCC(C)(C)NCc1cc(C)ccn1'], ['COc1ccc(S(N)(=O)=O)cc1'], ['N#Cc1ccc(N2CC3CCC3C2)cn1'], ['Cc1ccsc1C1(O)CCC(=O)CC1'], ['OC1CCCN(Cc2ccsc2)CC1'], ['N#Cc1ccc(C(=O)NNCCO)nc1'], ['CCC(C)C(C=CCNC)c1ccccc1'], ['CSCC(C)Nc1ccc(C#N)cn1'], ['CCSCc1ncc(N)c(O)n1'], ['CC(Cc1ccccc1)NC=O'], ['Cc1ccncc1C(O)(CN)C(C)C'], ['COCC(OCc1ccccc1)C(=O)NN'], ['N#CC(CN)c1cncnc1'], ['CCCC(CN)N(C)CCOCc1ccccc1'], ['CC(N)C(=O)Nc1cncnc1'], ['CC(O)c1ccc2c(c1)N(C)CCC2'], ['CC(O)c1ncccn1'], ['CCC(C)C(C)NCc1ccccc1'], ['CCNc1ccc(C=O)cn1'], ['CC(CO)Nc1ncncc1N'], ['Cc1ccnc(NCC(C)CCCN)c1'], ['CNC(=NN)c1cnccc1C'], ['COCC(C)Oc1ccncc1C#N'], ['C=C(C)CNc1ccncn1'], ['OC1CCOC(Cc2ccsc2)C1'], ['Nc1ncco1'], ['COC(=O)CSc1ncccn1'], ['NC(CNC(=O)CCc1ccccc1)=NO'], ['Cc1ccncc1C=C(CO)C(C)C'], ['CON(C)Cc1cc(C)ccn1'], ['Cc1ccncc1C#CC(C)O'], ['CCCN(C)Cc1cc(C)ccn1'], ['C=CCN(C)c1ccncc1C#N'], ['CCC(CC=Cc1ccccc1)C(=O)O'], ['Cc1ccncc1C=NO'], ['Cc1ccncc1C(=O)NCC#CCO'], ['CNC(CN)c1ccc2c(c1)CCCN2C'], ['CN1CCN(CC(N)=O)CC1=O'], ['COCC(C)(C)C(N)c1cnccc1C'], ['C=CC(C)(C)COc1ccncc1C#N'], ['C#CCOC(=O)c1ncccn1'], ['C=CCC(C)NC(C)c1cnccc1C'], ['Cc1ccncc1CNCC(N)C(=O)O'], ['N#Cc1ncccc1N1CC2CCCCC21'], ['CC=C1CC(N)C1'], ['Cc1ccncc1C(O)CCCCCN'], ['Cc1ccncc1C(C)NCCC(C)C'], ['CCCSCCNc1ncccc1C#N'], ['CCCCOCCN=C(N)NCc1ccccc1'], ['COCC(Nc1cc(C)ccn1)C(C)C'], ['COC(=O)c1ccccc1NC(=O)S'], ['CCCOCSC(=N)NCc1ccccc1'], ['C=C(CNC)CSCc1ccccc1'], ['C=C(C)CC=C1CCC(N)CC1'], ['CCOCC1CCN(Cc2ccsc2)CC1'], ['C#CCOCc1cncc(C#N)c1'], ['COC(=O)c1ccc(CNC#N)cc1'], ['Cc1ccncc1C(N)C(C)C'], ['Cc1ccncc1OCCSC(C)C'], ['CCCC(N)CNc1cc(C)ccn1'], ['NN1CCCS(=O)(=O)CC1'], ['CCNc1cc(N(C)OCC)ccn1'], ['CSCCc1ncc(N)c(C)n1'], ['C=C(CN)c1ccncn1'], ['CC(CCN)SCc1cncc(C#N)c1'], ['C=CC(=O)N(CCO)Cc1ccccc1'], ['N#Cc1ccc(N2CCCCCC2)cn1'], ['O=C(O)C(O)c1cncnc1'], ['CC(C)=CC(N)c1cnccc1C'], ['CCC(C)CNc1ccncc1C#N'], ['CC(N)c1cc(C#N)ccn1'], ['OCC1CN(Cc2ccsc2)CCC1O'], ['CCC(CN)Nc1ccncc1C#N'], ['CNCCCCc1cncnc1'], ['C#CC(C)NC(=O)CCc1ccccc1'], ['COC(=O)CCc1cc(C)ccn1'], ['N#Cc1cccnc1C=CC(N)=O'], ['OC1C=C(Cc2ccsc2)CC1'], ['OC(CNCc1ccccc1)c1cccnc1'], ['CCOc1ccc(S(N)(=O)=O)cc1'], ['CC(=O)OCCNc1ncccc1C#N'], ['CNC(=O)COc1cnccc1C'], ['CCC(C)SCCc1ccccc1'], ['CCC(CC)C(N)c1ccccc1'], ['CN1CCNC(CC(N)=O)CC1'], ['CC(N)CCSc1ncccn1'], ['NC1C2C(=O)NC(=O)C12'], ['CC(C)(CN)Nc1ncccc1C#N'], ['O=C(CO)c1ccccc1'], ['CC(=O)NC1CCCN(C)CC1'], ['c1ccc(OCCCNCc2ccccn2)cc1'], ['COc1ncc(N)c(C#N)n1'], ['CCN(CCSC)C(=O)CCc1ccccc1'], ['COCC#CCSC(N)=NCc1ccccc1'], ['CC(CCO)CNC(C)c1ccccc1'], ['C#CCN(CC#C)c1ccc(C#N)cn1'], ['Cc1ccncc1CNC(N)=NN'], ['C=C(C=C1CCCC(N)C1)CC'], ['Cc1ccncc1C(=O)N(C)CCCC#N'], ['CCCNC(CC)c1cnccc1C'], ['N#Cc1ccc(C2CCNCCO2)s1'], ['CCNC(CO)(CSCC)c1ccccc1'], ['N#Cc1ncccc1N1CCC12CCC2'], ['CCNc1cc(SC(C)(C)CO)ccn1'], ['CCOCCCNCc1cnccc1C'], ['O=C(Nc1cccnc1)C1CCCCC1'], ['CCNC(=O)CNCc1cnccc1C'], ['COC(=O)C=C1N=C(N)NC1=O'], ['CC(C)(CO)c1ncccn1'], ['NN1CCCC12CCC2'], ['CCOCCCCC(O)c1ccccc1'], ['N#Cc1cccc(N2CCC3CC3C2)n1'], ['OCCCSc1ccncn1'], ['CCC(C)C(=O)c1cc(C)ccn1'], ['CCCNCC(=O)Nc1cnccc1C'], ['NC1=CCCCN1'], ['c1ccc(CCc2ccccn2)cc1'], ['COCC(C)C(=O)c1cc(C)ccn1'], ['NC1CCCC(=O)NC1=O'], ['O=C(O)C1CCN(Cc2ccsc2)CC1'], ['CC#CCC=C1CCCCC1N'], ['Cc1ccncc1C(C)(O)C(C)(C)C'], ['CN(C)C(CN)c1cncnc1'], ['NC1=NOCC1'], ['CN1CC(N)Cc2ccccc21'], ['OC1CCN(CC2CCCN2)CC1'], ['N#Cc1ccc(NCCNC(=N)N)nc1'], ['CC#CCCNCC=Cc1ccccc1'], ['CN(CC=O)c1ccncc1C#N'], ['CC#CCCNCc1cncc(C#N)c1'], ['CCNc1ccc(S(=O)(=O)NC)cn1'], ['CCCCN(CCO)c1ncccc1C#N'], ['CC(C)NCCCOc1ccc(C#N)cn1'], ['CCNc1cccc(CN(C)C(C)CO)n1'], ['Nc1ccccn1'], ['NC12CCC(CC1)C2=O'], ['Cc1cccc(CCNCC2CNCCN2C)c1'], ['CC#CCC(N)CSc1ccccc1'], ['CC(C)CCSc1ncccc1C#N'], ['N#Cc1cccn(CCN)c1=O'], ['C=CC=CCCC(N)c1cc(C)ccn1'], ['CN(CCN)C(=O)CCCOc1ccccc1'], ['O=CC(c1ccccc1)c1ccccn1'], ['C=CCS(=O)(=O)NCc1cnccc1C'], ['C=CCCC(=O)c1cnccc1C'], ['CCNc1cccc(CSC)n1'], ['CCC(C)(C)C=C1CC(N)C1'], ['CC(N)c1scnc1C#N'], ['N#Cc1cc(N2CC3CC3C2)ccn1'], ['OC1CCN(Cc2nncs2)CC1'], ['C#CC(N)CC(OC)c1ccccc1'], ['COCC(N)C(=O)Nc1cc(C)ccn1'], ['CCOC(=O)CC(=O)CCc1ccccc1'], ['N#Cc1ncccc1N1CC2CC1CS2'], ['NCCCN(c1ccccc1)c1ccccn1'], ['CSCC(C)C(NN)c1cnccc1C'], ['Nc1ccccc1'], ['CCC(NN)c1cnccc1C'], ['Cc1ccncc1C(=O)C(C)(O)C=O'], ['CC(C)(CO)Nc1ccncn1'], ['CC(N)c1cnc(C#N)o1'], ['N#CNC(=O)c1ccc(C#N)cn1'], ['Cc1ccncc1C(N)C(=O)O'], ['CCC(C)(C)N(C)c1ncccc1C#N'], ['N#Cc1cncc(C#CC(=O)O)c1'], ['O=C(CN1CCC(O)CC1)c1cccs1'], ['C=CCCNc1ncccn1'], ['CCNc1cccc(SCC(C)CO)n1'], ['CC1C(=O)NNC1CC(N)=O'], ['CSCC(C)(N)CCCOCc1ccccc1'], ['CCNc1ccc(C(N)=NO)cn1'], ['CC(C)(CCO)Nc1ccc(C#N)cn1'], ['CC(C)(C)NCC=Cc1ccccc1'], ['CCNc1cc(NC(C)(C)C)ccn1'], ['N#Cc1ccc(C2CCOCCN2)cc1'], ['COc1ccccc1S(N)(=O)=O'], ['Nc1cn2c(n1)CN=C2'], ['CCNC1(C#N)CCSC1'], ['CC(N)CCC(O)Cc1ccccc1'], ['Cc1ccncc1C(C)NC(=O)C(C)N'], ['CCNC1(C#N)CC2(CCC2)C1'], ['CCC(C)CC(N)CNCc1ccccc1'], ['O=CNNC(=O)c1ccccc1'], ['Nc1cncs1'], ['COCC(C)(N)CSCc1ccccc1'], ['N#Cc1cnn(CCN)c1'], ['CCOCCOc1ccncc1C#N'], ['CN1CCN(CC(N)=O)C1=O'], ['C#CCC(NN)c1cncnc1'], ['CC(=O)N(C)c1ncccc1C#N'], ['OC1CCN(Cc2nccs2)CC1'], ['CC(C=O)=Cc1cnccc1C'], ['CCNC(Cc1ccccn1)CC1CCCCC1'], ['COCCNCCc1ccc2c(c1)CCCN2C'], ['CC1CC(O)CCN1Cc1ccsc1'], ['Cc1ccncc1OCCCCC(N)=O'], ['COc1ncnc(C)c1N'], ['CC(C)=C1CCCCCC1N'], ['Cc1ccncc1CC(C)(C)N'], ['CN1C(=O)C(CC(N)=O)NC1=S'], ['CC(O)(C(=N)N)c1ncccc1C#N'], ['c1ccc(CCCCNCc2ccccn2)cc1'], ['CN1CCCc2cccc(CCCC#N)c21'], ['CCC(c1ccccc1)C(C)NN'], ['N#Cc1cccnc1NCC(N)CO'], ['CCC(=O)c1cncnc1'], ['CSc1cc(C)ccn1'], ['Cc1ccncc1C(C)(C)CC(C)O'], ['Cc1cccc(CC2CN(C)CCN2)c1'], ['CCNc1ncccc1CSC'], ['C=CCNCCOc1cnccc1C'], ['CC(C)(C)c1ccc(C#N)cn1'], ['NC1CC2CCC12'], ['COCC(C)CC(=O)Nc1cnccc1C'], ['C=C(C)CCNC(N)=Nc1ccccc1'], ['CCNc1ncc(N)c(N)n1'], ['CCONc1ccc(C#N)cn1'], ['CCN(CC)c1ncncc1N'], ['CCCNC(=O)COc1cnccc1C'], ['CCC(=CCc1ccccc1)C(=O)O'], ['CCCNc1ncncc1N'], ['CCNc1cc(C(=O)N(C)OC)ccn1'], ['C=CCCC(NCC)c1cnccc1C'], ['CCOCCCC(N)Cc1ccccc1'], ['COC(=O)c1ccccc1C(N)CS'], ['COC(OC)C(=O)Nc1cnccc1C'], ['C=CCNC(=O)c1ccc(NCC)nc1'], ['COCC(C)(C)Nc1ncccc1C#N'], ['CC(=O)CSCC(=O)NCc1ccccc1'], ['CCCCCN(C)c1ccc(C#N)cn1'], ['CCCNCC(C)Oc1cnccc1C'], ['CC(CCc1ccccc1)Nc1ccccn1'], ['CC(=O)OCC(=O)c1ccccc1'], ['CCOCC(NC)c1cnccc1C'], ['CC(CN)CNc1ccncc1C#N'], ['N#Cc1ccc(C2OCCNC2=O)cn1'], ['CCNc1cc(CNC(C)C)ccn1'], ['NN1C(=O)COC1=O'], ['NCC(O)c1ccccc1S(N)(=O)=O'], ['Cc1ccnc(C#CC(C)(C)O)c1'], ['CNC(=O)CCCNc1cc(C)ccn1'], ['CC12CCCC1C(=O)N2CC(N)=O'], ['COC(=O)CCSc1ccncc1C#N'], ['CCNc1cc(COC)ccn1'], ['NCC(SCc1ccccc1)c1cccnc1'], ['Cc1ccnc(NCC(C)CC(C)O)c1'], ['CNCC(C)C(O)c1cnccc1C'], ['NC1CC2(C1)NCCO2'], ['COCC(COC)Nc1cc(C)ccn1'], ['CCC(N)CNC(=O)c1cnccc1C'], ['NC(=O)NC(=O)c1ccncn1'], ['N#Cc1cccnc1NCCO'], ['CC(NCCC1CCCCC1)c1ccccn1'], ['CNCCCCc1cccc(C(=O)OC)c1'], ['Cc1ccncc1CNC(=O)C(C)ON'], ['CCC(Nc1cnccc1C)C(=O)OC'], ['Cc1ccncc1NC(=O)C(C)N(C)C'], ['COC(C)CN(C)c1ncccc1C#N'], ['CNC(C)C(=O)c1cncnc1'], ['N#Cc1cccnc1SCCN'], ['Cc1ccncc1CNC(=O)CCN'], ['CCC(CC)NCc1cc(C)ccn1'], ['C=CC(=O)c1ncccn1'], ['CCOC(Cc1ccccc1)OCC'], ['N#Cc1ccc(-n2ccnc2)cn1'], ['CC(=O)C(C)Cc1ccncn1'], ['C#CCNCc1ccncn1'], ['CCCc1ncc(N)c(O)n1'], ['C#CC(=O)c1cnccc1C'], ['Cc1ccncc1C(N)=O'], ['CCC(N)CC(=O)Nc1cnccc1C'], ['Cc1ccc(C#N)cn1'], ['CC1CCCC(CC(N)=O)C1'], ['CCCC(CC)Nc1cccc(NCC)n1'], ['CCNS(=O)(=O)c1ncccc1C#N'], ['CC(N)COCc1ncccn1'], ['CN1CCCc2cccc(CCON)c21'], ['S=C=Nc1cncnc1'], ['CCOC(=O)c1ccncc1C#N'], ['CN(CCC(N)=O)c1ccncc1C#N'], ['C#CCOC(=O)Nc1ccc(C#N)cn1'], ['CNc1nc(N(C)C)ncc1N'], ['CCCC(O)CCNc1ccc(C#N)cn1'], ['CCC(C)(C)CCOc1cnccc1C'], ['Cc1ccnc(NCCCCO)c1'], ['CC(C)OCCNC(N)=NCc1ccccc1'], ['OCC(CC1CCCCC1)NCc1ccncc1'], ['Cc1ncccc1CC(N)=O'], ['Cc1ccnc(CNC(C)C(C)N)c1'], ['Cc1ccsc1-c1cncnc1O'], ['CN(C)c1ccncn1'], ['Cc1ccncc1C(=O)N(C)C'], ['CCC=C1CCC(N)CC1'], ['CC(O)(CN)c1ncccn1'], ['Cc1ccncc1CN(C)CC(C)(C)N'], ['OCC(NCc1ccccc1)c1ccncc1'], ['CNC(=N)SCc1cncc(C#N)c1'], ['Cc1ccncc1CNCC(C)(C)N'], ['CCC(C)CC(C#N)Nc1ccccc1'], ['CCOC(=O)Cc1ncccn1'], ['c1ccc(CCNCCOC2CCCCC2)nc1'], ['CC(C)C(CO)CNCCc1ccccc1'], ['N#CCC(N)c1ccncn1'], ['CCC=CC(=O)C=Cc1ccccc1'], ['CCC(Nc1cc(C)ccn1)C(C)N'], ['N#CC(N)c1ccncn1'], ['CCCCCC(N)c1cc(C)ccn1'], ['N#Cc1ccc(C2COCCCN2)o1'], ['CCN(C)CCNCc1cnccc1C'], ['CSc1ncc(N)c(O)n1'], ['N#Cc1ncccc1N1CC2CC2C1'], ['CCC(N)CCN(C)Cc1ccccc1'], ['CC(C)CC(NO)c1ccccc1'], ['N#Cc1cccc(C2NCCNC2=O)n1'], ['CC(N)COCc1cncc(C#N)c1'], ['Cc1cscc1C1NCCCC1O'], ['c1cncc(CNCCOC2CCCCC2)c1'], ['Cc1ccncc1NS(C)(=N)=O'], ['N#Cc1ccc(-n2cnnc2)cn1'], ['CCC(CS)CN(CC)c1ccccc1'], ['CCNC(CC)Cc1ccccc1'], ['CC(=O)NNC(C)c1ccccc1'], ['C=CC(C)Nc1ccncn1'], ['O=C(CC1CCCC1)Nc1cccnc1'], ['CCCCC(CC)CSc1ccccc1'], ['Cc1ccncc1C(N)C(O)C(C)C'], ['Cc1ccnc(OCC(C)N)c1'], ['COC(C)(C)C(NN)c1cnccc1C'], ['CC#CCNCc1ccncn1'], ['CSCC(N)c1ccncn1'], ['CNC(C)CC(C)(C)c1cnccc1C'], ['CC(O)Cc1ccc2c(c1)CCCN2C'], ['CC(=O)Nc1ccc(O)nc1'], ['CCNc1ncccc1OCC'], ['NC1CCc2scnc21'], ['CNCC(C)Sc1ncccn1'], ['CC=CC(NC)C(O)c1cnccc1C'], ['CC(CCN)CNC(C)COCc1ccccc1'], ['CCNc1ncccc1CSCCN(C)C'], ['Cc1ccnc(C(CN)CO)c1'], ['C#CCCCCCSc1ccccc1'], ['CCNc1cc(NCCC(C)C)ccn1'], ['C#CC(CO)Nc1ccnc(NCC)c1'], ['N#Cc1cccc(N2CCCO2)n1'], ['Cc1ccncc1CNC(C)(C)CCO'], ['Cc1ccnc(CNS(N)(=O)=O)c1'], ['CSCCNCc1cncc(C#N)c1'], ['N#CC1CC(CCN)C1'], ['CNC(COC(C)C)c1cnccc1C'], ['N#Cc1ncccc1C1CC(=O)CCN1'], ['CCC(C)Sc1ccncc1C#N'], ['CC(N)c1cc(C#N)sn1'], ['CC(C)Oc1ncc(N)cn1'], ['SCCc1cncnc1'], ['CCCCNc1ccncn1'], ['CCSCCC(C)Nc1ncccc1C#N'], ['COCCNc1ccncn1'], ['CCNCC(O)c1ccncn1'], ['C#CC(C)NC(=O)COCc1ccccc1'], ['Cc1ccccc1N(C)CCC1CNCCN1C'], ['Cc1ccncc1CNC(C)C(C)O'], ['CC(O)c1ccc2c(c1)CCCN2C'], ['CCCN(Cc1ccccc1)CC(N)COC'], ['CC(Cc1ccccc1)NCCc1cccnc1'], ['Cc1ccsc1C1CC(O)C12CCCC2'], ['CCNCCCc1cnccc1C'], ['NC1Cn2cncc2C1=O'], ['CCCN(CC)CCSc1ccccc1'], ['CC(O)(CCN)CCCOCc1ccccc1'], ['CC(N)CCSCCCc1ccccc1'], ['NNc1ccccc1S(N)(=O)=O'], ['COCC#CCNCc1cc(C)ccn1'], ['CCNc1cc(COCC(C)C)ccn1'], ['CC(C)c1ccncn1'], ['NC1CCS(=O)(=O)CC1=O'], ['COCCNC(=NN)Nc1cnccc1C'], ['Cc1ccncc1CCC(=O)C(C)C'], ['Cc1ccncc1C(=O)NCC(C)(C)N'], ['CC#CCC(O)COc1ccccc1'], ['CC(=O)Nc1cn(C)cn1'], ['NC1CCC1'], ['C=C(C)Cc1cncnc1'], ['CCCNCc1cccc(NCC)n1'], ['C#Cc1ncccn1'], ['CCN(CC)c1ccc(C(=O)OC)cc1'], ['CCCC(NC)c1ncccn1'], ['COCCCCNc1ccncc1C#N'], ['CNCCC(O)c1cncnc1'], ['OC(=NCc1ccccc1)c1ccncc1'], ['N#Cc1cccnc1NCCOC(N)=O'], ['Cc1ccsc1C1CCCCCC1O'], ['C#CCc1cccc(C(=O)OC)c1'], ['CC(O)CCCNc1ccc(C#N)cn1'], ['O=C(C#Cc1ccccc1)c1cccnc1'], ['COCCC(=O)c1ccncn1'], ['CNC(=NCc1cc(C)ccn1)NC'], ['CC#CCOc1ncccc1C#N'], ['Cc1ccncc1C(O)CC(C)(C)C'], ['C#CCNCC(=O)NCc1ccccc1'], ['C#CC(C)N(C)c1cc(C)ccn1'], ['Cc1ccsc1C1(O)CC2CCCC21'], ['CC=CC(NC)c1ncccn1'], ['CC#CCCNCc1cnccc1C'], ['CNC(C)c1cncc(C#N)c1'], ['CC=CC(=O)Nc1cc(C)ccn1'], ['C#CC(C)Nc1ccncn1'], ['NC1=NC(=O)CN1'], ['CCNc1ccc(COC)cn1'], ['COC(Cc1cc(C)ccn1)C(=O)O'], ['CN1CCCc2c(CO)cccc21'], ['C#CC(N)c1cncnc1'], ['N#Cc1ccc(C2COC(=O)C2)cn1'], ['CC(Cc1ccccc1)NOC(C)(C)C'], ['N#Cc1ccccc1S(N)(=O)=O'], ['CC(=O)C(O)c1cc(C)ccn1'], ['COC(C)CCC(=O)Nc1cnccc1C'], ['CNc1ccc(C#N)cn1'], ['NC12CC(C1)C2'], ['N#CCc1ncccc1C#N'], ['CC(CCN)c1ccc2c(c1)CCCN2C'], ['NC(Cc1ccncc1)c1ccccc1'], ['Cc1ccncc1C(C)NN'], ['CNC(C)CNc1ccncn1'], ['CCCC(CC)Nc1cnccc1C'], ['Nc1cncnc1O'], ['CC(c1cccs1)N1CCC(O)CC1'], ['CC(C)=C1CC(N)C12CCC2'], ['OC1(Cc2ccsc2)CCC1'], ['NC1Cn2nccc2C1=O'], ['CCNc1cccc(C(=O)O)n1'], ['c1ccc(CONCCNc2ccccn2)cc1'], ['CCNCCc1ccc(C(=O)OC)cc1'], ['CCSCCCNCc1cnccc1C'], ['COCCNCCNc1cc(C)ccn1'], ['O=C(CNc1ccccn1)NC1CCCCC1'], ['Cc1ccncc1COC(CN)C(C)C'], ['CC#CCSCc1cc(C)ccn1'], ['C#CCCNc1ccccc1S(N)(=O)=O'], ['CC(=O)COc1cncnc1'], ['C#CCC(O)CNCc1cnccc1C'], ['NC1C2CC3C(C2)C13'], ['CC(C)NC(=N)c1ncccn1'], ['CCNCC(=O)c1cnccc1C'], ['COCC(C)CNc1ccncc1C#N'], ['CCC(C=O)=Cc1cnccc1C'], ['NC(=NO)C(CNCCCO)c1ccccc1'], ['CCC(C)CC(NN)c1cnccc1C'], ['C=C1CC(N)C1'], ['CCC(C)CCC(=O)Nc1cnccc1C'], ['CCCNCCNc1ccc(C#N)cn1'], ['COC(=O)c1ccc(OCCCS)cc1'], ['CCC(C)(N)Cc1ccncn1'], ['CCCCCNC(C)c1cc(C)ccn1'], ['N#CC#Cc1ccccc1'], ['NCCCN(Cc1ccccn1)C1CCCCC1'], ['NC(COCc1ccccc1)Cc1ccccn1'], ['Cc1ccncc1NC(=O)CC(N)=S'], ['N#Cc1ccc(N2CC3CC2CN3)cn1'], ['OC1CCN(CC2CCCO2)CC1'], ['COC(=O)COc1ccncn1'], ['CCNC1(C#N)CC2CCCCC21'], ['OC1CCN(CCc2ccsc2)CC1'], ['N#Cc1ccc(NCC(N)=O)nc1'], ['NC12C3CC1CC2C3'], ['CNC(=O)c1cncc(C#N)c1'], ['N#Cc1cccc(C2CCC(=O)N2)n1'], ['N#Cc1cccc(N2CCCCC2)n1'], ['COCCCNCc1cnccc1C'], ['CCNC(C)CC(=O)Nc1cnccc1C'], ['C#CCC(NC)c1cc(C)ccn1'], ['NN(c1ccccc1)c1ccccn1'], ['COC(=O)C(C)Cc1cnccc1C'], ['COC(C)CNC(C)c1cnccc1C'], ['Cc1ccnc(NC(C)CC(=O)O)c1'], ['Cc1ccncc1NC(=O)C(N)C(C)C'], ['N#Cc1cncc(CNCCC(N)=O)c1'], ['N#Cc1ccc(N2CCCCC2)cn1'], ['C=C(C)CN(C)c1ccnc(NCC)c1'], ['CN=C(N)SCc1cncc(C#N)c1'], ['Cc1ccncc1COCCNC(C)C'], ['C#CC(O)c1cc(C)ccn1'], ['C#CCONCc1ncccn1'], ['NCC1CCCCN1Cc1ccsc1'], ['CCNC1(C#N)CCC2CCC1O2'], ['C=CCOC(=O)c1ccccc1'], ['CN(C)CC(O)c1cncnc1'], ['CC(O)(Cc1ccccc1)c1cccnc1'], ['Cc1ccncc1C(O)CC(C)N'], ['Cc1ccsc1C1(O)CCCNCC1'], ['CC(=O)NCCSc1ncccc1C#N'], ['OC(CNCc1cccnc1)c1ccccc1'], ['N#CCC(Sc1ccccn1)c1ccccc1'], ['CN1CCC(C(O)C#N)c2ccccc21'], ['COC(=O)Nc1cc(C)ccn1'], ['NCc1ncccc1N1CCCOCC1'], ['CC(CNCc1ccccc1)c1ccncc1'], ['CNC(CCO)c1cnccc1C'], ['O=C(COc1ccccc1)Nc1ccccn1'], ['CCOCCNC(C)c1cc(C)ccn1'], ['CN(c1ccncc1C#N)C(C)(C)CN'], ['COc1ncc(N)c(C(=O)O)n1'], ['CC(C)CC=C1CCCCC1N'], ['C=C=CCC(O)CCc1ccccc1'], ['Cc1ccncc1CNC(C)CN(C)C'], ['CN1CCCc2c(CCC#N)cccc21'], ['CNCc1cccc(S(N)(=O)=O)c1'], ['CNC(c1cc(C)ccn1)C(C)C'], ['CCOC(=O)CNC(=O)c1ccccc1'], ['NCCOc1cccc(S(N)(=O)=O)c1'], ['CCNC(COC)c1cc(C)ccn1'], ['COC(=O)c1ccccc1CNCC(C)O'], ['OC1CC2CCC1N(Cc1ccsc1)C2'], ['CC1CCCNC1CC(N)=O'], ['CCCNC(c1ccccc1)C(C)O'], ['CCNC1CCNCCC1C#N'], ['CSCCCN(C)c1ncccc1C#N'], ['N#Cc1cccc(OCCN2CCOCC2)c1'], ['CC(C)CCNC(=O)Oc1ccccc1'], ['CNCCCc1ccccc1'], ['C=C(CSc1ncccn1)OC'], ['CCC(CC)C(N)c1cnccc1C'], ['Cc1cncc(=O)n1CC(N)=O'], ['COC(=O)NCCNc1cc(C)ccn1'], ['CNCC1CCCN(Cc2ccsc2)C1'], ['CC1C2CNCC2CN1CC(N)=O'], ['c1ccc(CCNC2CCCCC2)nc1'], ['C=C(CC)CNc1ccc(C#N)cn1'], ['CC=CCNS(=O)(=O)c1ccccc1'], ['CC(N)c1cc(C#N)ns1'], ['COCCNc1ncncc1N'], ['CCCN(C)c1ccnc(NCC)c1'], ['CSCC(C)C(N)c1cnccc1C'], ['CCNC1(C#N)CCCNC1'], ['CCC(CCO)Nc1ncccc1C#N'], ['CCCNC(C)c1ccc(C#N)cn1'], ['CCCCOC(=O)c1ccc(C#N)cn1'], ['CCCC(O)c1ccncn1'], ['CCNc1ncccc1C(=O)OCC'], ['OCCNCc1cncnc1'], ['C#CCNCCCc1cnccc1C'], ['NCC(COc1cccnc1)C1CCCCC1'], ['CN(C)NCc1ncccn1'], ['Cc1ccncc1C(C)(C)CON'], ['CON(CCN)Cc1cncc(C#N)c1'], ['CC(N)c1ncc(C#N)s1'], ['Cc1ccnc(NCCCNC(C)C)c1'], ['NCC(c1ccccc1)c1cccnc1'], ['CCCONCc1ncccn1'], ['C#CCN(c1ccncc1C#N)C(C)C'], ['CC(C)C(C)N(C)CCc1ccccc1'], ['COC(=O)c1ccccc1NC(=O)CSC'], ['CC(C)=CC(=O)Nc1cc(C)ccn1'], ['CC(CN)(CCCCO)c1ccccc1'], ['SCC(CSc1ccccn1)c1ccccc1'], ['CCC(C)CNCc1ccccc1C(=O)OC'], ['CNC(Cc1ccccc1)C(N)=O'], ['Cc1ccsc1-c1ccc(O)cn1'], ['CCOC(=O)c1ncccn1'], ['CC(=O)C(C)Cc1ncccn1'], ['COCCNC(C#N)c1cnccc1C'], ['C#CCC(CC)Nc1ccc(C#N)cn1'], ['CCC(C)(C)NCc1cncc(C#N)c1'], ['N#Cc1ccc(C2CNCCOC2)s1'], ['OCCNc1ccncn1'], ['COC(=O)c1ccccc1CCCS'], ['C=CC(CO)Nc1ccncc1C#N'], ['Cc1cccc2c1CCCN2C'], ['NC1CNCCOC1'], ['CCCC(C)NCc1cncc(C#N)c1'], ['COC(=O)c1cccc(C=CCO)c1'], ['N#CC=C(c1ccccc1)c1ccncc1'], ['COC(=O)c1cccc(O)c1'], ['N#Cc1cnccc1OCCO'], ['CC1CN(CC(N)=O)CCC1=NO'], ['COC(C(N)=S)c1ncccn1'], ['CC(C(=O)NO)C(N)c1ccccc1'], ['CC(CCCc1ccccc1)=NO'], ['Cc1ccncc1COCCN'], ['CCN(CC)Cc1ccc(C#N)cn1'], ['CC(N)c1nnc(C#N)o1'], ['CCCC(C)(C)Nc1cc(C)ccn1'], ['CCNc1cccc(NCC(C)O)n1'], ['N#Cc1csc(C2CCNCCO2)c1'], ['CC(C)(O)CNc1ccc(C#N)cn1'], ['CCNc1cccc(OC(C)CC(C)C)n1'], ['Cc1ccsc1-c1cncc(O)c1'], ['N#CCCc1ncccn1'], ['CNCC(O)c1ccc(C(=O)OC)cc1'], ['CSCC(C)CNc1ccncc1C#N'], ['CSC(C)CNc1cc(C)ccn1'], ['N#Cc1ncccc1N1CCCC1'], ['C=CCC(C)C(=O)c1cnccc1C'], ['CC(C)(N)COCc1ccccc1'], ['Cc1ccncc1C(NC(C)C)C(=O)O'], ['N#Cc1ccc(C2CNC(=O)C2)cn1'], ['Cc1ccnc(N(C)C(C)(C)CO)c1'], ['CN(CC=O)c1ncccc1C#N'], ['NOCCNc1ccccc1S(N)(=O)=O'], ['C#CCNCCOc1cnccc1C'], ['CC12CSCC1CN(CC(N)=O)C2'], ['C=CC(C)Oc1ccnc(NCC)c1'], ['N#Cc1cccc(-c2nnco2)n1'], ['CNCCc1cc(C)ccn1'], ['Cc1ccncc1NCCCC(C)C'], ['CCCN(C)Cc1cccc(NCC)n1'], ['NC1CC(=O)N2CCCC12'], ['OC1CCN(CC2CCSC2)CC1'], ['O=C(Cc1ccncc1)Nc1cccnc1'], ['CN(C)CCCSc1ccc(C#N)cn1'], ['COc1cccc2c1N(C)CCC2'], ['CCNc1ncccc1CN(C)CC'], ['N#Cc1cc(N2C3CCC2CC3)ccn1'], ['COCC(O)c1ccccc1C(=O)OC'], ['CCNCC(Cc1cccnc1)c1ccccc1'], ['CS(=O)(=O)NCCN1CCOCC1'], ['COCCCC(N)CCc1ccccc1'], ['CCOC(=O)CCC=Cc1ccccc1'], ['CC(C)=CCCc1cnccc1C'], ['CCNc1ncccc1CNCC(C)C'], ['COC(=O)c1ccc(NC(C)=O)cc1'], ['CC(CN(C)C)Nc1ccc(C#N)cn1'], ['CSCCCNc1cnccc1C'], ['C=CC(C)(C)Nc1ncccn1'], ['C=CC(N)c1ccc2c(c1)CCCN2C'], ['C=CCSc1ccnc(NCC)c1'], ['CC1CCCCN(CC(N)=O)C1=O'], ['CC(=O)C(C#N)c1ccncn1'], ['C=C(C)CN(C)c1cc(C)ccn1'], ['CCOCCN(CC)c1ccc(C#N)cn1'], ['SCC=CCSc1ccncn1'], ['CCSCC(C)Nc1ccncc1C#N'], ['CC(=O)CCCC(C)c1ccccc1'], ['CC=CCS(=O)(=O)c1ccccc1'], ['COc1nc(N(C)C)ncc1N'], ['C#CCC=C1CCCCC1N'], ['Cc1ccncc1CNC(=O)CC(=O)O'], ['Cc1ccncc1OC(C)C(C)O'], ['CC(C)C(C)SCc1cncc(C#N)c1'], ['CCCCC(C)(N)c1cnccc1C'], ['CC(C)NCCOc1ccc(C#N)cn1'], ['COC(CN)CC(c1ccccc1)C(C)C'], ['O=C(Cc1ccon1)Nc1cccnc1'], ['NS(=O)(=O)c1ccccc1C#CCO'], ['CC(N)C(C)C(O)Cc1ccccc1'], ['CC(NO)c1ccncn1'], ['CNCC(C)Oc1ccncc1C#N'], ['Cc1ccnc(CSC(C)C)c1'], ['CC(Cc1ccncc1)NCc1ccccc1'], ['CN1CCCc2c(C(O)C#N)cccc21'], ['CCCC(=O)Nc1ccc(C#N)cn1'], ['CCC(CCc1ccccc1)C(=O)OC'], ['Cc1ccncc1CC(N)=NO'], ['CC(C)(C)CC=C1COCC1N'], ['CCCOCc1ccnc(NCC)c1'], ['C=CCCCOc1cccc(NCC)n1'], ['Cc1ccncc1C(=O)NOCC(=O)O'], ['CCC(O)C(C)(C)c1ccccc1'], ['Cc1ccncc1CCCCNCC(C)C'], ['CC(CCN)SCCOc1ccccc1'], ['OC1CCC2CC1CN2Cc1ccsc1'], ['CCCCSc1ccc(C#N)cn1'], ['NC1COC2(COC2)C1'], ['C=CCC(COCc1ccccc1)NN'], ['CCN(CCCCO)Cc1ccccc1'], ['CCCN(OC)c1ccnc(NCC)c1'], ['COC(=O)c1cccc(CCS)c1'], ['CSCCNc1ccccc1S(N)(=O)=O'], ['Cc1ccnc(C(N)CS)c1'], ['CCCNCc1cccnc1NCC'], ['CCCCNC(=O)Nc1ncccc1C#N'], ['N#Cc1ccc(NCC=CCN)nc1'], ['CC(O)CN(C)c1ncccc1C#N'], ['NC1=NC(=O)C2(CC2)S1'], ['C=CC=C1CCOCC1N'], ['Cc1ccsc1C1(O)CCCC12CC2'], ['CCOC(=O)C(N)CCc1cnccc1C'], ['C=CCNc1ncncc1N'], ['N#Cc1cccc(C2CCCNC2)n1'], ['CCC(CNCc1ccncc1)c1ccccc1'], ['NC(=O)CC1(c2cccs2)CCCCC1'], ['CC=CCCNc1ncccn1'], ['CCC(CC)(CO)Sc1cc(C)ccn1'], ['NC(CCc1ccccc1)C(O)C(=O)O'], ['Cc1ccncc1CNCCCN(C)C'], ['N#Cc1cncc(CSCC(O)CO)c1'], ['Cc1ccncc1CNC(C)(CO)CO'], ['CC=CC(=O)NCCCCOCc1ccccc1'], ['CCCNC(C)C=Cc1cnccc1C'], ['CN1CCCc2cc(C(N)=NN)ccc21'], ['CCNc1cc(NCC(C)SC)ccn1'], ['CCCC(CN)Nc1cc(C)ccn1'], ['CCC(C)CSc1ncccn1'], ['CC(C)(N)COc1ncccc1C#N'], ['CCNc1ncc(C#N)cc1C'], ['CCCC(C)CC(=O)c1cc(C)ccn1'], ['N#CCC1CCN(Cc2ccsc2)CC1'], ['N#CCCc1ccncn1'], ['NCCNc1ncc(N)cn1'], ['CC(C)(c1ccccc1)C(O)CN'], ['NC1COCC1=O'], ['C=C(C)CCOc1cccc(NCC)n1'], ['CC(=O)Nc1cncc(C#N)c1'], ['CCNc1ccc(CSCC(C)CO)cn1'], ['CCCOCCCNc1cc(C)ccn1'], ['CCNc1cccc(CSC(C)(C)C)n1'], ['C=CCSc1ccc(C#N)cn1'], ['Cc1csc(C2OCCC2O)c1'], ['CC=C1CCC(N)CC1'], ['CC#CCC(NN)C(C)OCc1ccccc1'], ['CC#CCCNCc1cc(C)ccn1'], ['CCC(COC)NCCc1ccccc1'], ['C#CCN(CCC)c1ccc(C#N)cn1'], ['CCC(C)CNc1ncccn1'], ['CNC(=N)c1cc(C)ccn1'], ['CCNc1cccc(CNCC(C)C)n1'], ['CN1CCCc2cc(C(N)=O)ccc21'], ['COC(CCN)c1cc(C)ccn1'], ['CC(C)(N)Cc1cncnc1'], ['CC(=O)NOCc1ncccn1'], ['CC(C)(C)OCc1cncc(C#N)c1'], ['CC(C)(C)SCc1ccc(C#N)cn1'], ['CCNc1ccc(CN(CC)OC)cn1'], ['CCC(Nc1cnccc1C)C(=O)O'], ['CNC(CCc1cnccc1C)C(C)C'], ['CCCNC(=NN)c1cnccc1C'], ['Cc1ccnc(C(C)(C)C(N)=S)c1'], ['CN(CCC#N)c1cncnc1'], ['CN(CCNCc1cccnc1)C1CCCCC1'], ['CCNCCOc1ncccc1C#N'], ['Cc1cnccc1CC(N)=O'], ['NC1CC2CCSC2C1'], ['Cc1ccncc1OCC(=O)O'], ['N#Cc1cc(C2CCCCC2)ccn1'], ['CC(CNc1ncccc1C#N)CC(=O)O'], ['CNc1ncc(N)c(N)n1'], ['CCC(C)Nc1ccncn1'], ['CCCNCCN(C)CCOCc1ccccc1'], ['Cc1ccncc1C(NN)C(C)C'], ['CCNc1cc(N(C)CCC#N)ccn1'], ['CN1CCCc2cc(CC(O)CN)ccc21'], ['C#CCC(O)CNc1cc(C)ccn1'], ['C=CCSCc1ccc(NCC)nc1'], ['CC(=O)NC1(C)CCCNC1'], ['C#CCN(C)c1ccccc1C(=O)OC'], ['Cc1ccnc(CC(N)C(=O)O)c1'], ['O=C(CC1CCCCC1)Nc1ccnnc1'], ['O=C1CCCC(CN2CCC(O)CC2)C1'], ['CCCNC(=N)SCOCc1ccccc1'], ['N#Cc1ccc(OCC(=O)O)nc1'], ['CNC(C)CCc1cncnc1'], ['CCCC(=N)NCc1cc(C)ccn1'], ['CC(=O)NCCNc1ccncc1C#N'], ['COC(=O)c1nscc1S(N)(=O)=O'], ['CC1CCCN(CC(N)=O)C1=O'], ['CCC(C)CNCc1cc(C)ccn1'], ['COCCCC(=O)COCc1ccccc1'], ['CCNC(C)CC(OC)c1ccccc1'], ['OC1(Cc2ccsc2)CCSC1'], ['CC#CCCNC(C)c1cnccc1C'], ['CCC(Nc1cc(C)ccn1)C(=O)O'], ['OC1CCN(CC2CCNC2)CC1'], ['C=CCCCC(=O)c1cc(C)ccn1'], ['CCNCC#Cc1ccncn1'], ['CC(C)C(=O)COCc1ccccc1'], ['C=CC(N)C=Cc1ccccc1'], ['Cc1ccnc(NC(=O)C(C)S)c1'], ['CCNC(c1cc(C)ccn1)C(C)CC'], ['N#Cc1ccc(CCC2CNCCO2)cc1'], ['CC(C)C(C)C(CN)NCc1ccccc1'], ['CC(N)c1cc(C#N)no1'], ['COC(=O)c1cccc(NCC(C)C)c1'], ['CN1CCCC(CC(N)=O)C1'], ['O=C(CC1CCNCC1)Nc1cccnc1'], ['CC(C)C(N)CCCOc1ccccc1'], ['CNCC(=Cc1ccncc1)C1CCCCC1'], ['CN(CCCNc1ccncc1)c1ccccc1'], ['CC(CCCO)NC(=O)CSc1ccccc1'], ['NNC(c1cccnc1)C1CCCCC1'], ['CC(Cc1ccsc1)N1CCC(O)CC1'], ['CCONCc1cncc(C#N)c1'], ['CCC(O)(CN)c1cnccc1C'], ['NC1CC(=O)C2SC=CC12'], ['COCC(N)c1ccncn1'], ['COC(C)C(C)(O)c1cnccc1C'], ['N#Cc1ccc(C2CNCCCO2)s1'], ['Nc1c(O)ncnc1S'], ['CCC=CCNc1ccncn1'], ['C#CCCCCNc1ncccc1C#N'], ['CC(O)(C=O)c1cncnc1'], ['CS(=O)(=O)Nc1ncccc1C#N'], ['CCNC1(C#N)CC2COCC21'], ['CN1CCCc2cccc(CC(=N)N)c21'], ['CC(=O)NC1(C)CCOC1'], ['Nc1ccns1'], ['N#Cc1ccc(NCCOC(N)=O)nc1'], ['CC(CN)(c1ccccn1)C1CCCCC1'], ['Cc1ccncc1CC(N)C(C)C'], ['N#CCc1cncc(C#N)c1'], ['CC1CNC(=O)N(CC(N)=O)C1'], ['CC(C)CCNCC(C)Oc1ccccc1'], ['COC(C)CC(O)c1cnccc1C'], ['C=CCCCC(O)c1cc(C)ccn1'], ['CC(CNCc1ccccn1)Oc1ccccc1'], ['COCCN(C)Cc1cncc(C#N)c1'], ['NC1COCOC1'], ['NC1CC12CCSCC2'], ['COCC(C)=C1COCC1N'], ['CCNC(C(=O)OC)c1cnccc1C'], ['CC(=CCNCc1ccccc1)C(=O)O'], ['CCCC=C1CCCC1N'], ['CCC(N)C(=O)NCc1cc(C)ccn1'], ['C#CCNC(CC)C(C)c1ccccc1'], ['CC(C)c1nc(O)ncc1N'], ['COC(=O)c1ccc(CCC=O)cc1'], ['CC(C)OCCOc1ccncc1C#N'], ['CC#CCC(NN)c1cc(C)ccn1'], ['O=CC1CCCN(Cc2ccsc2)C1'], ['NC1=NC2(COC2)C(=O)N1'], ['NC1CC12CCC(=O)CC2'], ['CC(CCNCc1cccnc1)c1ccccc1'], ['CC1CCN(CC(N)=O)C(=O)C1'], ['CC(NCCC1CCCCC1)c1cccnc1'], ['Cc1ccncc1CC#N'], ['CCNC(CN)c1ccncn1'], ['N#Cc1cccnc1OC(=O)CO'], ['NC1CNC(=O)CCC1=O'], ['C=CC(=O)c1cnccc1C'], ['CCOCC(=O)NOCc1ccccc1'], ['COC(C)CC(N)c1cnccc1C'], ['CC(O)CC(c1ccccc1)C(C)C'], ['CCCOc1ccnc(NCC)c1'], ['CC(O)CNc1ccncn1'], ['N#Cc1ncccc1C1CC(=O)CO1'], ['N#Cc1ccc(NOCC(=O)O)nc1'], ['Cc1ccncc1C(C#N)NC(C)C'], ['CCCCN(CCO)c1cc(C)ccn1'], ['COC(=O)Nc1cncnc1'], ['N#Cc1ccc(NO)nc1'], ['Cc1ccnc(SCCCO)c1'], ['Cc1ccnc(NC(=O)NCC(C)O)c1'], ['NC1Cc2sccc2C1=O'], ['NC1CC(=O)c2cscc21'], ['CCNCC(O)CCN(C)Cc1ccccc1'], ['CSC(C)(C)C(NN)c1cnccc1C'], ['COC(=O)c1ccccc1OC(C)(C)C'], ['CC(CO)(NCCN)c1ccccc1'], ['CC(CC(N)=O)Nc1ccncc1C#N'], ['NC(COCc1ccccc1)Cc1ccncc1'], ['CCS(=O)(=O)c1ncccn1'], ['Cc1ccnc(CNCCCCO)c1'], ['CON(CCN)c1ccncc1C#N'], ['CN1CC(CCO)Cc2ccccc21'], ['C=CCCCC(C)Nc1cc(C)ccn1'], ['Cc1ccccc1CCNCC1CNCCN1C'], ['CC(C)(C)NCC(O)COc1ccccc1'], ['COC(CO)c1cncnc1'], ['CCc1ccccc1'], ['CCNc1ccc(CC(=O)OC)cn1'], ['COC(=O)c1cccc(C=NN)c1'], ['CCNc1ccc(CN(C)OCC)cn1'], ['CCC(=Cc1cnccc1C)CN'], ['O=C(CSC1CCCCC1)Nc1ccncc1'], ['CCCOC(=O)c1cncnc1'], ['Cc1ccsc1C1CC(O)CN1'], ['CCNC(=NN)c1cnccc1C'], ['NCC(Cc1ccccn1)C1CCCCC1'], ['Cc1ccncc1C(N)C(C)C(C)C'], ['Cc1ccncc1CNC(=O)OC(C)C'], ['CC(SCCOCc1ccccc1)C(=O)O'], ['CC(N)CC(=O)NCc1ccccc1'], ['CC(C)NCC(N)CCc1ccccc1'], ['CC(N)(CO)c1ncccn1'], ['O=C(NNc1ccccn1)NC1CCCCC1'], ['Cc1ccncc1C(N)CSCC(C)C'], ['CCC(CC)c1ncc(N)cn1'], ['C=CC(Oc1cnccc1C)C(=O)OC'], ['Cc1ccnc(CON)c1'], ['CCSCC(C)NCc1cc(C)ccn1'], ['CCCN(CC)c1cccc(NCC)n1'], ['CCC(CC)CC(=O)c1cnccc1C'], ['CN1CCCc2cc(OCCC#N)ccc21'], ['C(=Cc1ccccc1)CNc1cccnc1'], ['N#Cc1cccc(C2CCOCCN2)n1'], ['CC=CC(=O)C(N)Cc1ccccc1'], ['NC12CCCC1CCC2'], ['Cc1ccnc(CNC(C)(C)C)c1'], ['O=C1CCCCC1(O)Cc1ccsc1'], ['CC(=O)NCC1CCCCN1Cc1ccsc1'], ['C=COc1cnccc1C'], ['CCC(CO)N(C)C(=O)c1ccccc1'], ['C=CC(C)(C)CNc1ncccc1C#N'], ['CCC(CC)Nc1ccccc1C(=O)OC'], ['CN1CCC(C=O)c2ccccc21'], ['O=C(O)CNc1ccncn1'], ['O=C(O)CCCCC=Cc1ccccc1'], ['CN(N)C(=O)c1ccc(C#N)cn1'], ['CNc1cncc(N2CCCOCC2)c1'], ['CCC(O)C(C)Nc1cc(C)ccn1'], ['N#CCNC(=O)CCCc1ccccc1'], ['CC#CCC(CSc1ccccc1)NN'], ['CC(C)CC(C)Nc1ccc(C#N)cn1'], ['CC(O)CC(C)c1cncnc1'], ['CCCN(C)Cc1cncnc1'], ['Cc1ccncc1C(CC(C)C)NN'], ['CN(C)Cc1ncc(N)c(O)n1'], ['NC1CC2CC(=O)CC2C1'], ['C=CC(CO)NC(C)c1cnccc1C'], ['Nc1cnncn1'], ['CC(C)CCN(N)c1ccccc1'], ['COCC(C)CC(N)c1cnccc1C'], ['C(=Cc1ccccn1)c1ccccc1'], ['CN(CC(=O)O)c1ccc(C#N)cn1'], ['C=CCCc1cc(C)ccn1'], ['CONCCNc1ncccc1C#N'], ['CC1NC(=O)N(CC(N)=O)C1=O'], ['C#CC(=O)c1ccncn1'], ['COCCOCCOc1cnccc1C'], ['CNC(C)(C)CNCc1cnccc1C'], ['CC(C)N(C)c1ccc(C#N)cn1'], ['CC(O)C=CC=Cc1ccccc1'], ['CCC(N)CNc1ccncn1'], ['N#CCC(=O)Nc1ccc(C#N)cn1'], ['CCNC(=N)c1cc(C)ccn1'], ['CN(C)CCNc1ccncc1C#N'], ['CC(CCO)SCC(O)COCc1ccccc1'], ['CCNc1ncccc1CSC(C)C'], ['C=C(C)CN(C)c1cccc(NCC)n1'], ['CC(C)(O)CNc1ccncc1C#N'], ['C=C1CON(c2ccnc(C#N)c2)C1'], ['O=C(Cc1ccsc1)Nc1cccnc1'], ['C=C1CC(N)C12CCC2'], ['COC(C)(C)CNc1cc(C)ccn1'], ['CCNC(C)(C)C(=O)c1cnccc1C'], ['Cc1ccncc1C#CC(C)N'], ['CCNc1sc2c(c1C#N)CCC2'], ['NC1C(=O)SC12CCC2'], ['CCC=CCNc1ncccn1'], ['CC(C)=CCCNc1ccc(C#N)cn1'], ['CCC(CC)NCc1ccc(C#N)cn1'], ['CC=CC(=O)c1cnccc1C'], ['CC(CC1CCCCC1)NCc1ccncc1'], ['O=C(CCc1ccccc1)c1cccnc1'], ['CCNc1ccc(CN(C)OC)cn1'], ['CC(C)CCCNc1ccc(C#N)cn1'], ['CC(C)(N)COCc1cncc(C#N)c1'], ['Cc1ccncc1C(O)C(C)CCN'], ['CC(C)(C)C(O)c1ncccn1'], ['C=CCCC(N)c1cc(C)ccn1'], ['Cc1ccncc1C(C)(N)CCN(C)C'], ['CCC(CC(=O)OC)Nc1ccccc1'], ['CC(C)CCSc1ccncc1C#N'], ['C=CC=CCCC(O)c1cc(C)ccn1'], ['O=C(CC1CCCCC1)NC1CCCOC1'], ['CCNC(C#N)c1cnccc1C'], ['CCNc1ccc(C(=O)OC)cn1'], ['CCNS(=O)(=O)CC1CCCC1'], ['N#CC1CCC(CCN)C1'], ['N#Cc1cc(N2CCNNCC2)ccn1'], ['COC(=O)c1cccc(C(N)N=O)c1'], ['NC(Cc1ccncn1)C(=O)O'], ['Cc1ccsc1C1(O)CCC2CCCC21'], ['CC(C)SCC(O)(CN)c1ccccc1'], ['CN1CCC(OC2CCC(=O)CC2)CC1'], ['Cc1cnn(CC(N)=O)c(=O)c1'], ['CCSc1ncc(N)cn1'], ['Cc1cscc1C1NCCCCC1O'], ['O=C(CSc1ccccn1)NC1CCCCC1'], ['COCCNc1ccncc1C#N'], ['CC(CC(=O)O)c1ncccn1'], ['CCNC1CCCOC1C#N'], ['CCC(N)C(CC)(CCO)c1ccccc1'], ['CC12CC(CO1)N(CC(N)=O)C2'], ['CC(C)NC(=O)c1ccncn1'], ['CC(CN)C(=O)NCCOCc1ccccc1'], ['O=C(O)C=Cc1ncccn1'], ['CC(C#N)Cc1cccc2c1CCCN2C'], ['Cc1ccnc(CCON)c1'], ['CN(CC1COCCN1)c1ccccc1C#N'], ['NN1CC(=O)NC1=O'], ['CCNC(CCSC)c1cnccc1C'], ['CCC(CN)C(=O)Nc1cnccc1C'], ['CNCC(O)c1cncnc1'], ['CC(=Cc1ccccc1)CCS'], ['CC(C)C(C)OCc1cncc(C#N)c1'], ['Cc1ccncc1CC(N)=O'], ['NC1CCC2CC1CN2'], ['N#CN(Cc1ccccc1)c1ccccn1'], ['CCCC(=O)c1ccncn1'], ['C=CCN(CCO)c1ccncc1C#N'], ['COC(=O)c1ccccc1CCC(=O)O'], ['O=C(O)CCSc1ccncn1'], ['Cc1ccccc1OCCN1CCN(C)CC1'], ['CCN(CC(=O)NC)c1ncccc1C#N'], ['CCCCC(CC)COc1ccccc1'], ['CCNc1cccc(NC(C)(CC)CO)n1'], ['Cc1ccncc1C(N)CCN(C)C'], ['CCC(CN)Nc1ccncn1'], ['CCC(C)(C)C(NC)c1cnccc1C'], ['COCCCN(C)c1ccc(C#N)cn1'], ['CCNS(=O)(=O)Cc1cccnc1'], ['COC(=O)c1ccccc1CCN=C=O'], ['CCCSCc1cncc(C#N)c1'], ['C=CCC(=O)Cc1ccccc1'], ['C=CCN(CC)c1cc(C)ccn1'], ['CCNc1ncccc1CN(C)CCO'], ['c1cncc(CCNC2CCCCC2)c1'], ['COC(C)(C)CC=C1CC(N)C1'], ['CN1CCCc2ccccc21'], ['CC(Cc1cccnc1)NC1CCCCC1'], ['CCC(C)(C)c1ncc(N)cn1'], ['C#CCC(CC)NCc1cnccc1C'], ['Nc1cncnc1CO'], ['Cc1ccncc1C(C)C(C)C(=O)O'], ['COC(=O)C(c1cnccc1C)C(C)C'], ['CNCCOc1ncccn1'], ['Cc1ccnc(CNCCOC(C)C)c1'], ['CC(C)(C#N)c1ncccn1'], ['OCCC(c1ccccc1)c1ccncc1'], ['NS(=O)(=O)c1ccccc1C=CC=O'], ['Nc1ccncc1'], ['NC1=CCNC(=O)N1'], ['CCNc1cc(N(C)CC(N)=O)ccn1'], ['CCN(CC)CCN(CC)Cc1ccccc1'], ['CCCOCC(=O)c1cnccc1C'], ['S=C(NCc1cccnc1)NC1CCCCC1'], ['C#CC(C)Oc1ccnc(NCC)c1'], ['COCSc1ccc(C#N)cn1'], ['Cc1ccncc1CCC(=O)O'], ['COC(=O)COC(N)COCc1ccccc1'], ['C=CCCC=C1CCCC1N'], ['CNCCCOc1cncnc1'], ['NC(=O)c1ncc(N)cn1'], ['CCNc1cccc(NCC(C)(O)CC)n1'], ['Cc1ccnc(C(C)NCCC#N)c1'], ['OC1(Cc2ccsc2)CCNC1'], ['CCOCC(C)NC(=O)OCc1ccccc1'], ['CCNc1cc(N(CC)C(C)C)ccn1'], ['Cc1ccnc(NCCC(=O)N(C)C)c1'], ['CC1CCN(Cc2ccsc2)CC1'], ['O=C(COc1cccnc1)NC1CCCCC1'], ['CCCCCCCOc1ccc(C#N)cn1'], ['CCC(CC)=C1CCCCC1N'], ['CCS(=O)(=O)CCNCCc1ccccc1'], ['C#CCOCSc1ncccn1'], ['CCCC(O)CNc1ncccc1C#N'], ['C=CCNCC(=O)Nc1cnccc1C'], ['CCCC(C)OCc1cncc(C#N)c1'], ['Cc1ccnc(CNC(CO)C(C)C)c1'], ['CCN(C)c1ccncc1C#N'], ['COc1nc(SC)ncc1N'], ['NC1CCCCS1(=O)=O'], ['CN(CCO)C(C(N)=O)c1ccccc1'], ['CCOc1ncnc(SC)c1N'], ['CCOCC(N)c1cc(C)ccn1'], ['CC(O)CN(C)c1ccncn1'], ['CCNC1(C#N)CC2C=CC1C2'], ['N#CCC(c1ccccc1)c1ccncc1'], ['O=C(NCCc1ccncc1)NC1CCNC1'], ['NS(=O)(=O)c1ccccc1NCCO'], ['CCCNC(C)CCc1cnccc1C'], ['CCCNC1CCCN(Cc2ccsc2)C1'], ['NC1COCCOC1'], ['CCCCC(O)c1cnccc1C'], ['CN1CCCc2cc(C(=O)NN)ccc21'], ['CNC(=O)CNCc1cncc(C#N)c1'], ['C=C(C)CNCCCN(C)Cc1ccccc1'], ['N#CC=Cc1ccncn1'], ['CCN(CCN)c1ccncn1'], ['CCNC(C)CNc1ncccc1C#N'], ['NN1CCC2(CC1)CC2'], ['Cc1ccnc(OCCCC(C)CN)c1'], ['CON(c1ccncc1C#N)C(C)C'], ['CNCCCCc1ccc2c(c1)CCCN2C'], ['CCNC1(C#N)CC2CCC(C1)S2'], ['COC(=O)c1ccc(C(C)SC)cc1'], ['N#Cc1ncccc1N1CCC(=O)C1'], ['CNCCSCc1cncc(C#N)c1'], ['NC1=NC(=O)C(=CC(=O)O)S1'], ['C=C(CC)CC(C)C(O)c1ccccc1'], ['N#CCC(CN)c1cncnc1']]\n"
          ],
          "name": "stdout"
        }
      ]
    },
    {
      "cell_type": "code",
      "metadata": {
        "id": "JCknU2fKZFJ5",
        "colab_type": "code",
        "colab": {}
      },
      "source": [
        "# The final_list which contains the name of chemical compounds in SMILES format is being converted from 2D to 1D.\n",
        "from itertools import chain \n",
        "final_name = list(chain.from_iterable(final_test)) "
      ],
      "execution_count": 0,
      "outputs": []
    },
    {
      "cell_type": "code",
      "metadata": {
        "id": "6JYqCy24Zn4y",
        "colab_type": "code",
        "colab": {
          "base_uri": "https://localhost:8080/",
          "height": 54
        },
        "outputId": "90fdfa5a-062e-4caa-e448-77b200cd6756"
      },
      "source": [
        "print(final_name)"
      ],
      "execution_count": 72,
      "outputs": [
        {
          "output_type": "stream",
          "text": [
            "['Cc1ccc(C2CNCCN2C)cc1', 'CCOC(CO)c1ccccc1', 'CC(=O)Nc1cnn(C)n1', 'CCC(C)NCc1ncccn1', 'CC(C)=C1CC(N)C1', 'CN1CCCc2cc(CON)ccc21', 'CC12CNCC1CN(CC(N)=O)C2', 'CCNC(C)C(C)c1cnccc1C', 'CCN(Cc1ccccc1)C(C)CCCNC', 'CCC(=O)c1cc(C)ccn1', 'C=CC(O)c1cc(C)ccn1', 'C#CCCOc1cnccc1C', 'Cn1nc2ccccc2c1S(N)(=O)=O', 'Cn1cnn(CC(N)=O)c1=O', 'CC(NCCSc1ccccc1)c1ccncc1', 'Cc1ccsc1-c1ccc(O)nc1', 'N#Cc1ncccc1N1CC2CC1CN2', 'N#Cc1cnccc1SCC(N)=O', 'N#Cc1ccc(C2NCCCCC2=O)cn1', 'CC(C)C(C)Sc1ccc(C#N)cn1', 'Cc1ccnc(C=CCCN)c1', 'CCOC(CC)C(=O)c1cnccc1C', 'Cc1ccncc1C(O)CNCC(C)C', 'CS(=O)(=O)c1ncc(N)cn1', 'OCC(O)CCSCc1ccccc1', 'COC(=O)CNCc1cc(C)ccn1', 'CCOC(c1ccccc1)C(CC)NN', 'Cc1ccncc1C(=O)CCCN(C)C', 'C=CCCSCCNc1cc(C)ccn1', 'CCNC(=S)NNC(=O)Cc1ccccc1', 'OC(CCCc1ccccc1)c1cccnc1', 'CC(=O)CC(C)c1cnccc1C', 'CN1CCC(O)(c2ccoc2)CC1', 'Cc1ccnc(NC(=O)C#CCN)c1', 'N#Cc1cnccc1NCCCO', 'CCSCc1cncc(C#N)c1', 'NC1=CCOC1=O', 'CNC(CSC1CCCCC1)Cc1cccnc1', 'COC(=O)c1ccc(C(C)C=O)cc1', 'CC(=O)CC(O)c1cnccc1C', 'CCCNCc1ccccc1S(N)(=O)=O', 'N#Cc1nccnc1N1CCCOCC1', 'CCC(CC)Oc1ncccc1C#N', 'CC(C)(C)C(C)(N)c1ccccc1', 'CN(C)NCc1ccccc1', 'NC12CCCC1CNC2', 'C(=Cc1ccccc1)CNCc1cccnc1', 'CCNCCNc1ncccc1C#N', 'CC(C)OCc1ccc(C#N)cn1', 'NC1Cc2csnc2C1', 'Cc1ccsc1C1NCCCCC1O', 'N#CCCNCc1cncnc1', 'COC(=O)c1ccccc1C#CCO', 'N#CC1CN(CCN)C(=O)O1', 'CC(CCO)Nc1ccc(C#N)cn1', 'NC1CC2(CCNC2=O)C1', 'C#CC(CO)NCc1cnccc1C', 'CN1CCCc2cccc(OCC#N)c21', 'NNC(c1ccncc1)C1CCCCC1', 'C#CCCSc1ncccn1', 'Cc1ccncc1C(C)(N)C(C)C', 'NS(=O)(=O)c1ccc(SCCO)cc1', 'Cc1ccnc(CC(=O)C(=O)O)c1', 'CN1CC2CCN(CC(N)=O)C2C1', 'O=C=NCc1ccncn1', 'Cc1cscc1C1CC(O)CN1', 'O=C(CC1CCCCC1)NC1CCCNCC1', 'CC(O)Cc1cncnc1', 'CCC(CC)Oc1ccc(C#N)cn1', 'Cc1ccnc(NN=CC(C)C)c1', 'COC(CNCCCOCc1ccccc1)OC', 'N#Cc1ncccc1C1CCCCC1', 'NC1COC2COCC12', 'COC(=O)c1ccccc1C=CCCO', 'CCCC(C)Sc1ncccn1', 'CC(C)CC(=O)NCCCc1ccccc1', 'CCC(CC#N)Nc1ccc(C#N)cn1', 'CCCC(C)C(=O)c1cc(C)ccn1', 'CCOc1cncnc1', 'NCCCCC(O)c1ccccc1', 'N#CCNc1ccncc1C#N', 'N#Cc1cnccc1NCC=CCN', 'CCCOCC(NC)c1cc(C)ccn1', 'Nc1ccc(S(N)(=O)=O)cc1', 'c1cncc(OCCNC2CCCCC2)c1', 'CSCC(C)CNc1ncccc1C#N', 'CC(N)CNc1cncnc1', 'CC(C)(N)CNC(=O)Cc1ccccc1', 'NC(CO)c1ccncn1', 'CC(=O)OCSc1ncccn1', 'CN1CCCc2cccc(C=O)c21', 'CCNc1cc(NCC(C)(C)O)ccn1', 'CCC(CC)CC(=O)COCc1ccccc1', 'C=CCCC(=O)OCc1ccccc1', 'CN(CCCO)C(=O)Oc1ccccc1', 'CSCCC(=O)c1cncnc1', 'CC(C)CCCC(O)CCOCc1ccccc1', 'COc1ccncc1C#N', 'CNc1nc(N)ncc1N', 'c1ccc(CONCCNc2ccncc2)cc1', 'Cc1ccncc1C(=O)NCC=CCN', 'CSCCCCNCCOCc1ccccc1', 'CCCCC(Nc1ccccc1)C(N)=O', 'CC(C(=O)O)c1cncnc1', 'CCOC(=O)C#Cc1cc(C)ccn1', 'CCNc1sccc1C#N', 'NC1CCC12CCCO2', 'CCSc1ccc(C(=O)OC)cc1', 'CN(c1ccncc1C#N)C(C)(C)CO', 'Cc1ccncc1NC(=S)NC(C)C', 'O=C(CC1C=CCC1)Nc1cccnc1', 'CC(O)(CN)CCCCSc1ccccc1', 'CCC(CC)C(=O)c1cc(C)ccn1', 'CCC(C)NCCC(=O)NCc1ccccc1', 'CCOC(=O)CNc1cc(C)ccn1', 'CNC(CN)c1ccncn1', 'C#CCCC(N)c1cncnc1', 'NN=Cc1ccc(S(N)(=O)=O)cc1', 'CNCCSc1ccncn1', 'CN=C1SC(CC(N)=O)C(=O)N1C', 'C=CCCC(=O)Nc1ccc(C#N)cn1', 'CC(CO)CN(C)c1ccncc1C#N', 'CC(CN)Sc1ncccc1C#N', 'CCNc1cc(OC(C)CC)ccn1', 'CN(C)CCCCNc1ccc(C#N)cn1', 'CC(C)C(CN)Nc1ccc(C#N)cn1', 'Cc1ccnc(NC(=O)CCCCO)c1', 'CN(CCN)c1cncnc1', 'N#Cc1ncccc1C1CNCCOC1', 'CCNC(C)C(=O)Nc1cc(C)ccn1', 'CCNc1cccc(C(N)=S)n1', 'C#CCCCOc1ccnc(NCC)c1', 'Cc1ccncc1CNCCCCC#N', 'c1cc(CNC2CCCCC2)ccn1', 'Cc1ccncc1OCC(C)O', 'Cc1ccncc1NCC(C)C(C)C', 'C=CCC(=O)C(O)c1cnccc1C', 'C=CCC(=O)NCC(N)c1ccccc1', 'C=Cc1ccccc1S(N)(=O)=O', 'CCCNCCOCCN(C)Cc1ccccc1', 'C=CCc1cc(C)ccn1', 'CC(Sc1ccncc1C#N)C(=O)O', 'Cc1ccncc1CNCC(C)C', 'CC(N)C(C)(O)c1cncnc1', 'C#CCCC(O)CNc1cc(C)ccn1', 'NC(CSc1ccccc1)Cc1ccncc1', 'CC(C)(N)c1ccncn1', 'NC1CCS(=O)(=O)C1', 'CCCCC(O)(CC)Cc1ccccc1', 'CCC=CCNc1ccncc1C#N', 'CCCCC(NC)c1cnccc1C', 'CCNC(=S)Nc1cncnc1', 'CC1CC2(CCC2)CN1CC(N)=O', 'Cc1ccncc1NC(=O)C=CCN', 'CN1CCCc2cccc(N)c21', 'CCNc1ncnc(O)c1N', 'CNC(=O)NCc1cncc(C#N)c1', 'CCNC1(C#N)CC2CNC(C2)C1', 'CC(CCO)Sc1ccncn1', 'CCN(CC)Cc1cc(C)ccn1', 'Cc1ccc(SCC2CNCCN2C)cc1', 'CCN(CCN)C(=O)COc1ccccc1', 'CC(C)C(N)CC(O)Cc1ccccc1', 'CC(ON)c1ccccc1S(N)(=O)=O', 'C#CCCCNc1ccncc1C#N', 'Cc1ccncc1OCCC(C)CCS', 'CC(C)=CCNCc1cncc(C#N)c1', 'CNCCC(C)CCc1ccccc1', 'CC(O)C(C)Sc1ccncn1', 'CN1c2ccccc2CCC1C(=O)O', 'Cc1ccncc1OCCCC(C)C', 'OC1CCN(CC2CCNCC2)CC1', 'O=C(CC1CCC1)Nc1cccnc1', 'NC(c1ccncc1)C1CCCCC1', 'COc1ncc(N)c(N)n1', 'CCCNc1cncc(N2CCCOCC2)c1', 'Cc1ccncc1C(=O)C(C)C(C)C', 'C=C(CNCC)c1ccccc1', 'CC(C)(C)CCC=C1CC(N)C1', 'CCNc1cccc(NCCSSC)n1', 'c1ccc(CCNc2cccnc2)cc1', 'COCCN(C)C(=O)NCc1ccccc1', 'CN(C)CCCSc1ccncc1C#N', 'CCC(C)C(N)c1cc(C)ccn1', 'NC(Cc1ccccn1)c1ccccc1', 'OCCSCc1ncccn1', 'CCC(C)C(C)=C1CCC(N)C1', 'N#Cc1ccc(NCCCC(N)=O)nc1', 'CCNc1ccnc(C#N)c1', 'N#Cc1ccc(C(=O)N=C=S)nc1', 'Cc1ccncc1C(C)(C)CCN', 'NCCNCc1cncnc1', 'CCC(CC(C)c1ccccc1)C(C)O', 'CC(C)(CSCc1ccccc1)C(=N)N', 'CSCCCSCC(O)c1ccccc1', 'COC(=O)c1ccc2c(c1)CCCN2C', 'N#Cc1cccnc1OCCCO', 'O=C(NCCO)c1ccncn1', 'N#Cc1cccc(C2NCCCCC2=O)n1', 'CN(C)Nc1ccncn1', 'CCCC(C)(N)c1ccncn1', 'CCCN(CCCN)c1cc(C)ccn1', 'OC(CNC1CCCCC1)c1cccnc1', 'Cc1ccccc1S(N)(=O)=O', 'NC1Cc2ccsc2C1=O', 'CN1CCC(N)c2ccccc21', 'CC(CCO)CCNC(=O)c1ccccc1', 'NC(Cc1cccnc1)CC1CCCCC1', 'NC1=NC(=O)NC1', 'CC1c2ccsc2CCN1S(N)(=O)=O', 'CC(C)(CON)c1cncnc1', 'NC(=O)Cc1ccncn1', 'CC(CN)SCc1cncc(C#N)c1', 'CCC(O)C(C(=O)O)c1ccccc1', 'Nc1ccon1', 'CCCNC(c1cnccc1C)C(C)(C)C', 'CC(C#N)CNC(C)Cc1ccccc1', 'CC=CCNc1ccncc1C#N', 'CCNC(CCOCC)c1cc(C)ccn1', 'CC(C)SC(C)(C=O)c1ccccc1', 'Cc1ccnc(NCCOC(C)C)c1', 'NC1=NC2(CO1)CSC2', 'OC1CCNC(Cc2ccsc2)C1', 'N#Cc1cc(N2CCCCCCC2)ccn1', 'CCNc1cccc(NC(C)COC)n1', 'CCCCC(=O)c1cnccc1C', 'CN(C)CCNc1ccncn1', 'N#Cc1cc(C2CCSC2)ccn1', 'Cc1ccncc1NCC(C)CC(C)C', 'CCNc1cccc(NCCCOC)n1', 'CC(C)(O)C=C1CC(N)C1', 'CCN(CC(C)O)c1ccncc1C#N', 'CC(C)(N)CCNc1ccc(C#N)cn1', 'OC1CCN(CCCc2cccs2)CC1', 'Nn1cncn1', 'CCC(N)CSc1ncccn1', 'NCCCCC(=O)Cc1ccccc1', 'CCC(CNc1cc(C)ccn1)N(C)C', 'CCC(O)CCNc1ccc(C#N)cn1', 'CC(C)(C)C(C#N)CNc1ccccc1', 'CC(C)(N)CCOc1ncccc1C#N', 'CCC(C)C=C1CCCC(N)C1', 'C#CCCNc1ccncc1C#N', 'NCCCCNc1ccncn1', 'C#CCSCc1ncccn1', 'CC(N)C(C(=O)O)c1ccccc1', 'Nc1cnsc1', 'Cc1ccncc1CNCCC(C)(C)O', 'CCC(O)c1cnccc1C', 'C=CC(=O)NCc1cnccc1C', 'COC(=O)C(C#N)=Cc1cnccc1C', 'C=C(C)CNc1ccccc1C(=O)OC', 'COCCC(C)C(O)c1cnccc1C', 'CCCC(N)C(=O)N(C)c1ccccc1', 'NS(=O)(=O)c1ccccc1C=CCO', 'Cc1ccncc1C(N)CCC(C)C', 'C=CC=CCCc1cncnc1', 'C=C(C)CCOc1ccnc(NCC)c1', 'CC(=O)Nc1ccc(C)nn1', 'CCNc1cccc(CSCC(=O)OC)n1', 'CN=C(NC)SCc1cncc(C#N)c1', 'CCOC(=O)c1cc(C)ccn1', 'CS(=O)(=O)c1ccc(C#N)cn1', 'NC1CCn2nncc21', 'NS(=O)(=O)c1ccc(CCS)cc1', 'CCC(CC)C(C)Nc1cc(C)ccn1', 'Cc1ccncc1C(=O)C(N)CC(C)C', 'N#CCc1cncnc1', 'CC(C)(CO)SCc1cncc(C#N)c1', 'CCC(OC)C(NN)c1cnccc1C', 'CCc1cnccc1C', 'COC(=O)c1ccccc1C(O)C(C)C', 'CCCONC(N)=NCc1ccccc1', 'CCCCCC(N)CSc1ccccc1', 'C#CCNC(=O)NCCSCc1ccccc1', 'CC(O)(CCN)CSCc1ccccc1', 'CCNC1(C#N)CCC2CC21', 'COC(OC)C(C)NCc1cnccc1C', 'CCC(N)CC=Cc1ccccc1', 'C=CC(CO)Nc1ncccc1C#N', 'CCc1ncc(N)c(C)n1', 'COCCSCc1ncccn1', 'OC1CCN(Cc2cscn2)CC1', 'CCOC(=O)NCC=Cc1ccccc1', 'CC(C)(C)c1ccncc1C#N', 'CC(=O)Nc1cnc(C)s1', 'COCCCNc1ccc(C#N)cn1', 'CC(=O)NC1(C)CC=CCC1', 'CSCc1ccccc1', 'NN=C(N)c1ccncn1', 'C=CC(NCC)c1cnccc1C', 'CC(N)(CC#N)c1cncnc1', 'CCC(C)OCC(=O)Nc1cnccc1C', 'CNc1ncccc1C#N', 'Nc1ncc2n1CCC2', 'Cc1ccc(CC(N)=O)s1', 'CN1CCCc2c(CN=C=O)cccc21', 'C=C(C)CCCNc1ncccc1C#N', 'CC(CCO)SC(CC#N)c1ccccc1', 'CCNC(CC(C)CC)c1ccccc1', 'CCNc1cccc(COC(C)CC)n1', 'COCCCC(NN)c1cnccc1C', 'CN1CCC(O)(c2ccco2)CC1', 'CCCC(C)=C1CCCCC1N', 'CCNc1cncc(N2CCCOCC2)c1', 'CCC(=O)c1cnccc1C', 'N#CC(NCc1ccncc1)C1CCCCC1', 'CCCNc1cccc(S(N)(=O)=O)c1', 'CCCC(C)=C1CCCC1N', 'CCNC(N)=NCCSc1ccccc1', 'COC(=O)c1ccc(CC(O)CN)cc1', 'N#Cc1ccccc1N1CCOCC1', 'NC1CCCNCC1', 'COCCC(C)(C#N)c1ccccc1', 'C=CCC(C)Nc1ccc(C#N)cn1', 'CSCCC(C)Nc1ccncc1C#N', 'CC(=O)NC1(C)CCCCCC1', 'NC1CSCCC12CC2', 'CCCN(CC)C(CN)c1cnccc1C', 'CC(C(NN)c1ccccc1)N(C)C', 'CC(CO)c1cccc2c1N(C)CCC2', 'C#CCCCC(=O)COCc1ccccc1', 'N#Cc1ncccc1C1NCCNC1=O', 'CCC(N)CCC(=O)c1cnccc1C', 'Cc1ccncc1OCC(C)(C)CO', 'COC(C)CCNc1cc(C)ccn1', 'NC1=CCNN1', 'CCN(CCC(=O)O)c1ncccc1C#N', 'OC1(Cc2ccsc2)CCCC1', 'NC1C2C=CSC12', 'C#CC(C)OCc1cncc(C#N)c1', 'C#CC(C)=Cc1ccccc1', 'COCCCC(C)Nc1cnccc1C', 'O=CCc1ncccn1', 'CC(CN)CNC(C)c1ccccc1', 'CCOC(C)CNc1ccc(C#N)cn1', 'CCCCC(C)C=C1CC(N)C1', 'CCOc1ncc(N)c(N)n1', 'CC#CCSc1ccc(C#N)cn1', 'CCNC(C)CNCCCOCc1ccccc1', 'CC(=O)Nc1nc(C)cs1', 'CCCCNCC(OC)c1ccccc1', 'CC(C)CC=C1COCC1N', 'O=C(O)C#CCCOc1ccccc1', 'C=C(C(=O)O)c1cnccc1C', 'CCCC(C)CC(=O)c1cnccc1C', 'CC(CC#N)c1cccc2c1CCCN2C', 'CC(=O)NC1CCCC(C)C1', 'Cc1ccnc(NC(=O)CC(C)N)c1', 'NC12C3C4C5C3C1C5C42', 'CNC(C(N)=O)c1cncnc1', 'CCCC(NC)C(C)(O)c1ccccc1', 'Cc1ccncc1C(=O)NC(CN)CN', 'Cc1cccnc1CC(N)=O', 'CN1CCC(O)(C2=COCCC2)CC1', 'CC(Cc1ccccc1)NC(CO)C(C)C', 'NCCCNc1ccncn1', 'CC#CCCNC(=O)C#Cc1ccccc1', 'CCN(C)C(=O)c1ncccn1', 'CCNC(c1ccncc1)C1CCCCC1', 'S=C(NCc1ccccn1)Nc1ccccc1', 'CC=CC(N)c1ncccn1', 'CCCC(NN)c1cncnc1', 'CCC(C)(CO)CNc1cnccc1C', 'CCCCCC(COCc1ccccc1)NN', 'C=CCNCc1cc(C)ccn1', 'CCC(C)C(=O)c1cncnc1', 'CC(C)NCCCC(C)c1ccccc1', 'CNC(CCOC(C)C)c1cc(C)ccn1', 'C=C(C)CCCNc1cc(C)ccn1', 'CC(=O)Nc1nc(C)co1', 'COC(=O)CC(=O)NCc1ccccc1', 'COC(=O)c1ccc(CON)cc1', 'NCCCCNc1ncccn1', 'CNCc1ccccc1S(N)(=O)=O', 'Cc1ccncc1NCC(C)N', 'CCNCCCc1cncnc1', 'CNC(=O)CNc1ncccn1', 'C#CCNCc1ncccn1', 'CCS(=O)(=O)CCCNc1ccccc1', 'CCNc1cc(OC)ccn1', 'Cc1ccnc(NCCOCCCO)c1', 'Cc1ccnc(NC(=O)C(=O)O)c1', 'C=CCC=C1CC(N)C12CCC2', 'Cc1ccc(CNCC2CNCCN2C)cc1', 'CC(N)C(=O)c1cncnc1', 'COC(=O)c1ccccc1CNCCC(C)C', 'N#Cc1ccc(N2CC3CCC2C3)cn1', 'OCC(Nc1ccccc1)c1cccnc1', 'COC(=O)c1ccccc1C(C)SC', 'CCOCC(=O)Nc1ccc(C#N)cn1', 'Nn1cc2sccc2n1', 'NC12C=CC(CC1)C2', 'Cc1ccncc1NC(=O)C(C)CS', 'CCCCC(N)c1cncnc1', 'NC(=O)CNc1ncccn1', 'CCN(CC)CCC(=O)c1cnccc1C', 'CC(C)CC(=O)c1ncccn1', 'c1cncc(CNCCCOC2CCCCC2)c1', 'CCCN(C)c1ncccc1C#N', 'Cc1ccncc1OCCC(C)(C)O', 'N#Cc1ccccc1NN1CCOCC1', 'CN1c2ccccc2CCC1CC(=O)O', 'C#CCCC(O)Cc1ccccc1', 'CCNC1(C#N)CCCCCCC1', 'C#CCCNc1ncccc1C#N', 'CN(CCS)Cc1ncccn1', 'CCN(CCO)C(=O)NCc1ccccc1', 'CCC(CN)CN(CC)Cc1ccccc1', 'C=C(COCC)C(O)c1cnccc1C', 'O=C(O)CCNc1ncccn1', 'NCCC(c1ccccc1)c1cccnc1', 'N#Cc1ncccc1N1CC=CCC1', 'CC(C)CCCNc1ccncc1C#N', 'Nc1noc2c1CCO2', 'C=CCSCCC(N)c1ccccc1', 'N#Cc1ccc(-n2nccn2)cn1', 'C#CCC(C)(C)Nc1ccncc1C#N', 'Cc1ccncc1CSC(C)(C)C', 'Cc1ccccc1CCC1CNCCN1C', 'CNC(=N)NC(CO)c1ccccc1', 'CCC(C)(C)COc1cnccc1C', 'CC(C)(C)C(C)(N)Cc1ccccc1', 'CNCC(Sc1ccccn1)c1ccccc1', 'CN1CCCc2ccc(C(O)C#N)cc21', 'CC(=O)Nc1ncc(C)cn1', 'COCC(N)Cc1ncccn1', 'CON(C)c1ccncc1C#N', 'C=CCSCc1cccnc1NCC', 'CNCC(C)Oc1ccc(C#N)cn1', 'NC1=NCCCO1', 'CN1CCC(Oc2cccnc2)CC1', 'CC(=CCN)c1ncccn1', 'C=C(CC)CNc1ncccn1', 'N#Cc1ccc(C2NCCNC2=O)cn1', 'CCC(C)(C)CNCc1cnccc1C', 'COCCSc1ncc(N)cn1', 'CC(NS(C)(=O)=O)C1CCC1', 'CCCC(C)(N)c1cnccc1C', 'Cc1ccncc1CN(C)C(N)=O', 'COC(=O)C(C)CSCOCc1ccccc1', 'C#CC(C)(C)Oc1cccc(NCC)n1', 'CCNc1nnccc1C#N', 'N#Cc1ccc(NCCN2CCOCC2)cc1', 'CCOC(=O)CC(C)c1cc(C)ccn1', 'NS(=O)(=O)c1ccc(OCCO)cc1', 'O=C1CCCC1CN1CCC(O)CC1', 'CC(=O)NC1CCSC(C)C1', 'Cc1ccsc1C1(O)CC2OCCC21', 'CCNc1cccc(N(C)CCCOC)n1', 'O=C1CCCCCC1CN1CCC(O)CC1', 'NCC(S)c1cncnc1', 'CC(N)C(C)Nc1cncnc1', 'C#CCCC(C(=O)O)c1ccccc1', 'CCCCNC(O)COc1ccccc1', 'C#CCC(O)CNc1ccc(C#N)cn1', 'CC(O)C(C)c1cncnc1', 'Cc1ccncc1C(=O)C(O)CCN', 'CC12CCCCC1CN2S(N)(=O)=O', 'O=C(CCCO)c1cncnc1', 'C=CCCC(=O)c1ccncn1', 'Cc1ccnc(NCC(C)N(C)C)c1', 'CC(C)CN(C)c1ccncc1C#N', 'C=CC(=O)NCCCCNOCc1ccccc1', 'CCC(C)C(O)c1cncnc1', 'CNCCCCNc1ccccc1C(=O)OC', 'Cc1ccncc1C#CCNC(=O)CN', 'COCCNC(c1ccccc1)c1ccccn1', 'Cc1ccnc(C(O)C(=O)O)c1', 'CN1CCCc2ccc(C(N)C#N)cc21', 'O=C=NCC=Cc1ccccc1', 'COCCN(C)c1ccncc1C#N', 'Cc1ccncc1C(C)CCN', 'N#Cc1ccc(N2CCCNCC2)cn1', 'O=C(CCC1CCCCC1)Nc1ccccn1', 'COC(=O)c1ccc(CCCS)cc1', 'Cc1ccncc1C=C(N)C(=O)O', 'NC1=NC(=O)OC12CSC2', 'NCC(N)c1cncnc1', 'COC(c1cnccc1C)C(C)(C)O', 'CN1CCCc2cccc(CCC=O)c21', 'Nc1nc2n(n1)C(=O)CS2', 'CN1CC(=O)NC(=O)C1CC(N)=O', 'CCCC(NCC)c1cnccc1C', 'C#CC(O)CCOCc1ccccc1', 'C#CCN(CC=O)Cc1ccccc1', 'CCC(CSC)Nc1ncccc1C#N', 'CCC(N)c1ncccn1', 'OCC(O)c1ncccn1', 'CCON(CC)C(=N)c1ccccc1', 'N#CC(C#N)c1cncnc1', 'O=C(COc1ccccc1)N1CCNCC1', 'NN1C(=O)C=CC1=O', 'CC(N)C1CCN(C#N)C1', 'N#Cc1ccccc1C1CNCCO1', 'CCNCCNc1ccncc1C#N', 'COC(=O)CCNC(=O)Nc1ccccc1', 'COCCc1cc(C)ccn1', 'CCNC(=O)NCc1cc(C)ccn1', 'Oc1nnc(Cc2ccsc2)o1', 'O=C(NCCc1ccncc1)C1CCCCC1', 'N#Cc1cc(-c2nnco2)ccn1', 'CCC(CC(=O)O)Nc1ncccc1C#N', 'CSCCSC(C)c1ccccc1', 'COCC(CO)Nc1ccc(C#N)cn1', 'OCc1ccncc1N1CCCOCC1', 'CCCSCCNc1ccc(C#N)cn1', 'CSCC(=O)c1cnccc1C', 'CCc1ccccc1S(N)(=O)=O', 'CC(CO)Nc1ncccn1', 'CC(=O)NC1CCC(=O)N(C)C1=O', 'OC1CCN(CC2CCC=CCC2)CC1', 'NCC(O)(c1ccncc1)C1CCCCC1', 'N#Cc1cccnc1N', 'COC(=O)c1ccccc1', 'CC(CN)C(=O)N(C)Cc1ccccc1', 'CN(c1ncccc1C#N)C(CO)CO', 'C=C(C)CCNC(C)c1cnccc1C', 'CCNc1cc(C(=N)N)ccn1', 'COC(C)C(C)NCc1cc(C)ccn1', 'CNCCNC(=O)Nc1ccccc1', 'CCOC(=O)CCNC(=O)c1ccccc1', 'CCCCN(C)c1ccncc1C#N', 'CCOCc1ncc(N)c(O)n1', 'OC1CCN(c2cccs2)CC1', 'C#Cc1ccc(NCC)nc1', 'NC(=O)c1ccccc1', 'CCCNC(=O)c1cccc(NCC)n1', 'CC(=O)Nc1cnoc1C', 'CC(C)(N)CNc1ccncn1', 'CC(C)OCC(N)(CO)c1ccccc1', 'CNCC(=Cc1cnccc1C)C(C)C', 'CC=CCNc1ncccc1C#N', 'CCNCc1ccc(NCC)nc1', 'N#Cc1nc(N)ncc1N', 'C#CCONCc1ccncn1', 'CC(CO)Nc1ncc(N)cn1', 'CC(C)N(C#N)Cc1ccccc1', 'NCCNc1ncccn1', 'CC(=O)Nc1ccoc1C', 'CSSCCNC(C)c1cnccc1C', 'NC1=NC(=O)NC12CNC2', 'CN(CC=O)c1ncccn1', 'N#Cc1ccc(-c2ccccc2)cn1', 'CCN(CCC#N)C(=O)Nc1ccccc1', 'COc1ncnc(S)c1N', 'CC(C)C(c1ccccc1)C(C)N', 'CN(Cc1ccccc1)c1ccccn1', 'Cc1ccsc1C1(O)CCCCC1=O', 'Cc1cn(CC(N)=O)ccc1=O', 'CCCNC(=O)Nc1ccc(C#N)cn1', 'O=C(O)C1CCCN(Cc2ccsc2)C1', 'NC1CC(=O)C1', 'C=C(C)CNC(C)COc1ccccc1', 'CNC(=O)CNc1cc(C)ccn1', 'N#Cc1ccc(C2COCCN2)cc1', 'CC(C)CC(N)c1ncccn1', 'N#Cc1cnccc1NCC(=O)O', 'CCOCc1ncc(N)cn1', 'Cc1ccnc(CNC(=S)NN)c1', 'O=C(CCNCCO)c1ccccc1', 'NC(Cc1cccnc1)c1ccccc1', 'CCCCCCN(CCN)Cc1ccccc1', 'CCOC(=O)C(N)c1cc(C)ccn1', 'CC(C)CNc1ncc(N)cn1', 'CCCC(C#N)C(=O)Nc1ccccc1', 'C=C(C)CC(NCC)c1cc(C)ccn1', 'CCC(C)(CNc1cc(C)ccn1)OC', 'C=CCOc1ncccc1C#N', 'C=CC(C)Nc1ncccn1', 'CCCC(N)CC(C)c1ccccc1', 'C=CCC(N)C(=O)c1cnccc1C', 'N#Cc1cc(CCN)no1', 'CCNc1cccc(CN(C)CC)n1', 'Cc1ccnc(OCCN)c1', 'CC(=O)c1ccc2c(c1)CCCN2C', 'NNCc1ccc(S(N)(=O)=O)cc1', 'COC(=O)c1ccc(C(N)CSC)cc1', 'N#Cc1cc(CCN)on1', 'CCON(C)C(CC#N)c1ccccc1', 'c1cc(CC2CCCCC2)ccn1', 'NNC(COCc1ccccc1)c1cccnc1', 'C=C(CC)CC(N)c1cnccc1C', 'CC(N)C(O)Cc1ccncn1', 'CC(O)(C(=N)N)c1cncnc1', 'NN1C(=O)CSCC1=O', 'CC(C)(C#N)CNc1ncccc1C#N', 'CCC(CC)COc1ccncc1C#N', 'NCC(OCc1ccccc1)c1ccncc1', 'NCCNC(=O)c1ccncn1', 'O=C(NCCc1ccncc1)Nc1nncs1', 'NCCNCCCOCc1ccccc1', 'NCCN(Cc1cccnc1)C1CCCCC1', 'CC(C)(CO)Cc1ncccn1', 'CC(=O)Nc1nc(C)ns1', 'O=C(NCc1ccncc1)NC1CCCCC1', 'CN(CCNC1CCCCC1)Cc1cccnc1', 'CC(C)(C)NCC(=O)Cc1ccccc1', 'N#CCc1cc(CN2CCCCC2)cs1', 'CCCNC(C(=O)O)c1cnccc1C', 'N#Cc1ccc(CCN)cc1', 'N#Cc1cncc(C#CCCCN)c1', 'CCC(c1ccccc1)S(N)(=O)=O', 'CC(C)SCCNc1ccc(C#N)cn1', 'N#CC(NC1CCCCC1)c1ccncc1', 'CC(CO)SCc1cncc(C#N)c1', 'NN1C(=O)C2CCCC2C1=O', 'Cc1ccsc1C1(O)CCCNC1', 'CC(CO)Sc1ncc(N)cn1', 'CNC(CSc1ccccn1)c1ccccc1', 'CCOC(CN)CCN(C)Cc1ccccc1', 'CC(CCC(N)=S)OCc1ccccc1', 'CCC(NC(=O)c1ccccc1)C(C)C', 'CC(Cc1ccccn1)NCc1ccccc1', 'CN1CCCN(CC(N)=O)S1(=O)=O', 'CCCCC(O)c1cncnc1', 'N#Cc1ccccc1N1CCCOCC1', 'Cc1cscc1C1(O)CCNC1', 'CC#CCNCC(C)Oc1ccccc1', 'Cc1cscc1-c1nccc(O)n1', 'Cc1ccnc(N(C)CC(N)=O)c1', 'CCCCCSCc1cncc(C#N)c1', 'COCC(=O)c1ccncn1', 'CCNCCN(C)CCCOCc1ccccc1', 'COCCNC(=N)c1cnccc1C', 'CCC(=O)NCc1ncccn1', 'Cc1ccncc1CNCC(C)N(C)C', 'N#CNC(=O)c1cncnc1', 'CCC(C)CNCCN(C)Cc1ccccc1', 'CC(N)Cc1ccccc1S(N)(=O)=O', 'CC#CCCC(NC)c1cnccc1C', 'CNC(=O)Nc1ccccc1C(=O)OC', 'CC(=O)NCC(=O)Nc1cnccc1C', 'COC(=O)c1ccccc1OCC(C)O', 'CCC(O)(CC)C(=O)c1cnccc1C', 'Nc1cncnc1NCC(=O)O', 'CSc1ncnc(S)c1N', 'Cc1ccncc1C(=O)OCC#N', 'CCC(CC)=C1CCC(N)C1', 'Cc1ccnc(NCCCC(N)=O)c1', 'CC(=O)NC1(C)CC=CC1', 'NC1CCCC1', 'COC(=O)CNCc1cncc(C#N)c1', 'Cc1ccnc(CNCCSC(C)C)c1', 'CCOCCNc1ccncn1', 'C=CCCCC(O)CCNCc1ccccc1', 'NCCC(c1ccccc1)c1ccccn1', 'CC(Sc1ncccn1)C(=O)O', 'CC(C)CNC(=O)c1ncccc1C#N', 'Nc1nsc2ncsc12', 'NC(c1ccsc1)C1(O)CCNCC1', 'O=C(NCCc1ccncc1)NC1CCOC1', 'CCCNC(=N)c1ncccn1', 'CNC(C)C(=O)OCc1ccccc1', 'CCNc1cc(CSC(C)CC)ccn1', 'CC(=O)Nc1ccnc(C)c1', 'CCNc1cccc(C(=N)N)n1', 'CC(CN)Cc1cccc2c1N(C)CCC2', 'Cc1ccncc1CN(C)C(C)CN', 'CN1c2ccccc2CCC1CN', 'CN(C)CCNc1ncccc1C#N', 'Nc1onc2c1COC2', 'N#Cc1ccc(NCC=CC(=O)O)nc1', 'N#Cc1ccc(C2CNCCOC2)cn1', 'C=C(C)CC=C1CC(N)C1', 'COC(CCCN)c1ccccc1', 'N#Cc1ccc(N2CCC3CC32)cn1', 'CC(C)(C)CNCc1ccc(C#N)cn1', 'N#Cc1ccccc1CN1CCOCC1', 'CON(C)c1ncc(N)cn1', 'CN1CCCc2cc(C=CCN)ccc21', 'CCNC(Cc1cccnc1)C1CCCCC1', 'CNC(=O)CC(C)Nc1cnccc1C', 'CCC(C)NC(=O)N(C)c1ccccc1', 'O=C(NCCN1CCC1)NC1CCCCC1', 'CC(=O)Nc1nnnn1C', 'OC1CNC(Cc2ccsc2)C1', 'CC(=O)Nc1cscc1C', 'CCOC(=O)CC(C)(C)c1ccccc1', 'CN1CCC(CCCN)c2ccccc21', 'COC(=O)c1ccccc1C(CO)OC', 'CCNc1cccc(SCCOC)n1', 'CN1CCN(CC(N)=O)CCC1=O', 'CCNc1ncccc1CSCC(C)C', 'CC(Nc1ccccn1)C1CCCCC1', 'C#CC(CC)NCc1cnccc1C', 'O=C(COc1ccncc1)Nc1ccccc1', 'CC(CN)Cc1cncnc1', 'CC(C(=O)O)c1ccncc1C#N', 'NC1CC(=O)NC1=O', 'Cc1ccncc1NC(=O)C=CC(=O)O', 'COCCCCNCc1cnccc1C', 'OC(CNCc1ccccc1)Cc1ccccn1', 'NC1Cn2ccnc2C1=O', 'CCN(CC(C)C)c1ncccc1C#N', 'C=C(CC)CC(=O)c1cc(C)ccn1', 'CN1CCCc2ccc(C(N)=O)cc21', 'CCC(C)(CC)C(NN)c1ccccc1', 'CCC(C)(C)NC(=O)c1ccccc1', 'CSCC(C)C(O)c1cnccc1C', 'CCSc1cccc(S(N)(=O)=O)c1', 'NC1CCC(=O)OC1=O', 'Cc1ccncc1OCCCC(=O)NN', 'CCOC(=O)Nc1ccc(C#N)cn1', 'CNCc1ccc(S(N)(=O)=O)cc1', 'N#Cc1cccnc1NC(CN)CN', 'c1ccc(OCCNCc2ccncc2)cc1', 'CC(CCN)NC(C)c1ccccc1', 'Cc1ccncc1CNC(C)CC(C)O', 'CCNC1(C#N)CSC1', 'NS(=O)(=O)c1ccccc1SCCO', 'Cc1ccnc(C(C)NC(C)(C)C)c1', 'CCNc1cccc(N(CC)OC)n1', 'COC(C)C(=O)Nc1cnccc1C', 'CCOCCNC(=O)CCNCc1ccccc1', 'N#Cc1cc(N2CCCO2)ccn1', 'CCC(C#N)Sc1ncccn1', 'N#Cc1ccc(C(=O)NCCON)nc1', 'CCC(C)NCc1ccccc1', 'CCON(CC)c1ncccc1C#N', 'C=C(C#N)C(=O)OCc1ccccc1', 'CCOC(C)C(=O)Nc1cc(C)ccn1', 'N#Cc1cnccc1OCC(N)CO', 'CC(C#N)=Cc1cc(C)ccn1', 'CCNc1cc(SCC(N)=O)ccn1', 'Cc1ccncc1CN(C)CCO', 'COCCOc1ccccc1C(=O)OC', 'NNCc1ncccn1', 'C#CCc1ccncn1', 'CC(C)=CCOc1ncccc1C#N', 'CC(CN)(CO)c1ncccn1', 'CCNc1cccc(CN)n1', 'CCN(CCN)CC(C)c1ccccc1', 'Cc1ccncc1C(C)(CN)CO', 'C=CCNCCNc1ccccc1', 'CCCC(C)CC(NC)c1cc(C)ccn1', 'Cc1ccncc1OCCON', 'CC(CO)N(C)c1ccc(C#N)cn1', 'CC1NCCCC1CC(N)=O', 'CCCCSc1ncc(N)cn1', 'CCCC(O)(CCC)c1cnccc1C', 'CSCCC=C1CC(N)C1', 'CC(C)c1ncncc1N', 'CCC(C)(CO)Nc1ccncc1C#N', 'CN1CC(=O)N(CC(N)=O)CC1=O', 'C=CCCCOc1ccnc(NCC)c1', 'NN1C(=O)C2CC2C1=O', 'C=CCC(C)Nc1ccncn1', 'C=CCC(C)C(O)c1cc(C)ccn1', 'CC(C)(C)C=C1CCC(N)C1', 'CN(CCCN)c1ccncc1C#N', 'CC(=O)C(C)(O)c1ccncn1', 'CCCC(=O)N(C)CCOCc1ccccc1', 'CON(C)c1ccc(C#N)cn1', 'CSCC(C)Nc1ccncn1', 'CCN(O)C(=O)c1ccc(C#N)cn1', 'CC(N)c1cnc(C#N)s1', 'CN1CCCc2cccc(CC=O)c21', 'O=C(NCCO)c1ncccn1', 'CC(CCN(C)C)Nc1ncccc1C#N', 'CCCNCc1cncc(C#N)c1', 'N#CCCSc1ccc(C#N)cn1', 'CCC(CC)(CO)Nc1cc(C)ccn1', 'CSC(C)CCNc1ccncc1C#N', 'CN1CCCc2c(OCCCN)cccc21', 'OC(CC1CCCCC1)c1ccncc1', 'CCCC(NC)C(=O)c1ccccc1', 'C=CC=CCCC(=O)c1cc(C)ccn1', 'OCC(CO)(CO)COc1ccccc1', 'COC(=O)CNC(=O)c1cnccc1C', 'COC(CNc1ccc(C#N)cn1)OC', 'C=C(CS)COc1cnccc1C', 'CC(C)(O)CSc1ccncn1', 'N#Cc1cn(CCN)nn1', 'CCNc1cccc(NC(C)C(N)=O)n1', 'C=CC(CO)Nc1ncccn1', 'COC(=O)c1cccc(C(OC)OC)c1', 'OC1(Cc2ccsc2)CCN2CCCC21', 'OC(CCOc1ccccc1)c1cccnc1', 'C=CCNOCCOc1ccccc1', 'CCNc1cc(SCCN(C)C)ccn1', 'CC(C)(C)CC(CN)Nc1ccccc1', 'CCC(Cc1cnccc1C)C(=O)O', 'NC1CCC2CCC12', 'CCCN(CCC(N)CC)Cc1ccccc1', 'c1cc(CNCC2CCCCC2)ccn1', 'CC(Cc1ncccn1)C(=O)O', 'N#Cc1ccc(NC(=O)CCCN)nc1', 'CCN(CC)CCCNc1cc(C)ccn1', 'C=CC(NN)c1ccncn1', 'CC1C2CNCC2CN1S(N)(=O)=O', 'CCCCCNCc1ccc2c(c1)CCCN2C', 'Cc1nc(CC(C)N)ncc1N', 'CCNc1cc(NCCC(N)=O)ccn1', 'C#CC(=O)NCc1ncccn1', 'CC(N)CNc1ncccc1C#N', 'Cc1ccncc1CC(=O)C(=O)O', 'CCC(CC)C(N)COCc1ccccc1', 'N#Cc1cc2scc(CCN)c2s1', 'N#Cc1ccc(C=C2CCNC2)cn1', 'CN1CCCc2c1cccc2C(C)(C)CO', 'CC(C)Cc1ccc(C#N)cn1', 'CC=CC(=O)NCC(=O)c1ccccc1', 'CNCCN(C)CC(=O)NCc1ccccc1', 'CCN(Cc1ccccc1)CC(C)CCN', 'CN1CCC(O)(c2ccncc2)CC1', 'CCNc1cccnc1C#N', 'NC1CCCS(=O)(=O)CC1', 'CNCCC(=O)OCc1ccccc1', 'NC(Cc1ncccn1)=NO', 'O=C=NCc1cncnc1', 'CN1CCCc2cc(CCCCN)ccc21', 'N#Cc1cccc(N2CCC23CCC3)n1', 'N#Cc1ccc(N2CCC23CCC3)cn1', 'CCN(C)c1ncncc1N', 'Cc1ccncc1C(CCO)C(C)N', 'Cc1ccncc1CNC(C)CN', 'CC(C)(O)CNc1cncc(C#N)c1', 'N#Cc1cncc(CSC(=N)N)c1', 'CCC(C)(C)Nc1ccncn1', 'Cc1cccn1CC(N)=O', 'Cc1nnc(CC(N)=O)o1', 'CSCCC(O)C(N)c1cnccc1C', 'NC1CCCC(=CC(=O)O)C1', 'Cc1ccncc1C(O)CO', 'CCNCCNC(=O)OCc1ccccc1', 'C=C(C)CNc1ncccc1C#N', 'Cc1ccccc1CC(N)=O', 'CC(C#N)CN(C)c1ncccc1C#N', 'O=C(CO)c1cncnc1', 'CS(=O)(=O)CCSc1ncccc1C#N', 'CCCC(=O)Cc1ccncn1', 'CCCCOc1ccc(C#N)cn1', 'CCNc1cc(OCCCOC)ccn1', 'Cc1ccncc1NC(=O)C(N)CO', 'CN(C)CCCOc1ccncc1C#N', 'NC1CCc2conc21', 'CN(C)CCOc1ccccc1', 'NCCc1cccc(S(N)(=O)=O)c1', 'C=CC(CO)Nc1ccnc(NCC)c1', 'O=C(CCCO)OCc1ccccc1', 'NC1=CC(=O)CCC1', 'N#Cc1cccnc1N=C=O', 'Cc1ccc(C(O)C2CNCCN2C)cc1', 'CCCNc1ncc(N)c(C)n1', 'Cc1ccnc(C=NNC(N)=O)c1', 'CCC(C)(CN)c1cc(C)ccn1', 'C#CCCCNc1cc(C)ccn1', 'CONCCCc1cnccc1C', 'OCC(Cc1ccccc1)NCc1ccncc1', 'Nc1csnn1', 'NC1CC2(C1)CS(=O)(=O)C2', 'CS(=N)(=O)Nc1ccc(C#N)cn1', 'OC1(Cc2ccsc2)CCC2CCC1O2', 'N#Cc1ccc(C(=O)NCCN)nc1', 'CCNCc1ccncc1C#N', 'Cc1ccnc(CNCCCC(C)C)c1', 'CC(O)(Cc1cccnc1)c1ccccc1', 'CCC(C)Nc1cncnc1', 'O=CC(O)c1ccncn1', 'COCCNC(CO)c1cnccc1C', 'CCCNC(C)C(=O)Nc1cnccc1C', 'Cc1ccncc1C(=O)C(C)N', 'CSC(C)(C)CCNc1cnccc1C', 'CCCOC(=O)c1cnccc1C', 'Cc1ccnc(N(C)C(C)(C)CN)c1', 'Cc1ccnc(C(C)(CN)C(C)O)c1', 'CNC(C)CNC(=O)c1cnccc1C', 'CCC(C)CN(C)c1ncccc1C#N', 'SCc1ccncn1', 'NCCSCc1ncccn1', 'C#CC(C)(C)Oc1ccnc(NCC)c1', 'N#Cc1cnccc1NC(=O)CN', 'CC(=O)CC(=O)c1ncccn1', 'NCCCNc1ccccc1S(N)(=O)=O', 'CCCNC(CCC)c1cnccc1C', 'CNS(=O)(=O)c1ncccn1', 'c1cncc(C2CCCCC2)c1', 'CN1CCCc2cc(CC(=O)O)ccc21', 'Cc1ccncc1NC(=O)CCNC(N)=O', 'NC(=S)Cc1ccncn1', 'OCC(NCc1ccccc1)c1cccnc1', 'CCCC(CC)NCc1cc(C)ccn1', 'C=CCSc1ncccc1C#N', 'CCNC1CCN(C#N)C1', 'CNCCCNC(=O)c1ccccc1', 'Cc1ccccc1NCCC1CNCCN1C', 'COCCOCOc1cnccc1C', 'COC(=O)C=C1CCCC(N)C1', 'CCSCCSCc1ccc(C#N)cn1', 'CCOCC(=O)c1ncccn1', 'CC(C#N)Sc1ccc(C#N)cn1', 'NC(=O)Nc1cccc(C2CCC2)c1', 'N#CCCC(N)c1ccncn1', 'C#CCOCc1ccc(C(=O)OC)cc1', 'NC1CCC=CCCC1', 'CC1CC2CNCC2N1S(N)(=O)=O', 'CCc1ccc(C(=O)OC)cc1', 'O=C(CCc1ccccn1)Nc1ccccc1', 'CCOC(=O)CSc1ccncc1C#N', 'CC(N)c1ncc(C#N)cn1', 'CC(COCc1ccccc1)Nc1ccccn1', 'CN(C)CCSc1ccc(C#N)cn1', 'CCNc1cc(C(=O)O)ccn1', 'CCC(N)c1cc(C)ccn1', 'C=CCCN(C)c1ncccn1', 'COCCCNC(C)COCc1ccccc1', 'Cc1ccccc1C1CN(C)CCN1', 'Cc1ccnc(NC(C)COC(C)C)c1', 'C#CCCN(C)CC#Cc1ccccc1', 'Cc1ccnc(NCCCN(C)C)c1', 'Cc1ccncc1NC(=O)C(C)C', 'CC(CO)CSc1ccncn1', 'CC(=O)NCCNCc1cc(C)ccn1', 'COC(=O)c1ccccc1NCC(C)N', 'NCC(Cc1ccncc1)C1CCCCC1', 'CCNc1ccc(CSC)cn1', 'CC(O)C1CCN(Cc2ccsc2)CC1', 'Cc1ccncc1CCCNCCO', 'OCCCSCc1ccncn1', 'NS(=O)(=O)Cc1cncnc1', 'CC(C)CCOc1ccncc1C#N', 'CCNC1(C#N)CCC2(CC2)CC1', 'NC(=O)NCCNOCc1ccccc1', 'CNC(CCSc1ccccc1)C(N)=O', 'Cc1ccncc1C=NNCCO', 'C#CCON=Cc1cncnc1', 'Cc1ccnc(C(CN)CC(=O)O)c1', 'Cc1ccncc1CC(N)CCC(=O)O', 'CCNCCC(C)(C)c1cnccc1C', 'OC1CCC(Cc2ccsc2)C1', 'N#Cc1ccc(CNC(N)=O)nc1', 'CC(C)C=C1CCCCCC1N', 'CCNc1cccc(OCCCC(C)C)n1', 'C#CCCC(N)c1ccncn1', 'NC1CCC2(CC2)C1', 'COCC(N)Cc1cnccc1C', 'CCC(C)c1ncc(N)cn1', 'OC1CCN(Cc2ncon2)CC1', 'C#CC(C)Oc1cccc(NCC)n1', 'N#Cc1ncccc1N1CCOCCN1', 'NS(=O)(=O)c1cccc(C=O)c1', 'CC(CSCc1ccccc1)ON', 'CC(=O)NC1CCCC=C1C', 'N#Cc1cc(C2OCCO2)ccn1', 'CC(O)(CCN)c1ncccn1', 'CC#CCNc1ncccn1', 'CN(CC(C)(N)CO)c1ccccc1', 'NC1CC2CNC(=O)C2C1', 'Cc1ccnc(NS(N)(=O)=O)c1', 'N#Cc1ncccc1-n1ccnc1', 'Cc1ccnc(NCC(C)(O)CO)c1', 'C#CC(C)(C)N(CCO)c1ccccc1', 'Cc1ccncc1CN=C=S', 'CCNCc1ccc2c(c1)CCCN2C', 'CCCN(Cc1cncc(C#N)c1)OC', 'Cc1ccnc(NC(=O)C(C)N)c1', 'CCC(C)(N)c1ncccn1', 'CCNc1cccc(OC(C)COC)n1', 'CCC(C)(Oc1cnccc1C)C(=O)O', 'CN(CC(C)(C)N)c1ncccc1C#N', 'CC(Nc1ccncc1C#N)C(C)(C)C', 'Cc1ccncc1C(O)CC=O', 'CCC(O)C(O)Cc1ccccc1', 'CCSCCNC(C)(C)COCc1ccccc1', 'Cc1ccnc(C(C#N)CN)c1', 'C=CCNC(=O)c1cncc(C#N)c1', 'CCNc1cc(NCC(C)CO)ccn1', 'NN=C(NC1CCCCC1)c1ccccn1', 'CC(CO)N(C)c1ncccc1C#N', 'CN(c1cccnc1)C1CCCCC1', 'CCCC(C#N)C(=O)Nc1cnccc1C', 'COC(C)C(O)c1cnccc1C', 'Cc1ncc(N)c(C(C)(C)C)n1', 'Cc1ccncc1CNS(=O)(=O)CCO', 'C=CCCNC(=O)C(CC)c1ccccc1', 'c1ccc(CCCc2ccccn2)cc1', 'OCc1ncccc1N1CCCOCC1', 'Cc1ccncc1OCOC(C)(C)C', 'COC(=O)c1ccc(C(=O)CN)cc1', 'OCCCCNc1ncccn1', 'Cc1ccsc1C1(O)CNCCOC1', 'CCC(C)C(CC(C)N)c1ccccc1', 'CCCC(C)(N)C(=O)c1cnccc1C', 'CCCNCCc1ccc2c(c1)CCCN2C', 'N#Cc1ncccc1C1CCNC1', 'CC(C#N)CSc1ccncn1', 'CC(O)CCNCCc1ccccc1', 'N#Cc1cnccc1NOCCCN', 'CCC(C)N(CCC=O)Cc1ccccc1', 'NC(=O)c1ccccc1S(N)(=O)=O', 'N#Cc1cc(-c2ncno2)ccn1', 'N#Cc1cc(N2CCCCCC2)ccn1', 'CCC(C)=C1CC(N)C1', 'NCC(O)(c1ccccc1)c1cccnc1', 'CNCC(O)C(=O)c1ccccc1', 'CN1c2ccccc2CCC1CCN', 'Cc1ccnc(N)c1', 'Cc1ccncc1C(=O)CSCCN', 'Cc1ccnn1CC(N)=O', 'NC1SCCC1=O', 'CN1CCCc2cc(C=CC#N)ccc21', 'Cc1ccnc(NCCCC(C)O)c1', 'CC(C=O)c1ncccn1', 'CCCC(CC)Nc1ncccc1C#N', 'Cc1ccncc1NC(C)CC(C)(C)O', 'CCC(C)C(=O)c1ccncn1', 'CCC(C=O)=Cc1ccncn1', 'C#CCCN(Cc1ccccc1)OC', 'N#Cc1ccc(C2COCCO2)cn1', 'CCCC(CN)C(O)c1cnccc1C', 'N#CCNC(=O)c1ccc(C#N)cn1', 'N#CCc1ccncc1C#N', 'CNCCC(C)(C)c1cnccc1C', 'CCN(C)C(=O)CNc1cc(C)ccn1', 'CCNc1cc(NCCSC)ccn1', 'COCCCC(C)(O)c1cnccc1C', 'COC(CSc1ccccc1)C(N)=S', 'NN1CCC2(CC2)C1', 'NC1CCCSC1', 'CCCC(O)(CC)c1cnccc1C', 'CCOCC(=O)NCCCOCc1ccccc1', 'OC1CN(Cc2ccsc2)C1', 'COCC(C(N)=S)c1ccccc1', 'CCCC(N)CC(=O)Nc1ccccc1', 'NCCCNc1ncc(N)cn1', 'Cc1ccncc1C(O)CCC(C)(C)N', 'CCCCSc1cccc(NCC)n1', 'NC12CCCC(C1)C2', 'CNC(C(C)C)C(O)c1cnccc1C', 'CCNc1cc(OCCSCC)ccn1', 'CCNc1ccc(C#N)nc1', 'C=CCC(NN)c1ccncn1', 'CCCCOCCNc1cc(C)ccn1', 'NC(=O)NN=Cc1cncnc1', 'N#Cc1cc(C2CCSCC2)ccn1', 'O=C(CN1CCCC1)Nc1cccnc1', 'C=CCNC(C#N)c1cnccc1C', 'C=C1COCC1N', 'CC#CCCC(N)CSc1ccccc1', 'N#Cc1cncc(CSCCC(=O)O)c1', 'CC(C)(N)C(=O)CCCc1ccccc1', 'CC(=O)Nc1nocc1C', 'NC(=S)NN=Cc1ccncn1', 'CC1Cc2ccccc2N(C)C1', 'COCCC(=O)c1cc(C)ccn1', 'CCCCSc1ncccc1C#N', 'CC(C)(N)CCNc1ncccc1C#N', 'CN(CCC1CCCCC1)Cc1ccncc1', 'CCOCC(N)c1cncnc1', 'Cc1ccncc1OC(C)(C)C(=O)O', 'CC(C)OCC(=O)C=Cc1ccccc1', 'N#Cc1ccc(N2CCCC3CC32)cn1', 'Cc1ccncc1OCCOC(C)(C)C', 'CC(=O)NC1(C)CNC1', 'COC(=O)C=CNCc1cc(C)ccn1', 'CCP(=S)(CC)Nc1ccccc1', 'NN1CC2CS(=O)(=O)CC2C1', 'C=C(CCN)c1cc(C)ccn1', 'COC(=O)c1ccc(NC=O)cc1', 'CC(C)CCN(C)Cc1ccccc1', 'Nc1cnc(S)nc1N', 'CC(C)C(CN=C(N)N)c1ccccc1', 'CCC(N)CNc1cncnc1', 'CCC(C)(N)c1cnccc1C', 'CCNc1cccc(SCCO)n1', 'CC(=O)Nc1cccc(C)n1', 'CCCNC(=O)c1cnccc1C', 'CNC(C)(C)Cc1cc(C)ccn1', 'N=C(NN)c1ncccn1', 'NC(=O)CSc1ccncn1', 'CCNc1ccc(C(=O)O)cn1', 'N#Cc1cccnc1CC(N)C(=O)O', 'COC(=O)Cc1cncnc1', 'CCC(N)CNc1ccncc1C#N', 'CCOC(=O)CC(NC)c1cnccc1C', 'OC(CSC1CCCCC1)c1cccnc1', 'NCCNC(=O)c1cncnc1', 'CN(C)C(=O)c1cncc(C#N)c1', 'Nc1nncnn1', 'CN(C)CCOc1ccncc1C#N', 'CC(O)CCCNc1ncccc1C#N', 'CC=CC(O)c1cncnc1', 'OCCSc1ccncn1', 'c1ccc(CCNc2ccccn2)cc1', 'Cc1ccncc1NCCC(C)C', 'C#CCCCCC(=O)NOCc1ccccc1', 'NCC(=O)Nc1ncc(N)cn1', 'C=C(C)CC(O)c1cncnc1', 'CCSc1cc(C)ccn1', 'CNC(C)c1ccncn1', 'CNS(=O)(=O)C(C)c1ccccc1', 'CC(=O)NCCNCc1cnccc1C', 'Nc1nc(=S)ss1', 'NC1CC2CCOC2C1', 'CC(CCN)Nc1ccc(C#N)cn1', 'N=c1ccccn1N', 'OC1CCN(CC23CC(CO2)C3)CC1', 'CC(CCC1CCCCC1)NCc1ccncc1', 'CNNC(=O)c1ccc(C#N)cn1', 'CCNC1(C#N)CCCSC1', 'CCN(Cc1cncc(C#N)c1)OC', 'Cc1ccnc(C(=O)N(C)CC#N)c1', 'NC1C2OCCOC12', 'CCC(C)(CN)Nc1cc(C)ccn1', 'Cc1ccncc1CNC(=O)C(=O)O', 'CC(N=C=O)c1ccncn1', 'CSCCNCCC=Cc1ccccc1', 'CC(C)C=C1CC(N)C12CCC2', 'N#CCCC(=O)c1ccncn1', 'CC1CNC(CC(N)=O)SC1', 'CN1CCC(O)C(C2CCCNCC2)C1', 'CC(N)(C#N)CCOCCOc1ccccc1', 'OC1CCN(CC2CCCCCC2)CC1', 'CC(CO)NCc1ncccn1', 'CC(C)c1ncc(N)c(CN)n1', 'Cc1ccccc1NC(=O)C1CNCCN1C', 'CCCC(CCO)Nc1ccc(C#N)cn1', 'Cc1ccncc1OCCN(C)C(C)C', 'C#CC(C)NCCCc1cnccc1C', 'CCC(N)CC(=O)Nc1ccccc1', 'N#Cc1ocnc1CCN', 'CC(C)(C)c1ncc(N)c(O)n1', 'CNCC(=O)Nc1cc(C)ccn1', 'Cc1ccncc1NCCCN', 'CC(C)(C=O)c1ccncn1', 'CCC(COC)NCc1cc(C)ccn1', 'CCN(Cc1ccccc1)Cc1ccccn1', 'CC(CC1CCCCC1)Nc1ccccn1', 'CC(C)C(C)(O)c1ccncn1', 'N=C(N)C1CCCCN1Cc1ccsc1', 'CCNc1cc(NCC(O)CO)ccn1', 'CCOC(=O)C(=O)c1ncccc1C#N', 'COCC(=O)NCc1cnccc1C', 'COC(CNCc1ccncc1)C1CCCCC1', 'OC1CCN(CC2CCCC2)CC1', 'NC1CC(=O)c2sccc21', 'C=CCCCc1cnccc1C', 'Nc1noc2c1COC2', 'Cc1ccnc(NC(=O)CC(=O)O)c1', 'CNCCOCCN(Cc1ccccc1)OC', 'CC(NCCc1ccccc1)c1ccncc1', 'COC(=O)c1ccccc1C(C)C=O', 'Nc1cncnc1OCCO', 'CCOCCCC(=O)c1cnccc1C', 'Cc1ccnc(CNCC(C)CO)c1', 'Cc1ccnc(NN(C)C)c1', 'NC(=S)Nc1ncccn1', 'NCC(CO)c1cncnc1', 'COCC(C)CNc1cc(C)ccn1', 'CCC(Nc1ccncc1C#N)C(C)O', 'N#Cc1cccc(NN2CCOCC2)c1', 'Cc1ccncc1OCCCCC(=O)O', 'CC#CCNC(C(=O)O)c1ccccc1', 'CNC(COCc1ccccc1)c1cccnc1', 'c1cncc(NCCC2CCCCC2)c1', 'Cc1ncccc1NC(=O)CC1CCCCC1', 'CC(N)CN(CCO)Cc1ccccc1', 'CNCC(O)CNC(=O)NCc1ccccc1', 'CCCC(C)Nc1ccnc(NCC)c1', 'C=CCCCNC(C)c1cc(C)ccn1', 'CCNc1cc(NCCNC(N)=O)ccn1', 'CC(N)CCN(C)Cc1ccccc1', 'CCC(N)C(C)NCCc1ccccc1', 'CC#CCC(CCOCc1ccccc1)NN', 'CSCCC(C)Nc1ccc(C#N)cn1', 'CC1CCOCCN1CC(N)=O', 'CCOC(CC)C(O)c1cnccc1C', 'O=C(Oc1cccnc1)c1ccccc1', 'N#Cc1cccc(N2CCCCCCC2)n1', 'CCNC1(C#N)CCCC12CCC2', 'CNCC(C)Nc1ncccc1C#N', 'CNC(C)(C)c1cncnc1', 'c1ccc(NCCSc2ccccn2)cc1', 'O=C(O)Cc1cncnc1', 'c1ccc(CSc2ccncc2)cc1', 'CN1CCCc2cc(SC#N)ccc21', 'C=CCSc1ccncc1C#N', 'N#Cc1cc(-c2ccncn2)ccn1', 'Nc1nsc2ccoc12', 'N#CC(COc1ccccc1)c1cccnc1', 'CC(C)CCC=C1CC(N)C1', 'COC(=O)c1ccc(C(=O)S)cc1', 'CN(CC(C)(C)N)c1ccncc1C#N', 'CCN(CCCc1cccnc1)C1CCCCC1', 'OC1CCN(Cc2cnoc2)CC1', 'CCCC(C(=O)O)c1cnccc1C', 'CCNCCOCc1cncc(C#N)c1', 'NC1SCCCS1', 'CCC(C)(CO)CNCCc1ccccc1', 'C=CC(COC)NCc1cnccc1C', 'CC(CO)CNC(=O)COCc1ccccc1', 'COCCOc1ccncc1C#N', 'N#Cc1cccc(C2OCCNC2=O)n1', 'CC(c1ccccc1)C(CO)NCCO', 'N#Cc1nc(CCN)cs1', 'C=Cc1ccncn1', 'c1ccc(COc2ccccn2)cc1', 'Cc1ccnc(NC(C)C(C)CN)c1', 'CC(C)CC(c1ccccc1)C(C)N', 'N#Cc1ccc(N2CCSCC2)cn1', 'CCCC(C)N(C)c1ccncc1C#N', 'CCOc1ccncc1C#N', 'c1ccc(CNCCCOc2ccncc2)cc1', 'CSC(C)CCOc1ncccc1C#N', 'C=CCC(CO)Nc1ccc(C#N)cn1', 'CCC(C#N)C(=O)NOCc1ccccc1', 'NS(=O)(=O)c1ccc(CCCS)cc1', 'COC(=O)C=Cc1ccncn1', 'OC1(Cc2ccsc2)CSC1', 'CCOC(C)C(N)c1cnccc1C', 'NC1=NCCCS1', 'CCNc1ccc(CSCCSC)cn1', 'CNCCCSc1ncccn1', 'CCC(Oc1cnccc1C)C(=O)NN', 'N#Cc1cc(N2CCOCC2)ccn1', 'Cc1ccncn1', 'O=C(CC1CCCCC1)NC1CCSC1', 'CC(=O)NCc1ccc(C#N)cn1', 'O=C(Cc1cncs1)Nc1cccnc1', 'CC(N)(CCO)c1ccncn1', 'CCNc1cc(N(CCO)C(C)C)ccn1', 'CC(C)C(CN)NCCc1ccccc1', 'CN1CCC(CC(N)=O)CC1', 'Cc1ccsc1C1OCCC1O', 'CC(C)(O)c1cncnc1', 'COCCc1ccccc1S(N)(=O)=O', 'C=C(C)C=C1CC(N)C12CCC2', 'CC(CN)Sc1ccc(C#N)cn1', 'C=CC=CCC=C1CCC(N)C1', 'N#Cc1cccc(C2CCSCC2)n1', 'CCONc1ncccc1C#N', 'CN1CCCc2cc(CCO)ccc21', 'CN(C)C=Nc1ncccc1C#N', 'NC1COC2(CSC2)C1', 'CCOCC(C)Oc1ccncc1C#N', 'NCCN(CCCO)Cc1ccccc1', 'CCNc1cccc(COCC)n1', 'CCC(C)(N)C(=O)c1cnccc1C', 'CNC(=N)NCc1cc(C)ccn1', 'NC1CCc2occc21', 'NC1CC2CC1C1CC21', 'N#Cc1ccc(N2CCCC2=N)cn1', 'NCCCc1ccc(S(N)(=O)=O)cc1', 'CCC(COCc1ccccc1)NN', 'COc1ncncc1N', 'CC(C)(C)CCOc1ccncc1C#N', 'CNC(=O)CNCc1cnccc1C', 'C=Cc1cc(C)ccn1', 'N#Cc1cnnc(N2CCCOCC2)c1', 'CCOCC(C)NCc1cnccc1C', 'Cc1ccsc1C1(O)CCC2CC21', 'NC1CC(=O)OC1=O', 'CCCC(N)C#Cc1cncc(C#N)c1', 'Cc1ccncc1NC(=O)CC(C)CN', 'C#CCOC(=O)c1cncnc1', 'N#Cc1cc(-c2cccnc2)ccn1', 'CCN(CC)CCSc1ccc(C#N)cn1', 'NCc1sccc1CN1CCCCC1', 'COC(=O)c1ccccc1NC(=S)OC', 'CCc1ncc(N)c(C#N)n1', 'NC(Cc1ccccc1)c1ccncc1', 'COCC(C)CNC(N)=NCc1ccccc1', 'Cc1ccncc1NC(=O)CCCN', 'NN1Cc2nonc2C1=O', 'N#Cc1ncccc1N1NC2CCC1C2', 'CC(C)ON=Cc1ccncn1', 'CCNc1ncccc1CSCC(N)=O', 'CCNC(COCC)C(C)OCc1ccccc1', 'O=C(NCCS)c1ccccc1', 'CCC(C)=C1CCC(N)C1', 'Nc1ncc2sccn12', 'Cc1ccncc1CNCCCCO', 'CCNc1ncccc1CSCCSC', 'CC(C)C(C)Nc1cncc(C#N)c1', 'NN=C(N)SCCCOc1ccccc1', 'COC(=O)c1cccc(C#CCN)c1', 'Nc1noc2snnc12', 'COCCC(=O)Nc1cc(C)ccn1', 'CCCCCCC=C1CC(N)C1', 'NC1CC2OC1C1CC21', 'CC1(CC(N)=O)CCCCC1', 'CC(C)C(O)C=C1CC(N)C1', 'CC(C)(N)C#Cc1ccncn1', 'NC1CC(=O)c2ccoc21', 'CSCCCNC(C)c1cc(C)ccn1', 'CCC(CN)Nc1cnccc1C', 'CCOCC(O)c1cc(C)ccn1', 'CCNc1cc(NCC(C)COC)ccn1', 'CC(C)(O)C#Cc1cncnc1', 'CSSCCNc1ccncc1C#N', 'CCOC(=O)Cc1ccncn1', 'CCC(C(=O)O)c1cncnc1', 'CON(C)C(=O)c1ccc(C#N)cn1', 'C=CC(NCc1cnccc1C)C(=O)O', 'CN1CCC(O)(C2CCOCC2)CC1', 'COCCNC(=O)Nc1cc(C)ccn1', 'N#Cc1cnccc1NCCN', 'CCC(C)(CO)Sc1cc(C)ccn1', 'CC1CCCN(CC(N)=O)C1', 'CCCC(C)C(=O)Nc1cnccc1C', 'CC(c1ccccc1)N(C)C(=N)N', 'CC=CCCNc1ccc(C#N)cn1', 'CCCOc1ccc(S(N)(=O)=O)cc1', 'NC1CC(=O)c2ccsc21', 'CNCC(C)Nc1ccncc1C#N', 'Cc1ccnc(NC(C)CCN)c1', 'CN(CC(N)=O)c1ccncc1C#N', 'C=CCC(=O)Nc1ccc(C#N)cn1', 'C=CCC=C1CCCC1N', 'CCSCc1ncccn1', 'Cc1ccccc1CNCCN1CCN(C)CC1', 'CCNc1cccc(CN(CC)OC)n1', 'CC(C)=CC(=O)NCc1cnccc1C', 'CCC(C)(O)C(=O)Nc1cnccc1C', 'CN1CCC(CN)c2ccccc21', 'C=C(C)C(Cc1ccccc1)NCCC', 'CC(O)C(C)c1ccccc1', 'CNC(CCCC(C)C)c1cc(C)ccn1', 'Cc1ccncc1C(NCCO)C(=O)O', 'C=CS(=O)(=O)c1ccncn1', 'CCNC(CN)Cc1ccccc1', 'COCC(C)NCC=Cc1ccccc1', 'NNC(=Cc1ccccc1)c1ccccn1', 'N#Cc1cc(N2CCCCCO2)ccn1', 'COCC#CCC(N)c1cnccc1C', 'NC12CCC1CC2', 'COC(=O)Cc1cccc2c1CCCN2C', 'C=CCC(NN)c1ncccn1', 'OC(C#Cc1ccccc1)c1ccccn1', 'CCC(N)C(CC)Nc1cc(C)ccn1', 'Cc1ccncc1C(O)COC(C)(C)C', 'OC1CCN(CC2CCCNC2)CC1', 'CC(=CC(=O)O)COc1cnccc1C', 'CC1CSCCCN1CC(N)=O', 'CCNc1cc(COCC)ccn1', 'CCCOCCNc1ncccc1C#N', 'CC(CN)N(C)c1ccc(C#N)cn1', 'NCC(=O)c1cncnc1', 'Cc1ccncc1CNCC(C)(C)O', 'CN1CCC(O)(c2ccns2)CC1', 'Cc1ccncc1CC(C)(C)O', 'C=C(CN)COc1cnccc1C', 'CCC(C)(N)COc1ccc(C#N)cn1', 'OC1CCN(CC2CNC2)CC1', 'N#CSc1ncccn1', 'CC1CCC(=O)N(CC(N)=O)C1', 'c1cncc(OCOC2CCCCC2)c1', 'N#Cc1ccc(C2CCCCC2)cn1', 'C#CC(C)c1cnccc1C', 'ON=C(c1ccccn1)C1CCCCC1', 'CCNc1cc(NC(C)CC(C)C)ccn1', 'C#CCC(CCOCc1ccccc1)NC', 'CCNC(C#Cc1ccccc1)CC', 'N#CCSc1ccncn1', 'NC(C(=O)O)c1ncccn1', 'CC(=NNCc1ccccc1)C(=O)O', 'CCC(N)c1cccc(C(=O)OC)c1', 'CCOC(=O)C(C)NCCCc1ccccc1', 'C=CCCC(C)NCc1ccccc1', 'NC(CC1CCCCC1)c1ccccn1', 'CCC(O)CNc1cc(C)ccn1', 'CCC(CC(=O)OC)c1cnccc1C', 'CSSCCNCc1cnccc1C', 'N#CC(c1ccccc1)c1ccccn1', 'CC(CC#N)Nc1ncccc1C#N', 'O=C(O)CNC(=O)COc1ccccc1', 'CC(CN)N(C)c1ccncc1C#N', 'CC(=O)CCC(=O)Nc1cnccc1C', 'CC(CNc1cccnc1)CC1CCCCC1', 'CCNC1(C#N)COC1', 'CCCCC(=O)CSc1ccccc1', 'CCOC(=O)C(C)Oc1cnccc1C', 'COCCOc1ncc(N)cn1', 'C=COCC=Cc1ccccc1', 'CN1CCCc2cc(C(=O)O)ccc21', 'CCCC(CCC)Nc1cnccc1C', 'COCCCSc1ncccn1', 'NNC(c1ccccc1)c1cccnc1', 'C#CCC(O)CNc1ccncc1C#N', 'C#CCCNc1ccncn1', 'CCC(=Cc1cnccc1C)CO', 'CC(O)C(C)SCc1cncc(C#N)c1', 'NC1Cc2nonc2C1=O', 'CN1C(=O)CN(CC(N)=O)C1=O', 'CC(C)(C)C#Cc1cncnc1', 'COC(=O)c1ccc(OCCCO)cc1', 'Cn1nccc1CC(N)=O', 'CCC(OC)C(CN)NCc1ccccc1', 'OC1(Cc2ccsc2)CC2CCCCC21', 'CC(C)C(O)c1ncccn1', 'NC1=NCC(=O)N1', 'C=CCSCCCC(N)c1ccccc1', 'N#Cc1cc(N2CCCCC2)ccn1', 'COC(C)(CCN)c1cc(C)ccn1', 'COCc1ccccc1C(=O)OC', 'CC(C)CSc1ccncn1', 'OC1(CCc2cccs2)CCNCC1', 'N#Cc1cccc(N2CC=CC2)n1', 'C#CCNC(=O)NCCOCc1ccccc1', 'CN1CCCc2cccc(CO)c21', 'OC1CCN(CCc2cccs2)CC1', 'CCC(C)NCc1cc(C)ccn1', 'CC(N)C1=NC(C#N)CO1', 'C=COc1cccc(C(=O)OC)c1', 'CCCCCCCCCSc1ccccc1', 'Cc1ccnc(CC(C)(C)O)c1', 'C=C(C)CN(C)c1ccc(C#N)cn1', 'CC(=O)Cc1ncccn1', 'CC(CN)CNc1ccc(C#N)cn1', 'O=C(Cc1cccnc1)NC1CCCCC1', 'COC(=O)CCCNc1cc(C)ccn1', 'CNCCCCc1ccncn1', 'CC(CN)CCCOc1ccccc1', 'CCCCC(N)c1ccncn1', 'CCC(C)CC(C)Nc1ncccc1C#N', 'CC(NCC1CCCCC1)c1ccncc1', 'COCC(C)CC(O)c1cnccc1C', 'CCOCC(N)(CO)c1ccccc1', 'CS(=O)(=O)c1ccccc1', 'CCC(C)(C)NCc1cc(C)ccn1', 'COc1ccc(S(N)(=O)=O)cc1', 'N#Cc1ccc(N2CC3CCC3C2)cn1', 'Cc1ccsc1C1(O)CCC(=O)CC1', 'OC1CCCN(Cc2ccsc2)CC1', 'N#Cc1ccc(C(=O)NNCCO)nc1', 'CCC(C)C(C=CCNC)c1ccccc1', 'CSCC(C)Nc1ccc(C#N)cn1', 'CCSCc1ncc(N)c(O)n1', 'CC(Cc1ccccc1)NC=O', 'Cc1ccncc1C(O)(CN)C(C)C', 'COCC(OCc1ccccc1)C(=O)NN', 'N#CC(CN)c1cncnc1', 'CCCC(CN)N(C)CCOCc1ccccc1', 'CC(N)C(=O)Nc1cncnc1', 'CC(O)c1ccc2c(c1)N(C)CCC2', 'CC(O)c1ncccn1', 'CCC(C)C(C)NCc1ccccc1', 'CCNc1ccc(C=O)cn1', 'CC(CO)Nc1ncncc1N', 'Cc1ccnc(NCC(C)CCCN)c1', 'CNC(=NN)c1cnccc1C', 'COCC(C)Oc1ccncc1C#N', 'C=C(C)CNc1ccncn1', 'OC1CCOC(Cc2ccsc2)C1', 'Nc1ncco1', 'COC(=O)CSc1ncccn1', 'NC(CNC(=O)CCc1ccccc1)=NO', 'Cc1ccncc1C=C(CO)C(C)C', 'CON(C)Cc1cc(C)ccn1', 'Cc1ccncc1C#CC(C)O', 'CCCN(C)Cc1cc(C)ccn1', 'C=CCN(C)c1ccncc1C#N', 'CCC(CC=Cc1ccccc1)C(=O)O', 'Cc1ccncc1C=NO', 'Cc1ccncc1C(=O)NCC#CCO', 'CNC(CN)c1ccc2c(c1)CCCN2C', 'CN1CCN(CC(N)=O)CC1=O', 'COCC(C)(C)C(N)c1cnccc1C', 'C=CC(C)(C)COc1ccncc1C#N', 'C#CCOC(=O)c1ncccn1', 'C=CCC(C)NC(C)c1cnccc1C', 'Cc1ccncc1CNCC(N)C(=O)O', 'N#Cc1ncccc1N1CC2CCCCC21', 'CC=C1CC(N)C1', 'Cc1ccncc1C(O)CCCCCN', 'Cc1ccncc1C(C)NCCC(C)C', 'CCCSCCNc1ncccc1C#N', 'CCCCOCCN=C(N)NCc1ccccc1', 'COCC(Nc1cc(C)ccn1)C(C)C', 'COC(=O)c1ccccc1NC(=O)S', 'CCCOCSC(=N)NCc1ccccc1', 'C=C(CNC)CSCc1ccccc1', 'C=C(C)CC=C1CCC(N)CC1', 'CCOCC1CCN(Cc2ccsc2)CC1', 'C#CCOCc1cncc(C#N)c1', 'COC(=O)c1ccc(CNC#N)cc1', 'Cc1ccncc1C(N)C(C)C', 'Cc1ccncc1OCCSC(C)C', 'CCCC(N)CNc1cc(C)ccn1', 'NN1CCCS(=O)(=O)CC1', 'CCNc1cc(N(C)OCC)ccn1', 'CSCCc1ncc(N)c(C)n1', 'C=C(CN)c1ccncn1', 'CC(CCN)SCc1cncc(C#N)c1', 'C=CC(=O)N(CCO)Cc1ccccc1', 'N#Cc1ccc(N2CCCCCC2)cn1', 'O=C(O)C(O)c1cncnc1', 'CC(C)=CC(N)c1cnccc1C', 'CCC(C)CNc1ccncc1C#N', 'CC(N)c1cc(C#N)ccn1', 'OCC1CN(Cc2ccsc2)CCC1O', 'CCC(CN)Nc1ccncc1C#N', 'CNCCCCc1cncnc1', 'C#CC(C)NC(=O)CCc1ccccc1', 'COC(=O)CCc1cc(C)ccn1', 'N#Cc1cccnc1C=CC(N)=O', 'OC1C=C(Cc2ccsc2)CC1', 'OC(CNCc1ccccc1)c1cccnc1', 'CCOc1ccc(S(N)(=O)=O)cc1', 'CC(=O)OCCNc1ncccc1C#N', 'CNC(=O)COc1cnccc1C', 'CCC(C)SCCc1ccccc1', 'CCC(CC)C(N)c1ccccc1', 'CN1CCNC(CC(N)=O)CC1', 'CC(N)CCSc1ncccn1', 'NC1C2C(=O)NC(=O)C12', 'CC(C)(CN)Nc1ncccc1C#N', 'O=C(CO)c1ccccc1', 'CC(=O)NC1CCCN(C)CC1', 'c1ccc(OCCCNCc2ccccn2)cc1', 'COc1ncc(N)c(C#N)n1', 'CCN(CCSC)C(=O)CCc1ccccc1', 'COCC#CCSC(N)=NCc1ccccc1', 'CC(CCO)CNC(C)c1ccccc1', 'C#CCN(CC#C)c1ccc(C#N)cn1', 'Cc1ccncc1CNC(N)=NN', 'C=C(C=C1CCCC(N)C1)CC', 'Cc1ccncc1C(=O)N(C)CCCC#N', 'CCCNC(CC)c1cnccc1C', 'N#Cc1ccc(C2CCNCCO2)s1', 'CCNC(CO)(CSCC)c1ccccc1', 'N#Cc1ncccc1N1CCC12CCC2', 'CCNc1cc(SC(C)(C)CO)ccn1', 'CCOCCCNCc1cnccc1C', 'O=C(Nc1cccnc1)C1CCCCC1', 'CCNC(=O)CNCc1cnccc1C', 'COC(=O)C=C1N=C(N)NC1=O', 'CC(C)(CO)c1ncccn1', 'NN1CCCC12CCC2', 'CCOCCCCC(O)c1ccccc1', 'N#Cc1cccc(N2CCC3CC3C2)n1', 'OCCCSc1ccncn1', 'CCC(C)C(=O)c1cc(C)ccn1', 'CCCNCC(=O)Nc1cnccc1C', 'NC1=CCCCN1', 'c1ccc(CCc2ccccn2)cc1', 'COCC(C)C(=O)c1cc(C)ccn1', 'NC1CCCC(=O)NC1=O', 'O=C(O)C1CCN(Cc2ccsc2)CC1', 'CC#CCC=C1CCCCC1N', 'Cc1ccncc1C(C)(O)C(C)(C)C', 'CN(C)C(CN)c1cncnc1', 'NC1=NOCC1', 'CN1CC(N)Cc2ccccc21', 'OC1CCN(CC2CCCN2)CC1', 'N#Cc1ccc(NCCNC(=N)N)nc1', 'CC#CCCNCC=Cc1ccccc1', 'CN(CC=O)c1ccncc1C#N', 'CC#CCCNCc1cncc(C#N)c1', 'CCNc1ccc(S(=O)(=O)NC)cn1', 'CCCCN(CCO)c1ncccc1C#N', 'CC(C)NCCCOc1ccc(C#N)cn1', 'CCNc1cccc(CN(C)C(C)CO)n1', 'Nc1ccccn1', 'NC12CCC(CC1)C2=O', 'Cc1cccc(CCNCC2CNCCN2C)c1', 'CC#CCC(N)CSc1ccccc1', 'CC(C)CCSc1ncccc1C#N', 'N#Cc1cccn(CCN)c1=O', 'C=CC=CCCC(N)c1cc(C)ccn1', 'CN(CCN)C(=O)CCCOc1ccccc1', 'O=CC(c1ccccc1)c1ccccn1', 'C=CCS(=O)(=O)NCc1cnccc1C', 'C=CCCC(=O)c1cnccc1C', 'CCNc1cccc(CSC)n1', 'CCC(C)(C)C=C1CC(N)C1', 'CC(N)c1scnc1C#N', 'N#Cc1cc(N2CC3CC3C2)ccn1', 'OC1CCN(Cc2nncs2)CC1', 'C#CC(N)CC(OC)c1ccccc1', 'COCC(N)C(=O)Nc1cc(C)ccn1', 'CCOC(=O)CC(=O)CCc1ccccc1', 'N#Cc1ncccc1N1CC2CC1CS2', 'NCCCN(c1ccccc1)c1ccccn1', 'CSCC(C)C(NN)c1cnccc1C', 'Nc1ccccc1', 'CCC(NN)c1cnccc1C', 'Cc1ccncc1C(=O)C(C)(O)C=O', 'CC(C)(CO)Nc1ccncn1', 'CC(N)c1cnc(C#N)o1', 'N#CNC(=O)c1ccc(C#N)cn1', 'Cc1ccncc1C(N)C(=O)O', 'CCC(C)(C)N(C)c1ncccc1C#N', 'N#Cc1cncc(C#CC(=O)O)c1', 'O=C(CN1CCC(O)CC1)c1cccs1', 'C=CCCNc1ncccn1', 'CCNc1cccc(SCC(C)CO)n1', 'CC1C(=O)NNC1CC(N)=O', 'CSCC(C)(N)CCCOCc1ccccc1', 'CCNc1ccc(C(N)=NO)cn1', 'CC(C)(CCO)Nc1ccc(C#N)cn1', 'CC(C)(C)NCC=Cc1ccccc1', 'CCNc1cc(NC(C)(C)C)ccn1', 'N#Cc1ccc(C2CCOCCN2)cc1', 'COc1ccccc1S(N)(=O)=O', 'Nc1cn2c(n1)CN=C2', 'CCNC1(C#N)CCSC1', 'CC(N)CCC(O)Cc1ccccc1', 'Cc1ccncc1C(C)NC(=O)C(C)N', 'CCNC1(C#N)CC2(CCC2)C1', 'CCC(C)CC(N)CNCc1ccccc1', 'O=CNNC(=O)c1ccccc1', 'Nc1cncs1', 'COCC(C)(N)CSCc1ccccc1', 'N#Cc1cnn(CCN)c1', 'CCOCCOc1ccncc1C#N', 'CN1CCN(CC(N)=O)C1=O', 'C#CCC(NN)c1cncnc1', 'CC(=O)N(C)c1ncccc1C#N', 'OC1CCN(Cc2nccs2)CC1', 'CC(C=O)=Cc1cnccc1C', 'CCNC(Cc1ccccn1)CC1CCCCC1', 'COCCNCCc1ccc2c(c1)CCCN2C', 'CC1CC(O)CCN1Cc1ccsc1', 'Cc1ccncc1OCCCCC(N)=O', 'COc1ncnc(C)c1N', 'CC(C)=C1CCCCCC1N', 'Cc1ccncc1CC(C)(C)N', 'CN1C(=O)C(CC(N)=O)NC1=S', 'CC(O)(C(=N)N)c1ncccc1C#N', 'c1ccc(CCCCNCc2ccccn2)cc1', 'CN1CCCc2cccc(CCCC#N)c21', 'CCC(c1ccccc1)C(C)NN', 'N#Cc1cccnc1NCC(N)CO', 'CCC(=O)c1cncnc1', 'CSc1cc(C)ccn1', 'Cc1ccncc1C(C)(C)CC(C)O', 'Cc1cccc(CC2CN(C)CCN2)c1', 'CCNc1ncccc1CSC', 'C=CCNCCOc1cnccc1C', 'CC(C)(C)c1ccc(C#N)cn1', 'NC1CC2CCC12', 'COCC(C)CC(=O)Nc1cnccc1C', 'C=C(C)CCNC(N)=Nc1ccccc1', 'CCNc1ncc(N)c(N)n1', 'CCONc1ccc(C#N)cn1', 'CCN(CC)c1ncncc1N', 'CCCNC(=O)COc1cnccc1C', 'CCC(=CCc1ccccc1)C(=O)O', 'CCCNc1ncncc1N', 'CCNc1cc(C(=O)N(C)OC)ccn1', 'C=CCCC(NCC)c1cnccc1C', 'CCOCCCC(N)Cc1ccccc1', 'COC(=O)c1ccccc1C(N)CS', 'COC(OC)C(=O)Nc1cnccc1C', 'C=CCNC(=O)c1ccc(NCC)nc1', 'COCC(C)(C)Nc1ncccc1C#N', 'CC(=O)CSCC(=O)NCc1ccccc1', 'CCCCCN(C)c1ccc(C#N)cn1', 'CCCNCC(C)Oc1cnccc1C', 'CC(CCc1ccccc1)Nc1ccccn1', 'CC(=O)OCC(=O)c1ccccc1', 'CCOCC(NC)c1cnccc1C', 'CC(CN)CNc1ccncc1C#N', 'N#Cc1ccc(C2OCCNC2=O)cn1', 'CCNc1cc(CNC(C)C)ccn1', 'NN1C(=O)COC1=O', 'NCC(O)c1ccccc1S(N)(=O)=O', 'Cc1ccnc(C#CC(C)(C)O)c1', 'CNC(=O)CCCNc1cc(C)ccn1', 'CC12CCCC1C(=O)N2CC(N)=O', 'COC(=O)CCSc1ccncc1C#N', 'CCNc1cc(COC)ccn1', 'NCC(SCc1ccccc1)c1cccnc1', 'Cc1ccnc(NCC(C)CC(C)O)c1', 'CNCC(C)C(O)c1cnccc1C', 'NC1CC2(C1)NCCO2', 'COCC(COC)Nc1cc(C)ccn1', 'CCC(N)CNC(=O)c1cnccc1C', 'NC(=O)NC(=O)c1ccncn1', 'N#Cc1cccnc1NCCO', 'CC(NCCC1CCCCC1)c1ccccn1', 'CNCCCCc1cccc(C(=O)OC)c1', 'Cc1ccncc1CNC(=O)C(C)ON', 'CCC(Nc1cnccc1C)C(=O)OC', 'Cc1ccncc1NC(=O)C(C)N(C)C', 'COC(C)CN(C)c1ncccc1C#N', 'CNC(C)C(=O)c1cncnc1', 'N#Cc1cccnc1SCCN', 'Cc1ccncc1CNC(=O)CCN', 'CCC(CC)NCc1cc(C)ccn1', 'C=CC(=O)c1ncccn1', 'CCOC(Cc1ccccc1)OCC', 'N#Cc1ccc(-n2ccnc2)cn1', 'CC(=O)C(C)Cc1ccncn1', 'C#CCNCc1ccncn1', 'CCCc1ncc(N)c(O)n1', 'C#CC(=O)c1cnccc1C', 'Cc1ccncc1C(N)=O', 'CCC(N)CC(=O)Nc1cnccc1C', 'Cc1ccc(C#N)cn1', 'CC1CCCC(CC(N)=O)C1', 'CCCC(CC)Nc1cccc(NCC)n1', 'CCNS(=O)(=O)c1ncccc1C#N', 'CC(N)COCc1ncccn1', 'CN1CCCc2cccc(CCON)c21', 'S=C=Nc1cncnc1', 'CCOC(=O)c1ccncc1C#N', 'CN(CCC(N)=O)c1ccncc1C#N', 'C#CCOC(=O)Nc1ccc(C#N)cn1', 'CNc1nc(N(C)C)ncc1N', 'CCCC(O)CCNc1ccc(C#N)cn1', 'CCC(C)(C)CCOc1cnccc1C', 'Cc1ccnc(NCCCCO)c1', 'CC(C)OCCNC(N)=NCc1ccccc1', 'OCC(CC1CCCCC1)NCc1ccncc1', 'Cc1ncccc1CC(N)=O', 'Cc1ccnc(CNC(C)C(C)N)c1', 'Cc1ccsc1-c1cncnc1O', 'CN(C)c1ccncn1', 'Cc1ccncc1C(=O)N(C)C', 'CCC=C1CCC(N)CC1', 'CC(O)(CN)c1ncccn1', 'Cc1ccncc1CN(C)CC(C)(C)N', 'OCC(NCc1ccccc1)c1ccncc1', 'CNC(=N)SCc1cncc(C#N)c1', 'Cc1ccncc1CNCC(C)(C)N', 'CCC(C)CC(C#N)Nc1ccccc1', 'CCOC(=O)Cc1ncccn1', 'c1ccc(CCNCCOC2CCCCC2)nc1', 'CC(C)C(CO)CNCCc1ccccc1', 'N#CCC(N)c1ccncn1', 'CCC=CC(=O)C=Cc1ccccc1', 'CCC(Nc1cc(C)ccn1)C(C)N', 'N#CC(N)c1ccncn1', 'CCCCCC(N)c1cc(C)ccn1', 'N#Cc1ccc(C2COCCCN2)o1', 'CCN(C)CCNCc1cnccc1C', 'CSc1ncc(N)c(O)n1', 'N#Cc1ncccc1N1CC2CC2C1', 'CCC(N)CCN(C)Cc1ccccc1', 'CC(C)CC(NO)c1ccccc1', 'N#Cc1cccc(C2NCCNC2=O)n1', 'CC(N)COCc1cncc(C#N)c1', 'Cc1cscc1C1NCCCC1O', 'c1cncc(CNCCOC2CCCCC2)c1', 'Cc1ccncc1NS(C)(=N)=O', 'N#Cc1ccc(-n2cnnc2)cn1', 'CCC(CS)CN(CC)c1ccccc1', 'CCNC(CC)Cc1ccccc1', 'CC(=O)NNC(C)c1ccccc1', 'C=CC(C)Nc1ccncn1', 'O=C(CC1CCCC1)Nc1cccnc1', 'CCCCC(CC)CSc1ccccc1', 'Cc1ccncc1C(N)C(O)C(C)C', 'Cc1ccnc(OCC(C)N)c1', 'COC(C)(C)C(NN)c1cnccc1C', 'CC#CCNCc1ccncn1', 'CSCC(N)c1ccncn1', 'CNC(C)CC(C)(C)c1cnccc1C', 'CC(O)Cc1ccc2c(c1)CCCN2C', 'CC(=O)Nc1ccc(O)nc1', 'CCNc1ncccc1OCC', 'NC1CCc2scnc21', 'CNCC(C)Sc1ncccn1', 'CC=CC(NC)C(O)c1cnccc1C', 'CC(CCN)CNC(C)COCc1ccccc1', 'CCNc1ncccc1CSCCN(C)C', 'Cc1ccnc(C(CN)CO)c1', 'C#CCCCCCSc1ccccc1', 'CCNc1cc(NCCC(C)C)ccn1', 'C#CC(CO)Nc1ccnc(NCC)c1', 'N#Cc1cccc(N2CCCO2)n1', 'Cc1ccncc1CNC(C)(C)CCO', 'Cc1ccnc(CNS(N)(=O)=O)c1', 'CSCCNCc1cncc(C#N)c1', 'N#CC1CC(CCN)C1', 'CNC(COC(C)C)c1cnccc1C', 'N#Cc1ncccc1C1CC(=O)CCN1', 'CCC(C)Sc1ccncc1C#N', 'CC(N)c1cc(C#N)sn1', 'CC(C)Oc1ncc(N)cn1', 'SCCc1cncnc1', 'CCCCNc1ccncn1', 'CCSCCC(C)Nc1ncccc1C#N', 'COCCNc1ccncn1', 'CCNCC(O)c1ccncn1', 'C#CC(C)NC(=O)COCc1ccccc1', 'Cc1ccccc1N(C)CCC1CNCCN1C', 'Cc1ccncc1CNC(C)C(C)O', 'CC(O)c1ccc2c(c1)CCCN2C', 'CCCN(Cc1ccccc1)CC(N)COC', 'CC(Cc1ccccc1)NCCc1cccnc1', 'Cc1ccsc1C1CC(O)C12CCCC2', 'CCNCCCc1cnccc1C', 'NC1Cn2cncc2C1=O', 'CCCN(CC)CCSc1ccccc1', 'CC(O)(CCN)CCCOCc1ccccc1', 'CC(N)CCSCCCc1ccccc1', 'NNc1ccccc1S(N)(=O)=O', 'COCC#CCNCc1cc(C)ccn1', 'CCNc1cc(COCC(C)C)ccn1', 'CC(C)c1ccncn1', 'NC1CCS(=O)(=O)CC1=O', 'COCCNC(=NN)Nc1cnccc1C', 'Cc1ccncc1CCC(=O)C(C)C', 'Cc1ccncc1C(=O)NCC(C)(C)N', 'CC#CCC(O)COc1ccccc1', 'CC(=O)Nc1cn(C)cn1', 'NC1CCC1', 'C=C(C)Cc1cncnc1', 'CCCNCc1cccc(NCC)n1', 'C#Cc1ncccn1', 'CCN(CC)c1ccc(C(=O)OC)cc1', 'CCCC(NC)c1ncccn1', 'COCCCCNc1ccncc1C#N', 'CNCCC(O)c1cncnc1', 'OC(=NCc1ccccc1)c1ccncc1', 'N#Cc1cccnc1NCCOC(N)=O', 'Cc1ccsc1C1CCCCCC1O', 'C#CCc1cccc(C(=O)OC)c1', 'CC(O)CCCNc1ccc(C#N)cn1', 'O=C(C#Cc1ccccc1)c1cccnc1', 'COCCC(=O)c1ccncn1', 'CNC(=NCc1cc(C)ccn1)NC', 'CC#CCOc1ncccc1C#N', 'Cc1ccncc1C(O)CC(C)(C)C', 'C#CCNCC(=O)NCc1ccccc1', 'C#CC(C)N(C)c1cc(C)ccn1', 'Cc1ccsc1C1(O)CC2CCCC21', 'CC=CC(NC)c1ncccn1', 'CC#CCCNCc1cnccc1C', 'CNC(C)c1cncc(C#N)c1', 'CC=CC(=O)Nc1cc(C)ccn1', 'C#CC(C)Nc1ccncn1', 'NC1=NC(=O)CN1', 'CCNc1ccc(COC)cn1', 'COC(Cc1cc(C)ccn1)C(=O)O', 'CN1CCCc2c(CO)cccc21', 'C#CC(N)c1cncnc1', 'N#Cc1ccc(C2COC(=O)C2)cn1', 'CC(Cc1ccccc1)NOC(C)(C)C', 'N#Cc1ccccc1S(N)(=O)=O', 'CC(=O)C(O)c1cc(C)ccn1', 'COC(C)CCC(=O)Nc1cnccc1C', 'CNc1ccc(C#N)cn1', 'NC12CC(C1)C2', 'N#CCc1ncccc1C#N', 'CC(CCN)c1ccc2c(c1)CCCN2C', 'NC(Cc1ccncc1)c1ccccc1', 'Cc1ccncc1C(C)NN', 'CNC(C)CNc1ccncn1', 'CCCC(CC)Nc1cnccc1C', 'Nc1cncnc1O', 'CC(c1cccs1)N1CCC(O)CC1', 'CC(C)=C1CC(N)C12CCC2', 'OC1(Cc2ccsc2)CCC1', 'NC1Cn2nccc2C1=O', 'CCNc1cccc(C(=O)O)n1', 'c1ccc(CONCCNc2ccccn2)cc1', 'CCNCCc1ccc(C(=O)OC)cc1', 'CCSCCCNCc1cnccc1C', 'COCCNCCNc1cc(C)ccn1', 'O=C(CNc1ccccn1)NC1CCCCC1', 'Cc1ccncc1COC(CN)C(C)C', 'CC#CCSCc1cc(C)ccn1', 'C#CCCNc1ccccc1S(N)(=O)=O', 'CC(=O)COc1cncnc1', 'C#CCC(O)CNCc1cnccc1C', 'NC1C2CC3C(C2)C13', 'CC(C)NC(=N)c1ncccn1', 'CCNCC(=O)c1cnccc1C', 'COCC(C)CNc1ccncc1C#N', 'CCC(C=O)=Cc1cnccc1C', 'NC(=NO)C(CNCCCO)c1ccccc1', 'CCC(C)CC(NN)c1cnccc1C', 'C=C1CC(N)C1', 'CCC(C)CCC(=O)Nc1cnccc1C', 'CCCNCCNc1ccc(C#N)cn1', 'COC(=O)c1ccc(OCCCS)cc1', 'CCC(C)(N)Cc1ccncn1', 'CCCCCNC(C)c1cc(C)ccn1', 'N#CC#Cc1ccccc1', 'NCCCN(Cc1ccccn1)C1CCCCC1', 'NC(COCc1ccccc1)Cc1ccccn1', 'Cc1ccncc1NC(=O)CC(N)=S', 'N#Cc1ccc(N2CC3CC2CN3)cn1', 'OC1CCN(CC2CCCO2)CC1', 'COC(=O)COc1ccncn1', 'CCNC1(C#N)CC2CCCCC21', 'OC1CCN(CCc2ccsc2)CC1', 'N#Cc1ccc(NCC(N)=O)nc1', 'NC12C3CC1CC2C3', 'CNC(=O)c1cncc(C#N)c1', 'N#Cc1cccc(C2CCC(=O)N2)n1', 'N#Cc1cccc(N2CCCCC2)n1', 'COCCCNCc1cnccc1C', 'CCNC(C)CC(=O)Nc1cnccc1C', 'C#CCC(NC)c1cc(C)ccn1', 'NN(c1ccccc1)c1ccccn1', 'COC(=O)C(C)Cc1cnccc1C', 'COC(C)CNC(C)c1cnccc1C', 'Cc1ccnc(NC(C)CC(=O)O)c1', 'Cc1ccncc1NC(=O)C(N)C(C)C', 'N#Cc1cncc(CNCCC(N)=O)c1', 'N#Cc1ccc(N2CCCCC2)cn1', 'C=C(C)CN(C)c1ccnc(NCC)c1', 'CN=C(N)SCc1cncc(C#N)c1', 'Cc1ccncc1COCCNC(C)C', 'C#CC(O)c1cc(C)ccn1', 'C#CCONCc1ncccn1', 'NCC1CCCCN1Cc1ccsc1', 'CCNC1(C#N)CCC2CCC1O2', 'C=CCOC(=O)c1ccccc1', 'CN(C)CC(O)c1cncnc1', 'CC(O)(Cc1ccccc1)c1cccnc1', 'Cc1ccncc1C(O)CC(C)N', 'Cc1ccsc1C1(O)CCCNCC1', 'CC(=O)NCCSc1ncccc1C#N', 'OC(CNCc1cccnc1)c1ccccc1', 'N#CCC(Sc1ccccn1)c1ccccc1', 'CN1CCC(C(O)C#N)c2ccccc21', 'COC(=O)Nc1cc(C)ccn1', 'NCc1ncccc1N1CCCOCC1', 'CC(CNCc1ccccc1)c1ccncc1', 'CNC(CCO)c1cnccc1C', 'O=C(COc1ccccc1)Nc1ccccn1', 'CCOCCNC(C)c1cc(C)ccn1', 'CN(c1ccncc1C#N)C(C)(C)CN', 'COc1ncc(N)c(C(=O)O)n1', 'CC(C)CC=C1CCCCC1N', 'C=C=CCC(O)CCc1ccccc1', 'Cc1ccncc1CNC(C)CN(C)C', 'CN1CCCc2c(CCC#N)cccc21', 'CNCc1cccc(S(N)(=O)=O)c1', 'CNC(c1cc(C)ccn1)C(C)C', 'CCOC(=O)CNC(=O)c1ccccc1', 'NCCOc1cccc(S(N)(=O)=O)c1', 'CCNC(COC)c1cc(C)ccn1', 'COC(=O)c1ccccc1CNCC(C)O', 'OC1CC2CCC1N(Cc1ccsc1)C2', 'CC1CCCNC1CC(N)=O', 'CCCNC(c1ccccc1)C(C)O', 'CCNC1CCNCCC1C#N', 'CSCCCN(C)c1ncccc1C#N', 'N#Cc1cccc(OCCN2CCOCC2)c1', 'CC(C)CCNC(=O)Oc1ccccc1', 'CNCCCc1ccccc1', 'C=C(CSc1ncccn1)OC', 'CCC(CC)C(N)c1cnccc1C', 'Cc1cncc(=O)n1CC(N)=O', 'COC(=O)NCCNc1cc(C)ccn1', 'CNCC1CCCN(Cc2ccsc2)C1', 'CC1C2CNCC2CN1CC(N)=O', 'c1ccc(CCNC2CCCCC2)nc1', 'C=C(CC)CNc1ccc(C#N)cn1', 'CC=CCNS(=O)(=O)c1ccccc1', 'CC(N)c1cc(C#N)ns1', 'COCCNc1ncncc1N', 'CCCN(C)c1ccnc(NCC)c1', 'CSCC(C)C(N)c1cnccc1C', 'CCNC1(C#N)CCCNC1', 'CCC(CCO)Nc1ncccc1C#N', 'CCCNC(C)c1ccc(C#N)cn1', 'CCCCOC(=O)c1ccc(C#N)cn1', 'CCCC(O)c1ccncn1', 'CCNc1ncccc1C(=O)OCC', 'OCCNCc1cncnc1', 'C#CCNCCCc1cnccc1C', 'NCC(COc1cccnc1)C1CCCCC1', 'CN(C)NCc1ncccn1', 'Cc1ccncc1C(C)(C)CON', 'CON(CCN)Cc1cncc(C#N)c1', 'CC(N)c1ncc(C#N)s1', 'Cc1ccnc(NCCCNC(C)C)c1', 'NCC(c1ccccc1)c1cccnc1', 'CCCONCc1ncccn1', 'C#CCN(c1ccncc1C#N)C(C)C', 'CC(C)C(C)N(C)CCc1ccccc1', 'COC(=O)c1ccccc1NC(=O)CSC', 'CC(C)=CC(=O)Nc1cc(C)ccn1', 'CC(CN)(CCCCO)c1ccccc1', 'SCC(CSc1ccccn1)c1ccccc1', 'CCC(C)CNCc1ccccc1C(=O)OC', 'CNC(Cc1ccccc1)C(N)=O', 'Cc1ccsc1-c1ccc(O)cn1', 'CCOC(=O)c1ncccn1', 'CC(=O)C(C)Cc1ncccn1', 'COCCNC(C#N)c1cnccc1C', 'C#CCC(CC)Nc1ccc(C#N)cn1', 'CCC(C)(C)NCc1cncc(C#N)c1', 'N#Cc1ccc(C2CNCCOC2)s1', 'OCCNc1ccncn1', 'COC(=O)c1ccccc1CCCS', 'C=CC(CO)Nc1ccncc1C#N', 'Cc1cccc2c1CCCN2C', 'NC1CNCCOC1', 'CCCC(C)NCc1cncc(C#N)c1', 'COC(=O)c1cccc(C=CCO)c1', 'N#CC=C(c1ccccc1)c1ccncc1', 'COC(=O)c1cccc(O)c1', 'N#Cc1cnccc1OCCO', 'CC1CN(CC(N)=O)CCC1=NO', 'COC(C(N)=S)c1ncccn1', 'CC(C(=O)NO)C(N)c1ccccc1', 'CC(CCCc1ccccc1)=NO', 'Cc1ccncc1COCCN', 'CCN(CC)Cc1ccc(C#N)cn1', 'CC(N)c1nnc(C#N)o1', 'CCCC(C)(C)Nc1cc(C)ccn1', 'CCNc1cccc(NCC(C)O)n1', 'N#Cc1csc(C2CCNCCO2)c1', 'CC(C)(O)CNc1ccc(C#N)cn1', 'CCNc1cccc(OC(C)CC(C)C)n1', 'Cc1ccsc1-c1cncc(O)c1', 'N#CCCc1ncccn1', 'CNCC(O)c1ccc(C(=O)OC)cc1', 'CSCC(C)CNc1ccncc1C#N', 'CSC(C)CNc1cc(C)ccn1', 'N#Cc1ncccc1N1CCCC1', 'C=CCC(C)C(=O)c1cnccc1C', 'CC(C)(N)COCc1ccccc1', 'Cc1ccncc1C(NC(C)C)C(=O)O', 'N#Cc1ccc(C2CNC(=O)C2)cn1', 'Cc1ccnc(N(C)C(C)(C)CO)c1', 'CN(CC=O)c1ncccc1C#N', 'NOCCNc1ccccc1S(N)(=O)=O', 'C#CCNCCOc1cnccc1C', 'CC12CSCC1CN(CC(N)=O)C2', 'C=CC(C)Oc1ccnc(NCC)c1', 'N#Cc1cccc(-c2nnco2)n1', 'CNCCc1cc(C)ccn1', 'Cc1ccncc1NCCCC(C)C', 'CCCN(C)Cc1cccc(NCC)n1', 'NC1CC(=O)N2CCCC12', 'OC1CCN(CC2CCSC2)CC1', 'O=C(Cc1ccncc1)Nc1cccnc1', 'CN(C)CCCSc1ccc(C#N)cn1', 'COc1cccc2c1N(C)CCC2', 'CCNc1ncccc1CN(C)CC', 'N#Cc1cc(N2C3CCC2CC3)ccn1', 'COCC(O)c1ccccc1C(=O)OC', 'CCNCC(Cc1cccnc1)c1ccccc1', 'CS(=O)(=O)NCCN1CCOCC1', 'COCCCC(N)CCc1ccccc1', 'CCOC(=O)CCC=Cc1ccccc1', 'CC(C)=CCCc1cnccc1C', 'CCNc1ncccc1CNCC(C)C', 'COC(=O)c1ccc(NC(C)=O)cc1', 'CC(CN(C)C)Nc1ccc(C#N)cn1', 'CSCCCNc1cnccc1C', 'C=CC(C)(C)Nc1ncccn1', 'C=CC(N)c1ccc2c(c1)CCCN2C', 'C=CCSc1ccnc(NCC)c1', 'CC1CCCCN(CC(N)=O)C1=O', 'CC(=O)C(C#N)c1ccncn1', 'C=C(C)CN(C)c1cc(C)ccn1', 'CCOCCN(CC)c1ccc(C#N)cn1', 'SCC=CCSc1ccncn1', 'CCSCC(C)Nc1ccncc1C#N', 'CC(=O)CCCC(C)c1ccccc1', 'CC=CCS(=O)(=O)c1ccccc1', 'COc1nc(N(C)C)ncc1N', 'C#CCC=C1CCCCC1N', 'Cc1ccncc1CNC(=O)CC(=O)O', 'Cc1ccncc1OC(C)C(C)O', 'CC(C)C(C)SCc1cncc(C#N)c1', 'CCCCC(C)(N)c1cnccc1C', 'CC(C)NCCOc1ccc(C#N)cn1', 'COC(CN)CC(c1ccccc1)C(C)C', 'O=C(Cc1ccon1)Nc1cccnc1', 'NS(=O)(=O)c1ccccc1C#CCO', 'CC(N)C(C)C(O)Cc1ccccc1', 'CC(NO)c1ccncn1', 'CNCC(C)Oc1ccncc1C#N', 'Cc1ccnc(CSC(C)C)c1', 'CC(Cc1ccncc1)NCc1ccccc1', 'CN1CCCc2c(C(O)C#N)cccc21', 'CCCC(=O)Nc1ccc(C#N)cn1', 'CCC(CCc1ccccc1)C(=O)OC', 'Cc1ccncc1CC(N)=NO', 'CC(C)(C)CC=C1COCC1N', 'CCCOCc1ccnc(NCC)c1', 'C=CCCCOc1cccc(NCC)n1', 'Cc1ccncc1C(=O)NOCC(=O)O', 'CCC(O)C(C)(C)c1ccccc1', 'Cc1ccncc1CCCCNCC(C)C', 'CC(CCN)SCCOc1ccccc1', 'OC1CCC2CC1CN2Cc1ccsc1', 'CCCCSc1ccc(C#N)cn1', 'NC1COC2(COC2)C1', 'C=CCC(COCc1ccccc1)NN', 'CCN(CCCCO)Cc1ccccc1', 'CCCN(OC)c1ccnc(NCC)c1', 'COC(=O)c1cccc(CCS)c1', 'CSCCNc1ccccc1S(N)(=O)=O', 'Cc1ccnc(C(N)CS)c1', 'CCCNCc1cccnc1NCC', 'CCCCNC(=O)Nc1ncccc1C#N', 'N#Cc1ccc(NCC=CCN)nc1', 'CC(O)CN(C)c1ncccc1C#N', 'NC1=NC(=O)C2(CC2)S1', 'C=CC=C1CCOCC1N', 'Cc1ccsc1C1(O)CCCC12CC2', 'CCOC(=O)C(N)CCc1cnccc1C', 'C=CCNc1ncncc1N', 'N#Cc1cccc(C2CCCNC2)n1', 'CCC(CNCc1ccncc1)c1ccccc1', 'NC(=O)CC1(c2cccs2)CCCCC1', 'CC=CCCNc1ncccn1', 'CCC(CC)(CO)Sc1cc(C)ccn1', 'NC(CCc1ccccc1)C(O)C(=O)O', 'Cc1ccncc1CNCCCN(C)C', 'N#Cc1cncc(CSCC(O)CO)c1', 'Cc1ccncc1CNC(C)(CO)CO', 'CC=CC(=O)NCCCCOCc1ccccc1', 'CCCNC(C)C=Cc1cnccc1C', 'CN1CCCc2cc(C(N)=NN)ccc21', 'CCNc1cc(NCC(C)SC)ccn1', 'CCCC(CN)Nc1cc(C)ccn1', 'CCC(C)CSc1ncccn1', 'CC(C)(N)COc1ncccc1C#N', 'CCNc1ncc(C#N)cc1C', 'CCCC(C)CC(=O)c1cc(C)ccn1', 'N#CCC1CCN(Cc2ccsc2)CC1', 'N#CCCc1ccncn1', 'NCCNc1ncc(N)cn1', 'CC(C)(c1ccccc1)C(O)CN', 'NC1COCC1=O', 'C=C(C)CCOc1cccc(NCC)n1', 'CC(=O)Nc1cncc(C#N)c1', 'CCNc1ccc(CSCC(C)CO)cn1', 'CCCOCCCNc1cc(C)ccn1', 'CCNc1cccc(CSC(C)(C)C)n1', 'C=CCSc1ccc(C#N)cn1', 'Cc1csc(C2OCCC2O)c1', 'CC=C1CCC(N)CC1', 'CC#CCC(NN)C(C)OCc1ccccc1', 'CC#CCCNCc1cc(C)ccn1', 'CCC(COC)NCCc1ccccc1', 'C#CCN(CCC)c1ccc(C#N)cn1', 'CCC(C)CNc1ncccn1', 'CNC(=N)c1cc(C)ccn1', 'CCNc1cccc(CNCC(C)C)n1', 'CN1CCCc2cc(C(N)=O)ccc21', 'COC(CCN)c1cc(C)ccn1', 'CC(C)(N)Cc1cncnc1', 'CC(=O)NOCc1ncccn1', 'CC(C)(C)OCc1cncc(C#N)c1', 'CC(C)(C)SCc1ccc(C#N)cn1', 'CCNc1ccc(CN(CC)OC)cn1', 'CCC(Nc1cnccc1C)C(=O)O', 'CNC(CCc1cnccc1C)C(C)C', 'CCCNC(=NN)c1cnccc1C', 'Cc1ccnc(C(C)(C)C(N)=S)c1', 'CN(CCC#N)c1cncnc1', 'CN(CCNCc1cccnc1)C1CCCCC1', 'CCNCCOc1ncccc1C#N', 'Cc1cnccc1CC(N)=O', 'NC1CC2CCSC2C1', 'Cc1ccncc1OCC(=O)O', 'N#Cc1cc(C2CCCCC2)ccn1', 'CC(CNc1ncccc1C#N)CC(=O)O', 'CNc1ncc(N)c(N)n1', 'CCC(C)Nc1ccncn1', 'CCCNCCN(C)CCOCc1ccccc1', 'Cc1ccncc1C(NN)C(C)C', 'CCNc1cc(N(C)CCC#N)ccn1', 'CN1CCCc2cc(CC(O)CN)ccc21', 'C#CCC(O)CNc1cc(C)ccn1', 'C=CCSCc1ccc(NCC)nc1', 'CC(=O)NC1(C)CCCNC1', 'C#CCN(C)c1ccccc1C(=O)OC', 'Cc1ccnc(CC(N)C(=O)O)c1', 'O=C(CC1CCCCC1)Nc1ccnnc1', 'O=C1CCCC(CN2CCC(O)CC2)C1', 'CCCNC(=N)SCOCc1ccccc1', 'N#Cc1ccc(OCC(=O)O)nc1', 'CNC(C)CCc1cncnc1', 'CCCC(=N)NCc1cc(C)ccn1', 'CC(=O)NCCNc1ccncc1C#N', 'COC(=O)c1nscc1S(N)(=O)=O', 'CC1CCCN(CC(N)=O)C1=O', 'CCC(C)CNCc1cc(C)ccn1', 'COCCCC(=O)COCc1ccccc1', 'CCNC(C)CC(OC)c1ccccc1', 'OC1(Cc2ccsc2)CCSC1', 'CC#CCCNC(C)c1cnccc1C', 'CCC(Nc1cc(C)ccn1)C(=O)O', 'OC1CCN(CC2CCNC2)CC1', 'C=CCCCC(=O)c1cc(C)ccn1', 'CCNCC#Cc1ccncn1', 'CC(C)C(=O)COCc1ccccc1', 'C=CC(N)C=Cc1ccccc1', 'Cc1ccnc(NC(=O)C(C)S)c1', 'CCNC(c1cc(C)ccn1)C(C)CC', 'N#Cc1ccc(CCC2CNCCO2)cc1', 'CC(C)C(C)C(CN)NCc1ccccc1', 'CC(N)c1cc(C#N)no1', 'COC(=O)c1cccc(NCC(C)C)c1', 'CN1CCCC(CC(N)=O)C1', 'O=C(CC1CCNCC1)Nc1cccnc1', 'CC(C)C(N)CCCOc1ccccc1', 'CNCC(=Cc1ccncc1)C1CCCCC1', 'CN(CCCNc1ccncc1)c1ccccc1', 'CC(CCCO)NC(=O)CSc1ccccc1', 'NNC(c1cccnc1)C1CCCCC1', 'CC(Cc1ccsc1)N1CCC(O)CC1', 'CCONCc1cncc(C#N)c1', 'CCC(O)(CN)c1cnccc1C', 'NC1CC(=O)C2SC=CC12', 'COCC(N)c1ccncn1', 'COC(C)C(C)(O)c1cnccc1C', 'N#Cc1ccc(C2CNCCCO2)s1', 'Nc1c(O)ncnc1S', 'CCC=CCNc1ccncn1', 'C#CCCCCNc1ncccc1C#N', 'CC(O)(C=O)c1cncnc1', 'CS(=O)(=O)Nc1ncccc1C#N', 'CCNC1(C#N)CC2COCC21', 'CN1CCCc2cccc(CC(=N)N)c21', 'CC(=O)NC1(C)CCOC1', 'Nc1ccns1', 'N#Cc1ccc(NCCOC(N)=O)nc1', 'CC(CN)(c1ccccn1)C1CCCCC1', 'Cc1ccncc1CC(N)C(C)C', 'N#CCc1cncc(C#N)c1', 'CC1CNC(=O)N(CC(N)=O)C1', 'CC(C)CCNCC(C)Oc1ccccc1', 'COC(C)CC(O)c1cnccc1C', 'C=CCCCC(O)c1cc(C)ccn1', 'CC(CNCc1ccccn1)Oc1ccccc1', 'COCCN(C)Cc1cncc(C#N)c1', 'NC1COCOC1', 'NC1CC12CCSCC2', 'COCC(C)=C1COCC1N', 'CCNC(C(=O)OC)c1cnccc1C', 'CC(=CCNCc1ccccc1)C(=O)O', 'CCCC=C1CCCC1N', 'CCC(N)C(=O)NCc1cc(C)ccn1', 'C#CCNC(CC)C(C)c1ccccc1', 'CC(C)c1nc(O)ncc1N', 'COC(=O)c1ccc(CCC=O)cc1', 'CC(C)OCCOc1ccncc1C#N', 'CC#CCC(NN)c1cc(C)ccn1', 'O=CC1CCCN(Cc2ccsc2)C1', 'NC1=NC2(COC2)C(=O)N1', 'NC1CC12CCC(=O)CC2', 'CC(CCNCc1cccnc1)c1ccccc1', 'CC1CCN(CC(N)=O)C(=O)C1', 'CC(NCCC1CCCCC1)c1cccnc1', 'Cc1ccncc1CC#N', 'CCNC(CN)c1ccncn1', 'N#Cc1cccnc1OC(=O)CO', 'NC1CNC(=O)CCC1=O', 'C=CC(=O)c1cnccc1C', 'CCOCC(=O)NOCc1ccccc1', 'COC(C)CC(N)c1cnccc1C', 'CC(O)CC(c1ccccc1)C(C)C', 'CCCOc1ccnc(NCC)c1', 'CC(O)CNc1ccncn1', 'N#Cc1ncccc1C1CC(=O)CO1', 'N#Cc1ccc(NOCC(=O)O)nc1', 'Cc1ccncc1C(C#N)NC(C)C', 'CCCCN(CCO)c1cc(C)ccn1', 'COC(=O)Nc1cncnc1', 'N#Cc1ccc(NO)nc1', 'Cc1ccnc(SCCCO)c1', 'Cc1ccnc(NC(=O)NCC(C)O)c1', 'NC1Cc2sccc2C1=O', 'NC1CC(=O)c2cscc21', 'CCNCC(O)CCN(C)Cc1ccccc1', 'CSC(C)(C)C(NN)c1cnccc1C', 'COC(=O)c1ccccc1OC(C)(C)C', 'CC(CO)(NCCN)c1ccccc1', 'CC(CC(N)=O)Nc1ccncc1C#N', 'NC(COCc1ccccc1)Cc1ccncc1', 'CCS(=O)(=O)c1ncccn1', 'Cc1ccnc(CNCCCCO)c1', 'CON(CCN)c1ccncc1C#N', 'CN1CC(CCO)Cc2ccccc21', 'C=CCCCC(C)Nc1cc(C)ccn1', 'Cc1ccccc1CCNCC1CNCCN1C', 'CC(C)(C)NCC(O)COc1ccccc1', 'COC(CO)c1cncnc1', 'CCc1ccccc1', 'CCNc1ccc(CC(=O)OC)cn1', 'COC(=O)c1cccc(C=NN)c1', 'CCNc1ccc(CN(C)OCC)cn1', 'CCC(=Cc1cnccc1C)CN', 'O=C(CSC1CCCCC1)Nc1ccncc1', 'CCCOC(=O)c1cncnc1', 'Cc1ccsc1C1CC(O)CN1', 'CCNC(=NN)c1cnccc1C', 'NCC(Cc1ccccn1)C1CCCCC1', 'Cc1ccncc1C(N)C(C)C(C)C', 'Cc1ccncc1CNC(=O)OC(C)C', 'CC(SCCOCc1ccccc1)C(=O)O', 'CC(N)CC(=O)NCc1ccccc1', 'CC(C)NCC(N)CCc1ccccc1', 'CC(N)(CO)c1ncccn1', 'O=C(NNc1ccccn1)NC1CCCCC1', 'Cc1ccncc1C(N)CSCC(C)C', 'CCC(CC)c1ncc(N)cn1', 'C=CC(Oc1cnccc1C)C(=O)OC', 'Cc1ccnc(CON)c1', 'CCSCC(C)NCc1cc(C)ccn1', 'CCCN(CC)c1cccc(NCC)n1', 'CCC(CC)CC(=O)c1cnccc1C', 'CN1CCCc2cc(OCCC#N)ccc21', 'C(=Cc1ccccc1)CNc1cccnc1', 'N#Cc1cccc(C2CCOCCN2)n1', 'CC=CC(=O)C(N)Cc1ccccc1', 'NC12CCCC1CCC2', 'Cc1ccnc(CNC(C)(C)C)c1', 'O=C1CCCCC1(O)Cc1ccsc1', 'CC(=O)NCC1CCCCN1Cc1ccsc1', 'C=COc1cnccc1C', 'CCC(CO)N(C)C(=O)c1ccccc1', 'C=CC(C)(C)CNc1ncccc1C#N', 'CCC(CC)Nc1ccccc1C(=O)OC', 'CN1CCC(C=O)c2ccccc21', 'O=C(O)CNc1ccncn1', 'O=C(O)CCCCC=Cc1ccccc1', 'CN(N)C(=O)c1ccc(C#N)cn1', 'CNc1cncc(N2CCCOCC2)c1', 'CCC(O)C(C)Nc1cc(C)ccn1', 'N#CCNC(=O)CCCc1ccccc1', 'CC#CCC(CSc1ccccc1)NN', 'CC(C)CC(C)Nc1ccc(C#N)cn1', 'CC(O)CC(C)c1cncnc1', 'CCCN(C)Cc1cncnc1', 'Cc1ccncc1C(CC(C)C)NN', 'CN(C)Cc1ncc(N)c(O)n1', 'NC1CC2CC(=O)CC2C1', 'C=CC(CO)NC(C)c1cnccc1C', 'Nc1cnncn1', 'CC(C)CCN(N)c1ccccc1', 'COCC(C)CC(N)c1cnccc1C', 'C(=Cc1ccccn1)c1ccccc1', 'CN(CC(=O)O)c1ccc(C#N)cn1', 'C=CCCc1cc(C)ccn1', 'CONCCNc1ncccc1C#N', 'CC1NC(=O)N(CC(N)=O)C1=O', 'C#CC(=O)c1ccncn1', 'COCCOCCOc1cnccc1C', 'CNC(C)(C)CNCc1cnccc1C', 'CC(C)N(C)c1ccc(C#N)cn1', 'CC(O)C=CC=Cc1ccccc1', 'CCC(N)CNc1ccncn1', 'N#CCC(=O)Nc1ccc(C#N)cn1', 'CCNC(=N)c1cc(C)ccn1', 'CN(C)CCNc1ccncc1C#N', 'CC(CCO)SCC(O)COCc1ccccc1', 'CCNc1ncccc1CSC(C)C', 'C=C(C)CN(C)c1cccc(NCC)n1', 'CC(C)(O)CNc1ccncc1C#N', 'C=C1CON(c2ccnc(C#N)c2)C1', 'O=C(Cc1ccsc1)Nc1cccnc1', 'C=C1CC(N)C12CCC2', 'COC(C)(C)CNc1cc(C)ccn1', 'CCNC(C)(C)C(=O)c1cnccc1C', 'Cc1ccncc1C#CC(C)N', 'CCNc1sc2c(c1C#N)CCC2', 'NC1C(=O)SC12CCC2', 'CCC=CCNc1ncccn1', 'CC(C)=CCCNc1ccc(C#N)cn1', 'CCC(CC)NCc1ccc(C#N)cn1', 'CC=CC(=O)c1cnccc1C', 'CC(CC1CCCCC1)NCc1ccncc1', 'O=C(CCc1ccccc1)c1cccnc1', 'CCNc1ccc(CN(C)OC)cn1', 'CC(C)CCCNc1ccc(C#N)cn1', 'CC(C)(N)COCc1cncc(C#N)c1', 'Cc1ccncc1C(O)C(C)CCN', 'CC(C)(C)C(O)c1ncccn1', 'C=CCCC(N)c1cc(C)ccn1', 'Cc1ccncc1C(C)(N)CCN(C)C', 'CCC(CC(=O)OC)Nc1ccccc1', 'CC(C)CCSc1ccncc1C#N', 'C=CC=CCCC(O)c1cc(C)ccn1', 'O=C(CC1CCCCC1)NC1CCCOC1', 'CCNC(C#N)c1cnccc1C', 'CCNc1ccc(C(=O)OC)cn1', 'CCNS(=O)(=O)CC1CCCC1', 'N#CC1CCC(CCN)C1', 'N#Cc1cc(N2CCNNCC2)ccn1', 'COC(=O)c1cccc(C(N)N=O)c1', 'NC(Cc1ccncn1)C(=O)O', 'Cc1ccsc1C1(O)CCC2CCCC21', 'CC(C)SCC(O)(CN)c1ccccc1', 'CN1CCC(OC2CCC(=O)CC2)CC1', 'Cc1cnn(CC(N)=O)c(=O)c1', 'CCSc1ncc(N)cn1', 'Cc1cscc1C1NCCCCC1O', 'O=C(CSc1ccccn1)NC1CCCCC1', 'COCCNc1ccncc1C#N', 'CC(CC(=O)O)c1ncccn1', 'CCNC1CCCOC1C#N', 'CCC(N)C(CC)(CCO)c1ccccc1', 'CC12CC(CO1)N(CC(N)=O)C2', 'CC(C)NC(=O)c1ccncn1', 'CC(CN)C(=O)NCCOCc1ccccc1', 'O=C(O)C=Cc1ncccn1', 'CC(C#N)Cc1cccc2c1CCCN2C', 'Cc1ccnc(CCON)c1', 'CN(CC1COCCN1)c1ccccc1C#N', 'NN1CC(=O)NC1=O', 'CCNC(CCSC)c1cnccc1C', 'CCC(CN)C(=O)Nc1cnccc1C', 'CNCC(O)c1cncnc1', 'CC(=Cc1ccccc1)CCS', 'CC(C)C(C)OCc1cncc(C#N)c1', 'Cc1ccncc1CC(N)=O', 'NC1CCC2CC1CN2', 'N#CN(Cc1ccccc1)c1ccccn1', 'CCCC(=O)c1ccncn1', 'C=CCN(CCO)c1ccncc1C#N', 'COC(=O)c1ccccc1CCC(=O)O', 'O=C(O)CCSc1ccncn1', 'Cc1ccccc1OCCN1CCN(C)CC1', 'CCN(CC(=O)NC)c1ncccc1C#N', 'CCCCC(CC)COc1ccccc1', 'CCNc1cccc(NC(C)(CC)CO)n1', 'Cc1ccncc1C(N)CCN(C)C', 'CCC(CN)Nc1ccncn1', 'CCC(C)(C)C(NC)c1cnccc1C', 'COCCCN(C)c1ccc(C#N)cn1', 'CCNS(=O)(=O)Cc1cccnc1', 'COC(=O)c1ccccc1CCN=C=O', 'CCCSCc1cncc(C#N)c1', 'C=CCC(=O)Cc1ccccc1', 'C=CCN(CC)c1cc(C)ccn1', 'CCNc1ncccc1CN(C)CCO', 'c1cncc(CCNC2CCCCC2)c1', 'COC(C)(C)CC=C1CC(N)C1', 'CN1CCCc2ccccc21', 'CC(Cc1cccnc1)NC1CCCCC1', 'CCC(C)(C)c1ncc(N)cn1', 'C#CCC(CC)NCc1cnccc1C', 'Nc1cncnc1CO', 'Cc1ccncc1C(C)C(C)C(=O)O', 'COC(=O)C(c1cnccc1C)C(C)C', 'CNCCOc1ncccn1', 'Cc1ccnc(CNCCOC(C)C)c1', 'CC(C)(C#N)c1ncccn1', 'OCCC(c1ccccc1)c1ccncc1', 'NS(=O)(=O)c1ccccc1C=CC=O', 'Nc1ccncc1', 'NC1=CCNC(=O)N1', 'CCNc1cc(N(C)CC(N)=O)ccn1', 'CCN(CC)CCN(CC)Cc1ccccc1', 'CCCOCC(=O)c1cnccc1C', 'S=C(NCc1cccnc1)NC1CCCCC1', 'C#CC(C)Oc1ccnc(NCC)c1', 'COCSc1ccc(C#N)cn1', 'Cc1ccncc1CCC(=O)O', 'COC(=O)COC(N)COCc1ccccc1', 'C=CCCC=C1CCCC1N', 'CNCCCOc1cncnc1', 'NC(=O)c1ncc(N)cn1', 'CCNc1cccc(NCC(C)(O)CC)n1', 'Cc1ccnc(C(C)NCCC#N)c1', 'OC1(Cc2ccsc2)CCNC1', 'CCOCC(C)NC(=O)OCc1ccccc1', 'CCNc1cc(N(CC)C(C)C)ccn1', 'Cc1ccnc(NCCC(=O)N(C)C)c1', 'CC1CCN(Cc2ccsc2)CC1', 'O=C(COc1cccnc1)NC1CCCCC1', 'CCCCCCCOc1ccc(C#N)cn1', 'CCC(CC)=C1CCCCC1N', 'CCS(=O)(=O)CCNCCc1ccccc1', 'C#CCOCSc1ncccn1', 'CCCC(O)CNc1ncccc1C#N', 'C=CCNCC(=O)Nc1cnccc1C', 'CCCC(C)OCc1cncc(C#N)c1', 'Cc1ccnc(CNC(CO)C(C)C)c1', 'CCN(C)c1ccncc1C#N', 'COc1nc(SC)ncc1N', 'NC1CCCCS1(=O)=O', 'CN(CCO)C(C(N)=O)c1ccccc1', 'CCOc1ncnc(SC)c1N', 'CCOCC(N)c1cc(C)ccn1', 'CC(O)CN(C)c1ccncn1', 'CCNC1(C#N)CC2C=CC1C2', 'N#CCC(c1ccccc1)c1ccncc1', 'O=C(NCCc1ccncc1)NC1CCNC1', 'NS(=O)(=O)c1ccccc1NCCO', 'CCCNC(C)CCc1cnccc1C', 'CCCNC1CCCN(Cc2ccsc2)C1', 'NC1COCCOC1', 'CCCCC(O)c1cnccc1C', 'CN1CCCc2cc(C(=O)NN)ccc21', 'CNC(=O)CNCc1cncc(C#N)c1', 'C=C(C)CNCCCN(C)Cc1ccccc1', 'N#CC=Cc1ccncn1', 'CCN(CCN)c1ccncn1', 'CCNC(C)CNc1ncccc1C#N', 'NN1CCC2(CC1)CC2', 'Cc1ccnc(OCCCC(C)CN)c1', 'CON(c1ccncc1C#N)C(C)C', 'CNCCCCc1ccc2c(c1)CCCN2C', 'CCNC1(C#N)CC2CCC(C1)S2', 'COC(=O)c1ccc(C(C)SC)cc1', 'N#Cc1ncccc1N1CCC(=O)C1', 'CNCCSCc1cncc(C#N)c1', 'NC1=NC(=O)C(=CC(=O)O)S1', 'C=C(CC)CC(C)C(O)c1ccccc1', 'N#CCC(CN)c1cncnc1']\n"
          ],
          "name": "stdout"
        }
      ]
    },
    {
      "cell_type": "code",
      "metadata": {
        "id": "pb_9fTF3vMql",
        "colab_type": "code",
        "colab": {}
      },
      "source": [
        "# We join the sequence name and its predicted affinity and convert it into a dataframe\n",
        "df = pd.DataFrame(list(zip(fi, final_aff )), columns =['SMILES sequence', 'Binding Affinity']) "
      ],
      "execution_count": 0,
      "outputs": []
    },
    {
      "cell_type": "code",
      "metadata": {
        "id": "iGX-R2WkoD0F",
        "colab_type": "code",
        "outputId": "b8823634-1d5b-4ef1-c757-9897722e805c",
        "colab": {
          "base_uri": "https://localhost:8080/",
          "height": 206
        }
      },
      "source": [
        "df.head()"
      ],
      "execution_count": 74,
      "outputs": [
        {
          "output_type": "execute_result",
          "data": {
            "text/html": [
              "<div>\n",
              "<style scoped>\n",
              "    .dataframe tbody tr th:only-of-type {\n",
              "        vertical-align: middle;\n",
              "    }\n",
              "\n",
              "    .dataframe tbody tr th {\n",
              "        vertical-align: top;\n",
              "    }\n",
              "\n",
              "    .dataframe thead th {\n",
              "        text-align: right;\n",
              "    }\n",
              "</style>\n",
              "<table border=\"1\" class=\"dataframe\">\n",
              "  <thead>\n",
              "    <tr style=\"text-align: right;\">\n",
              "      <th></th>\n",
              "      <th>SMILES sequence</th>\n",
              "      <th>Binding Affinity</th>\n",
              "    </tr>\n",
              "  </thead>\n",
              "  <tbody>\n",
              "    <tr>\n",
              "      <th>0</th>\n",
              "      <td>Cc1ccc(C2CNCCN2C)cc1</td>\n",
              "      <td>-21.682052</td>\n",
              "    </tr>\n",
              "    <tr>\n",
              "      <th>1</th>\n",
              "      <td>CCOC(CO)c1ccccc1</td>\n",
              "      <td>-14.222270</td>\n",
              "    </tr>\n",
              "    <tr>\n",
              "      <th>2</th>\n",
              "      <td>CC(=O)Nc1cnn(C)n1</td>\n",
              "      <td>-23.436068</td>\n",
              "    </tr>\n",
              "    <tr>\n",
              "      <th>3</th>\n",
              "      <td>CCC(C)NCc1ncccn1</td>\n",
              "      <td>-19.540014</td>\n",
              "    </tr>\n",
              "    <tr>\n",
              "      <th>4</th>\n",
              "      <td>CC(C)=C1CC(N)C1</td>\n",
              "      <td>-19.953755</td>\n",
              "    </tr>\n",
              "  </tbody>\n",
              "</table>\n",
              "</div>"
            ],
            "text/plain": [
              "        SMILES sequence  Binding Affinity\n",
              "0  Cc1ccc(C2CNCCN2C)cc1        -21.682052\n",
              "1      CCOC(CO)c1ccccc1        -14.222270\n",
              "2     CC(=O)Nc1cnn(C)n1        -23.436068\n",
              "3      CCC(C)NCc1ncccn1        -19.540014\n",
              "4       CC(C)=C1CC(N)C1        -19.953755"
            ]
          },
          "metadata": {
            "tags": []
          },
          "execution_count": 74
        }
      ]
    },
    {
      "cell_type": "code",
      "metadata": {
        "id": "IsxDZWLNoGIC",
        "colab_type": "code",
        "colab": {}
      },
      "source": [
        "#Convert the dataframe into a csv named 'sub1.csv'\n",
        "file_name_csv= 'sub1.csv'\n",
        "df.to_csv(file_name_csv,index=False)\n"
      ],
      "execution_count": 0,
      "outputs": []
    },
    {
      "cell_type": "markdown",
      "metadata": {
        "id": "kB7QuGUS6SVZ",
        "colab_type": "text"
      },
      "source": [
        "**References**\n",
        "\n",
        "https://www.kaggle.com/vladislavkisin/tutorial-ml-in-chemistry-research-rdkit-mol2vec/data  (All the essential pre-trained libraries could be found in this kernel)\n",
        "\n",
        "\n",
        "https://medium.com/atomwise/machine-learning-for-drug-discovery-in-a-nutshell-part-ii-24f90d5963d9\n",
        "\n",
        "\n",
        "https://www.oreilly.com/library/view/deep-learning-for/9781492039822/\n",
        "\n",
        "\n",
        "**Dataset available in this challenge at AIcrowd**\n",
        "\n",
        "https://www.aicrowd.com/challenges/covid-drug-discovery-for-covid19"
      ]
    }
  ]
}